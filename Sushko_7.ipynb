{
  "cells": [
    {
      "cell_type": "code",
      "execution_count": 49,
      "metadata": {
        "id": "4F52ZqXPIyYg"
      },
      "outputs": [],
      "source": [
        "from surprise import accuracy, Dataset, SVD, Reader, KNNBasic, AlgoBase\n",
        "\n",
        "from surprise.model_selection import train_test_split, cross_validate, GridSearchCV\n",
        "\n",
        "import pandas as pd\n",
        "\n",
        "from collections import defaultdict\n",
        "\n",
        "import numpy as np"
      ]
    },
    {
      "cell_type": "markdown",
      "metadata": {
        "id": "pmGr331BJUMs"
      },
      "source": [
        "# Завдання 1"
      ]
    },
    {
      "cell_type": "code",
      "execution_count": 3,
      "metadata": {
        "colab": {
          "base_uri": "https://localhost:8080/"
        },
        "id": "_oK8fhUPJV64",
        "outputId": "93419a5a-2612-4c24-fe3a-4d15923ccbc0"
      },
      "outputs": [
        {
          "name": "stdout",
          "output_type": "stream",
          "text": [
            "Dataset ml-100k could not be found. Do you want to download it? [Y/n] Y\n",
            "Trying to download dataset from https://files.grouplens.org/datasets/movielens/ml-100k.zip...\n",
            "Done! Dataset ml-100k has been saved to /root/.surprise_data/ml-100k\n"
          ]
        }
      ],
      "source": [
        "# 1. Завантажте датасет для рецензій (ml-100k) за допомогою бібліотеки Surprise.\n",
        "\n",
        "df = Dataset.load_builtin(\"ml-100k\")"
      ]
    },
    {
      "cell_type": "code",
      "execution_count": 10,
      "metadata": {
        "colab": {
          "base_uri": "https://localhost:8080/"
        },
        "id": "N74Gq9hOJfo8",
        "outputId": "aaeeb7a9-d1a9-4b6b-9fcd-0a304709935b"
      },
      "outputs": [
        {
          "name": "stdout",
          "output_type": "stream",
          "text": [
            "(№ користувача, № фільму, бал, часова позначка)\n",
            "('196', '242', 3.0, '881250949')\n",
            "('186', '302', 3.0, '891717742')\n",
            "('22', '377', 1.0, '878887116')\n",
            "('244', '51', 2.0, '880606923')\n",
            "('166', '346', 1.0, '886397596')\n"
          ]
        }
      ],
      "source": [
        "# 2. Виведіть перші 5 рядків завантаженого датасету.\n",
        "\n",
        "print('(№ користувача, № фільму, бал, часова позначка)')\n",
        "for i in df.raw_ratings[:5]:\n",
        "  print(i)"
      ]
    },
    {
      "cell_type": "code",
      "execution_count": 11,
      "metadata": {
        "id": "g3YEaKq0V5KI"
      },
      "outputs": [],
      "source": [
        "#train_df, test_df = train_test_split(df, test_size = 0.2)"
      ]
    },
    {
      "cell_type": "markdown",
      "metadata": {
        "id": "slXjM2GZVstl"
      },
      "source": [
        "## Реалізаіця двох алгоритмім (SVD та KNNBasic)"
      ]
    },
    {
      "cell_type": "code",
      "execution_count": 24,
      "metadata": {
        "colab": {
          "base_uri": "https://localhost:8080/"
        },
        "id": "lO9ABz3OXiQr",
        "outputId": "83eec042-ff32-4169-cc20-30994a17b814"
      },
      "outputs": [
        {
          "name": "stdout",
          "output_type": "stream",
          "text": [
            "Computing the msd similarity matrix...\n",
            "Done computing similarity matrix.\n",
            "Computing the msd similarity matrix...\n",
            "Done computing similarity matrix.\n",
            "Computing the msd similarity matrix...\n",
            "Done computing similarity matrix.\n"
          ]
        }
      ],
      "source": [
        "# Список для збереження результатів\n",
        "benchmark = []\n",
        "\n",
        "for algorithm in [SVD(), KNNBasic()]:\n",
        "    # Крос-валідація\n",
        "    results = cross_validate(algorithm, df, measures = ['RMSE', 'MAE'], cv = 3, verbose = False)\n",
        "\n",
        "    # Отримання результаів та додавання імені алгоритму\n",
        "    tmp = pd.DataFrame.from_dict(results).mean(axis = 0)\n",
        "\n",
        "    # Об'єднання з tmp\n",
        "    algorithm_name = pd.Series([str(algorithm).split(' ')[0].split('.')[-1]], index = ['Algorithm'])\n",
        "    tmp = pd.concat([tmp, algorithm_name])\n",
        "\n",
        "    # Додавання результатів до списку\n",
        "    benchmark.append(tmp)\n",
        "\n",
        "results_df = pd.DataFrame(benchmark).set_index('Algorithm')"
      ]
    },
    {
      "cell_type": "code",
      "execution_count": 25,
      "metadata": {
        "colab": {
          "base_uri": "https://localhost:8080/",
          "height": 143
        },
        "id": "dUuM18zedzst",
        "outputId": "39f9cf7b-f442-4db9-b4e0-11edb21187fe"
      },
      "outputs": [
        {
          "data": {
            "application/vnd.google.colaboratory.intrinsic+json": {
              "summary": "{\n  \"name\": \"results_df\",\n  \"rows\": 2,\n  \"fields\": [\n    {\n      \"column\": \"Algorithm\",\n      \"properties\": {\n        \"dtype\": \"string\",\n        \"num_unique_values\": 2,\n        \"samples\": [\n          \"KNNBasic\",\n          \"SVD\"\n        ],\n        \"semantic_type\": \"\",\n        \"description\": \"\"\n      }\n    },\n    {\n      \"column\": \"test_rmse\",\n      \"properties\": {\n        \"dtype\": \"number\",\n        \"std\": 0.03064543083558594,\n        \"min\": 0.9462163634867832,\n        \"max\": 0.9895555473992355,\n        \"num_unique_values\": 2,\n        \"samples\": [\n          0.9895555473992355,\n          0.9462163634867832\n        ],\n        \"semantic_type\": \"\",\n        \"description\": \"\"\n      }\n    },\n    {\n      \"column\": \"test_mae\",\n      \"properties\": {\n        \"dtype\": \"number\",\n        \"std\": 0.024756362954538105,\n        \"min\": 0.7467468812225274,\n        \"max\": 0.7817576654678661,\n        \"num_unique_values\": 2,\n        \"samples\": [\n          0.7817576654678661,\n          0.7467468812225274\n        ],\n        \"semantic_type\": \"\",\n        \"description\": \"\"\n      }\n    },\n    {\n      \"column\": \"fit_time\",\n      \"properties\": {\n        \"dtype\": \"number\",\n        \"std\": 1.0037654666253892,\n        \"min\": 0.38667456309000653,\n        \"max\": 1.8062132994333904,\n        \"num_unique_values\": 2,\n        \"samples\": [\n          0.38667456309000653,\n          1.8062132994333904\n        ],\n        \"semantic_type\": \"\",\n        \"description\": \"\"\n      }\n    },\n    {\n      \"column\": \"test_time\",\n      \"properties\": {\n        \"dtype\": \"number\",\n        \"std\": 4.017880984904754,\n        \"min\": 0.4365585645039876,\n        \"max\": 6.118700345357259,\n        \"num_unique_values\": 2,\n        \"samples\": [\n          6.118700345357259,\n          0.4365585645039876\n        ],\n        \"semantic_type\": \"\",\n        \"description\": \"\"\n      }\n    }\n  ]\n}",
              "type": "dataframe",
              "variable_name": "results_df"
            },
            "text/html": [
              "\n",
              "  <div id=\"df-07d0c469-5f15-4611-87dc-5937a162e8fa\" class=\"colab-df-container\">\n",
              "    <div>\n",
              "<style scoped>\n",
              "    .dataframe tbody tr th:only-of-type {\n",
              "        vertical-align: middle;\n",
              "    }\n",
              "\n",
              "    .dataframe tbody tr th {\n",
              "        vertical-align: top;\n",
              "    }\n",
              "\n",
              "    .dataframe thead th {\n",
              "        text-align: right;\n",
              "    }\n",
              "</style>\n",
              "<table border=\"1\" class=\"dataframe\">\n",
              "  <thead>\n",
              "    <tr style=\"text-align: right;\">\n",
              "      <th></th>\n",
              "      <th>test_rmse</th>\n",
              "      <th>test_mae</th>\n",
              "      <th>fit_time</th>\n",
              "      <th>test_time</th>\n",
              "    </tr>\n",
              "    <tr>\n",
              "      <th>Algorithm</th>\n",
              "      <th></th>\n",
              "      <th></th>\n",
              "      <th></th>\n",
              "      <th></th>\n",
              "    </tr>\n",
              "  </thead>\n",
              "  <tbody>\n",
              "    <tr>\n",
              "      <th>SVD</th>\n",
              "      <td>0.946216</td>\n",
              "      <td>0.746747</td>\n",
              "      <td>1.806213</td>\n",
              "      <td>0.436559</td>\n",
              "    </tr>\n",
              "    <tr>\n",
              "      <th>KNNBasic</th>\n",
              "      <td>0.989556</td>\n",
              "      <td>0.781758</td>\n",
              "      <td>0.386675</td>\n",
              "      <td>6.118700</td>\n",
              "    </tr>\n",
              "  </tbody>\n",
              "</table>\n",
              "</div>\n",
              "    <div class=\"colab-df-buttons\">\n",
              "\n",
              "  <div class=\"colab-df-container\">\n",
              "    <button class=\"colab-df-convert\" onclick=\"convertToInteractive('df-07d0c469-5f15-4611-87dc-5937a162e8fa')\"\n",
              "            title=\"Convert this dataframe to an interactive table.\"\n",
              "            style=\"display:none;\">\n",
              "\n",
              "  <svg xmlns=\"http://www.w3.org/2000/svg\" height=\"24px\" viewBox=\"0 -960 960 960\">\n",
              "    <path d=\"M120-120v-720h720v720H120Zm60-500h600v-160H180v160Zm220 220h160v-160H400v160Zm0 220h160v-160H400v160ZM180-400h160v-160H180v160Zm440 0h160v-160H620v160ZM180-180h160v-160H180v160Zm440 0h160v-160H620v160Z\"/>\n",
              "  </svg>\n",
              "    </button>\n",
              "\n",
              "  <style>\n",
              "    .colab-df-container {\n",
              "      display:flex;\n",
              "      gap: 12px;\n",
              "    }\n",
              "\n",
              "    .colab-df-convert {\n",
              "      background-color: #E8F0FE;\n",
              "      border: none;\n",
              "      border-radius: 50%;\n",
              "      cursor: pointer;\n",
              "      display: none;\n",
              "      fill: #1967D2;\n",
              "      height: 32px;\n",
              "      padding: 0 0 0 0;\n",
              "      width: 32px;\n",
              "    }\n",
              "\n",
              "    .colab-df-convert:hover {\n",
              "      background-color: #E2EBFA;\n",
              "      box-shadow: 0px 1px 2px rgba(60, 64, 67, 0.3), 0px 1px 3px 1px rgba(60, 64, 67, 0.15);\n",
              "      fill: #174EA6;\n",
              "    }\n",
              "\n",
              "    .colab-df-buttons div {\n",
              "      margin-bottom: 4px;\n",
              "    }\n",
              "\n",
              "    [theme=dark] .colab-df-convert {\n",
              "      background-color: #3B4455;\n",
              "      fill: #D2E3FC;\n",
              "    }\n",
              "\n",
              "    [theme=dark] .colab-df-convert:hover {\n",
              "      background-color: #434B5C;\n",
              "      box-shadow: 0px 1px 3px 1px rgba(0, 0, 0, 0.15);\n",
              "      filter: drop-shadow(0px 1px 2px rgba(0, 0, 0, 0.3));\n",
              "      fill: #FFFFFF;\n",
              "    }\n",
              "  </style>\n",
              "\n",
              "    <script>\n",
              "      const buttonEl =\n",
              "        document.querySelector('#df-07d0c469-5f15-4611-87dc-5937a162e8fa button.colab-df-convert');\n",
              "      buttonEl.style.display =\n",
              "        google.colab.kernel.accessAllowed ? 'block' : 'none';\n",
              "\n",
              "      async function convertToInteractive(key) {\n",
              "        const element = document.querySelector('#df-07d0c469-5f15-4611-87dc-5937a162e8fa');\n",
              "        const dataTable =\n",
              "          await google.colab.kernel.invokeFunction('convertToInteractive',\n",
              "                                                    [key], {});\n",
              "        if (!dataTable) return;\n",
              "\n",
              "        const docLinkHtml = 'Like what you see? Visit the ' +\n",
              "          '<a target=\"_blank\" href=https://colab.research.google.com/notebooks/data_table.ipynb>data table notebook</a>'\n",
              "          + ' to learn more about interactive tables.';\n",
              "        element.innerHTML = '';\n",
              "        dataTable['output_type'] = 'display_data';\n",
              "        await google.colab.output.renderOutput(dataTable, element);\n",
              "        const docLink = document.createElement('div');\n",
              "        docLink.innerHTML = docLinkHtml;\n",
              "        element.appendChild(docLink);\n",
              "      }\n",
              "    </script>\n",
              "  </div>\n",
              "\n",
              "\n",
              "<div id=\"df-6f9b158a-f45b-4491-bc54-8f0af8ec02da\">\n",
              "  <button class=\"colab-df-quickchart\" onclick=\"quickchart('df-6f9b158a-f45b-4491-bc54-8f0af8ec02da')\"\n",
              "            title=\"Suggest charts\"\n",
              "            style=\"display:none;\">\n",
              "\n",
              "<svg xmlns=\"http://www.w3.org/2000/svg\" height=\"24px\"viewBox=\"0 0 24 24\"\n",
              "     width=\"24px\">\n",
              "    <g>\n",
              "        <path d=\"M19 3H5c-1.1 0-2 .9-2 2v14c0 1.1.9 2 2 2h14c1.1 0 2-.9 2-2V5c0-1.1-.9-2-2-2zM9 17H7v-7h2v7zm4 0h-2V7h2v10zm4 0h-2v-4h2v4z\"/>\n",
              "    </g>\n",
              "</svg>\n",
              "  </button>\n",
              "\n",
              "<style>\n",
              "  .colab-df-quickchart {\n",
              "      --bg-color: #E8F0FE;\n",
              "      --fill-color: #1967D2;\n",
              "      --hover-bg-color: #E2EBFA;\n",
              "      --hover-fill-color: #174EA6;\n",
              "      --disabled-fill-color: #AAA;\n",
              "      --disabled-bg-color: #DDD;\n",
              "  }\n",
              "\n",
              "  [theme=dark] .colab-df-quickchart {\n",
              "      --bg-color: #3B4455;\n",
              "      --fill-color: #D2E3FC;\n",
              "      --hover-bg-color: #434B5C;\n",
              "      --hover-fill-color: #FFFFFF;\n",
              "      --disabled-bg-color: #3B4455;\n",
              "      --disabled-fill-color: #666;\n",
              "  }\n",
              "\n",
              "  .colab-df-quickchart {\n",
              "    background-color: var(--bg-color);\n",
              "    border: none;\n",
              "    border-radius: 50%;\n",
              "    cursor: pointer;\n",
              "    display: none;\n",
              "    fill: var(--fill-color);\n",
              "    height: 32px;\n",
              "    padding: 0;\n",
              "    width: 32px;\n",
              "  }\n",
              "\n",
              "  .colab-df-quickchart:hover {\n",
              "    background-color: var(--hover-bg-color);\n",
              "    box-shadow: 0 1px 2px rgba(60, 64, 67, 0.3), 0 1px 3px 1px rgba(60, 64, 67, 0.15);\n",
              "    fill: var(--button-hover-fill-color);\n",
              "  }\n",
              "\n",
              "  .colab-df-quickchart-complete:disabled,\n",
              "  .colab-df-quickchart-complete:disabled:hover {\n",
              "    background-color: var(--disabled-bg-color);\n",
              "    fill: var(--disabled-fill-color);\n",
              "    box-shadow: none;\n",
              "  }\n",
              "\n",
              "  .colab-df-spinner {\n",
              "    border: 2px solid var(--fill-color);\n",
              "    border-color: transparent;\n",
              "    border-bottom-color: var(--fill-color);\n",
              "    animation:\n",
              "      spin 1s steps(1) infinite;\n",
              "  }\n",
              "\n",
              "  @keyframes spin {\n",
              "    0% {\n",
              "      border-color: transparent;\n",
              "      border-bottom-color: var(--fill-color);\n",
              "      border-left-color: var(--fill-color);\n",
              "    }\n",
              "    20% {\n",
              "      border-color: transparent;\n",
              "      border-left-color: var(--fill-color);\n",
              "      border-top-color: var(--fill-color);\n",
              "    }\n",
              "    30% {\n",
              "      border-color: transparent;\n",
              "      border-left-color: var(--fill-color);\n",
              "      border-top-color: var(--fill-color);\n",
              "      border-right-color: var(--fill-color);\n",
              "    }\n",
              "    40% {\n",
              "      border-color: transparent;\n",
              "      border-right-color: var(--fill-color);\n",
              "      border-top-color: var(--fill-color);\n",
              "    }\n",
              "    60% {\n",
              "      border-color: transparent;\n",
              "      border-right-color: var(--fill-color);\n",
              "    }\n",
              "    80% {\n",
              "      border-color: transparent;\n",
              "      border-right-color: var(--fill-color);\n",
              "      border-bottom-color: var(--fill-color);\n",
              "    }\n",
              "    90% {\n",
              "      border-color: transparent;\n",
              "      border-bottom-color: var(--fill-color);\n",
              "    }\n",
              "  }\n",
              "</style>\n",
              "\n",
              "  <script>\n",
              "    async function quickchart(key) {\n",
              "      const quickchartButtonEl =\n",
              "        document.querySelector('#' + key + ' button');\n",
              "      quickchartButtonEl.disabled = true;  // To prevent multiple clicks.\n",
              "      quickchartButtonEl.classList.add('colab-df-spinner');\n",
              "      try {\n",
              "        const charts = await google.colab.kernel.invokeFunction(\n",
              "            'suggestCharts', [key], {});\n",
              "      } catch (error) {\n",
              "        console.error('Error during call to suggestCharts:', error);\n",
              "      }\n",
              "      quickchartButtonEl.classList.remove('colab-df-spinner');\n",
              "      quickchartButtonEl.classList.add('colab-df-quickchart-complete');\n",
              "    }\n",
              "    (() => {\n",
              "      let quickchartButtonEl =\n",
              "        document.querySelector('#df-6f9b158a-f45b-4491-bc54-8f0af8ec02da button');\n",
              "      quickchartButtonEl.style.display =\n",
              "        google.colab.kernel.accessAllowed ? 'block' : 'none';\n",
              "    })();\n",
              "  </script>\n",
              "</div>\n",
              "    </div>\n",
              "  </div>\n"
            ],
            "text/plain": [
              "           test_rmse  test_mae  fit_time  test_time\n",
              "Algorithm                                          \n",
              "SVD         0.946216  0.746747  1.806213   0.436559\n",
              "KNNBasic    0.989556  0.781758  0.386675   6.118700"
            ]
          },
          "execution_count": 25,
          "metadata": {},
          "output_type": "execute_result"
        }
      ],
      "source": [
        "results_df"
      ]
    },
    {
      "cell_type": "code",
      "execution_count": 26,
      "metadata": {
        "colab": {
          "base_uri": "https://localhost:8080/"
        },
        "id": "CbGJfy5NeL3C",
        "outputId": "a2c988d8-92e7-449d-aee8-46a1dfc91642"
      },
      "outputs": [
        {
          "name": "stdout",
          "output_type": "stream",
          "text": [
            "Найкращий алгоритм: SVD\n"
          ]
        }
      ],
      "source": [
        "# Сортування за RMSE для вибору найкращого алгоритму\n",
        "best_algorithm_name = results_df.sort_values('test_rmse').index[0]\n",
        "print(f\"Найкращий алгоритм: {best_algorithm_name}\")"
      ]
    },
    {
      "cell_type": "code",
      "execution_count": 27,
      "metadata": {
        "colab": {
          "base_uri": "https://localhost:8080/"
        },
        "id": "jkyon2ToeTNl",
        "outputId": "3e33c493-761d-42f4-fa68-3d7f11e25d39"
      },
      "outputs": [
        {
          "name": "stdout",
          "output_type": "stream",
          "text": [
            "RMSE: 0.9378\n"
          ]
        },
        {
          "data": {
            "text/plain": [
              "0.9378215773165528"
            ]
          },
          "execution_count": 27,
          "metadata": {},
          "output_type": "execute_result"
        }
      ],
      "source": [
        "# Тренуємо найкращий алгоритм на всіх даних\n",
        "if best_algorithm_name == 'SVD':\n",
        "    best_algorithm = SVD()\n",
        "elif best_algorithm_name == 'KNNBasic':\n",
        "    best_algorithm = KNNBasic()\n",
        "\n",
        "# Поділ на тренувальні і тестові дані\n",
        "trainset, testset = train_test_split(df, test_size = 0.2)\n",
        "\n",
        "# Тренування моделі\n",
        "best_algorithm.fit(trainset)\n",
        "\n",
        "# Оцінка точності на тестових даних\n",
        "predictions = best_algorithm.test(testset)\n",
        "accuracy.rmse(predictions)"
      ]
    },
    {
      "cell_type": "code",
      "execution_count": 33,
      "metadata": {
        "colab": {
          "base_uri": "https://localhost:8080/"
        },
        "id": "lXZupbereffm",
        "outputId": "ec0cf5ef-ce66-4963-bd78-541a8f9644f4"
      },
      "outputs": [
        {
          "name": "stdout",
          "output_type": "stream",
          "text": [
            "Кількість оцінок користувача 196: 31\n"
          ]
        }
      ],
      "source": [
        "# Генерація рекомендацій для користувача\n",
        "user_id      = '196'  # наприклад, для користувача з ID 196\n",
        "user_ratings = trainset.ur[trainset.to_inner_uid(user_id)]\n",
        "print(f\"Кількість оцінок користувача {user_id}: {len(user_ratings)}\")"
      ]
    },
    {
      "cell_type": "code",
      "execution_count": 35,
      "metadata": {
        "colab": {
          "base_uri": "https://localhost:8080/"
        },
        "id": "atOAWvKUldPV",
        "outputId": "6315b944-13a2-46be-f99e-ac8cfa00f94f"
      },
      "outputs": [
        {
          "name": "stdout",
          "output_type": "stream",
          "text": [
            "Топ-10 фільмів, рекомендованих для користувача:\n",
            "Фільм 318 - Оцінка: 4.59\n",
            "Фільм 64 - Оцінка: 4.50\n",
            "Фільм 197 - Оцінка: 4.49\n",
            "Фільм 483 - Оцінка: 4.48\n",
            "Фільм 357 - Оцінка: 4.46\n",
            "Фільм 272 - Оцінка: 4.45\n",
            "Фільм 513 - Оцінка: 4.37\n",
            "Фільм 963 - Оцінка: 4.37\n",
            "Фільм 474 - Оцінка: 4.36\n",
            "Фільм 178 - Оцінка: 4.36\n"
          ]
        }
      ],
      "source": [
        "# Отримання рекомендацій\n",
        "all_items     = set(trainset.all_items())\n",
        "rated_items   = set([item for (item, _) in user_ratings])\n",
        "unrated_items = all_items - rated_items\n",
        "\n",
        "# Прогнозування рейтингів для нерецензованих фільмів\n",
        "predictions = [(item, best_algorithm.predict(user_id, trainset.to_raw_iid(item)).est) for item in unrated_items]\n",
        "predictions.sort(key = lambda x: x[1], reverse = True)\n",
        "\n",
        "# Виведення 10 найкращих фільмів\n",
        "print(\"Топ-10 фільмів, рекомендованих для користувача:\")\n",
        "for item_id, rating in predictions[:10]:\n",
        "    print(f\"Фільм {trainset.to_raw_iid(item_id)} - Оцінка: {rating:.2f}\")"
      ]
    },
    {
      "cell_type": "markdown",
      "metadata": {
        "id": "ZGb98r9-oDY6"
      },
      "source": [
        "## Підбір гіперпараметрів"
      ]
    },
    {
      "cell_type": "code",
      "execution_count": 37,
      "metadata": {
        "colab": {
          "base_uri": "https://localhost:8080/"
        },
        "id": "m8c_jPdioG7n",
        "outputId": "e5223991-a277-479b-8a51-c065c5747bae"
      },
      "outputs": [
        {
          "name": "stdout",
          "output_type": "stream",
          "text": [
            "Computing the cosine similarity matrix...\n",
            "Done computing similarity matrix.\n",
            "Computing the cosine similarity matrix...\n",
            "Done computing similarity matrix.\n",
            "Computing the cosine similarity matrix...\n",
            "Done computing similarity matrix.\n",
            "Estimating biases using als...\n",
            "Computing the pearson_baseline similarity matrix...\n",
            "Done computing similarity matrix.\n",
            "Estimating biases using als...\n",
            "Computing the pearson_baseline similarity matrix...\n",
            "Done computing similarity matrix.\n",
            "Estimating biases using als...\n",
            "Computing the pearson_baseline similarity matrix...\n",
            "Done computing similarity matrix.\n",
            "Computing the cosine similarity matrix...\n",
            "Done computing similarity matrix.\n",
            "Computing the cosine similarity matrix...\n",
            "Done computing similarity matrix.\n",
            "Computing the cosine similarity matrix...\n",
            "Done computing similarity matrix.\n",
            "Estimating biases using als...\n",
            "Computing the pearson_baseline similarity matrix...\n",
            "Done computing similarity matrix.\n",
            "Estimating biases using als...\n",
            "Computing the pearson_baseline similarity matrix...\n",
            "Done computing similarity matrix.\n",
            "Estimating biases using als...\n",
            "Computing the pearson_baseline similarity matrix...\n",
            "Done computing similarity matrix.\n",
            "Computing the cosine similarity matrix...\n",
            "Done computing similarity matrix.\n",
            "Computing the cosine similarity matrix...\n",
            "Done computing similarity matrix.\n",
            "Computing the cosine similarity matrix...\n",
            "Done computing similarity matrix.\n",
            "Estimating biases using als...\n",
            "Computing the pearson_baseline similarity matrix...\n",
            "Done computing similarity matrix.\n",
            "Estimating biases using als...\n",
            "Computing the pearson_baseline similarity matrix...\n",
            "Done computing similarity matrix.\n",
            "Estimating biases using als...\n",
            "Computing the pearson_baseline similarity matrix...\n",
            "Done computing similarity matrix.\n",
            "Computing the cosine similarity matrix...\n",
            "Done computing similarity matrix.\n",
            "Computing the cosine similarity matrix...\n",
            "Done computing similarity matrix.\n",
            "Computing the cosine similarity matrix...\n",
            "Done computing similarity matrix.\n",
            "Estimating biases using als...\n",
            "Computing the pearson_baseline similarity matrix...\n",
            "Done computing similarity matrix.\n",
            "Estimating biases using als...\n",
            "Computing the pearson_baseline similarity matrix...\n",
            "Done computing similarity matrix.\n",
            "Estimating biases using als...\n",
            "Computing the pearson_baseline similarity matrix...\n",
            "Done computing similarity matrix.\n",
            "Computing the cosine similarity matrix...\n",
            "Done computing similarity matrix.\n",
            "Computing the cosine similarity matrix...\n",
            "Done computing similarity matrix.\n",
            "Computing the cosine similarity matrix...\n",
            "Done computing similarity matrix.\n",
            "Estimating biases using als...\n",
            "Computing the pearson_baseline similarity matrix...\n",
            "Done computing similarity matrix.\n",
            "Estimating biases using als...\n",
            "Computing the pearson_baseline similarity matrix...\n",
            "Done computing similarity matrix.\n",
            "Estimating biases using als...\n",
            "Computing the pearson_baseline similarity matrix...\n",
            "Done computing similarity matrix.\n",
            "Computing the cosine similarity matrix...\n",
            "Done computing similarity matrix.\n",
            "Computing the cosine similarity matrix...\n",
            "Done computing similarity matrix.\n",
            "Computing the cosine similarity matrix...\n",
            "Done computing similarity matrix.\n",
            "Estimating biases using als...\n",
            "Computing the pearson_baseline similarity matrix...\n",
            "Done computing similarity matrix.\n",
            "Estimating biases using als...\n",
            "Computing the pearson_baseline similarity matrix...\n",
            "Done computing similarity matrix.\n",
            "Estimating biases using als...\n",
            "Computing the pearson_baseline similarity matrix...\n",
            "Done computing similarity matrix.\n"
          ]
        }
      ],
      "source": [
        "param_grid_svd = {\n",
        "    'n_factors': [20, 50, 100],\n",
        "    'n_epochs': [10, 20],\n",
        "    'lr_all': [0.005, 0.01],\n",
        "    'reg_all': [0.02, 0.05]\n",
        "}\n",
        "\n",
        "param_grid_knn = {\n",
        "    'k': [20, 30, 40],\n",
        "    'min_k': [1, 5],\n",
        "    'sim_options': {\n",
        "        'name': ['cosine', 'pearson_baseline'],\n",
        "        'user_based': [False]\n",
        "    }\n",
        "}\n",
        "\n",
        "# GridSearch для SVD\n",
        "gs_svd = GridSearchCV(SVD, param_grid_svd, measures = ['rmse', 'mae'], cv = 3)\n",
        "gs_svd.fit(df)\n",
        "\n",
        "# GridSearch для KNNBasic\n",
        "gs_knn = GridSearchCV(KNNBasic, param_grid_knn, measures = ['rmse', 'mae'], cv = 3)\n",
        "gs_knn.fit(df)"
      ]
    },
    {
      "cell_type": "code",
      "execution_count": 45,
      "metadata": {
        "colab": {
          "base_uri": "https://localhost:8080/"
        },
        "id": "s4VLu4an0ok0",
        "outputId": "5c220bbd-c645-4fe1-8f92-207505b0f7f5"
      },
      "outputs": [
        {
          "name": "stdout",
          "output_type": "stream",
          "text": [
            "Найкращий RMSE для SVD: 0.9318044344427531\n",
            "Найкращий RMSE для KNNBasic: 1.0065864574137044\n",
            "Найкращий алгоритм: SVD\n",
            "Найкращі параметри: {'n_factors': 20, 'n_epochs': 20, 'lr_all': 0.01, 'reg_all': 0.05}\n"
          ]
        }
      ],
      "source": [
        "# Порівняння результатів\n",
        "best_svd_rmse = gs_svd.best_score['rmse']\n",
        "best_knn_rmse = gs_knn.best_score['rmse']\n",
        "\n",
        "print(f\"Найкращий RMSE для SVD: {best_svd_rmse}\")\n",
        "print(f\"Найкращий RMSE для KNNBasic: {best_knn_rmse}\")\n",
        "\n",
        "if best_svd_rmse < best_knn_rmse:\n",
        "    best_algorithm_grid_s = SVD()\n",
        "    best_algorithm_grid_s_name = 'SVD'\n",
        "    best_params = gs_svd.best_params['rmse']\n",
        "else:\n",
        "    best_algorithm_grid_s = KNNBasic()\n",
        "    best_algorithm_grid_s_name = 'KNNBasic'\n",
        "    best_params = gs_knn.best_params['rmse']\n",
        "\n",
        "print(f\"Найкращий алгоритм: {best_algorithm_grid_s_name}\")\n",
        "print(f\"Найкращі параметри: {best_params}\")"
      ]
    },
    {
      "cell_type": "code",
      "execution_count": 46,
      "metadata": {
        "colab": {
          "base_uri": "https://localhost:8080/"
        },
        "id": "NGRK2w7Y2dyn",
        "outputId": "141e48af-f0b4-4ea7-e80d-06c9fed03c89"
      },
      "outputs": [
        {
          "name": "stdout",
          "output_type": "stream",
          "text": [
            "RMSE: 0.9372\n"
          ]
        },
        {
          "data": {
            "text/plain": [
              "0.9372346113467963"
            ]
          },
          "execution_count": 46,
          "metadata": {},
          "output_type": "execute_result"
        }
      ],
      "source": [
        "# Тренування моделі\n",
        "best_algorithm_grid_s.fit(trainset)\n",
        "\n",
        "# Оцінка точності на тестових даних\n",
        "predictions_grid_s = best_algorithm_grid_s.test(testset)\n",
        "accuracy.rmse(predictions_grid_s)"
      ]
    },
    {
      "cell_type": "code",
      "execution_count": 47,
      "metadata": {
        "colab": {
          "base_uri": "https://localhost:8080/"
        },
        "id": "L3POpS273hjM",
        "outputId": "c3d571c0-3c0d-4faf-e382-e41a87a7a8b7"
      },
      "outputs": [
        {
          "name": "stdout",
          "output_type": "stream",
          "text": [
            "Топ-10 фільмів, рекомендованих для користувача:\n",
            "Фільм 318 - Оцінка: 4.57\n",
            "Фільм 496 - Оцінка: 4.43\n",
            "Фільм 272 - Оцінка: 4.43\n",
            "Фільм 603 - Оцінка: 4.40\n",
            "Фільм 114 - Оцінка: 4.35\n",
            "Фільм 427 - Оцінка: 4.34\n",
            "Фільм 357 - Оцінка: 4.33\n",
            "Фільм 169 - Оцінка: 4.33\n",
            "Фільм 408 - Оцінка: 4.33\n",
            "Фільм 178 - Оцінка: 4.31\n"
          ]
        }
      ],
      "source": [
        "# Отримання рекомендацій\n",
        "all_items     = set(trainset.all_items())\n",
        "rated_items   = set([item for (item, _) in user_ratings])\n",
        "unrated_items = all_items - rated_items\n",
        "\n",
        "# Прогнозування рейтингів для нерецензованих фільмів\n",
        "predictions = [(item, best_algorithm_grid_s.predict(user_id, trainset.to_raw_iid(item)).est) for item in unrated_items]\n",
        "predictions.sort(key = lambda x: x[1], reverse = True)\n",
        "\n",
        "# Виведення 10 найкращих фільмів\n",
        "print(\"Топ-10 фільмів, рекомендованих для користувача:\")\n",
        "for item_id, rating in predictions[:10]:\n",
        "    print(f\"Фільм {trainset.to_raw_iid(item_id)} - Оцінка: {rating:.2f}\")"
      ]
    },
    {
      "cell_type": "markdown",
      "metadata": {
        "id": "BLCgQMg03oXK"
      },
      "source": [
        "# Завдання 2"
      ]
    },
    {
      "cell_type": "markdown",
      "metadata": {
        "id": "VtwDr1yh4qFb"
      },
      "source": [
        "## Побудова власної рекомендаційної системи"
      ]
    },
    {
      "cell_type": "code",
      "execution_count": 50,
      "metadata": {
        "id": "zT2EdlHU3qBa"
      },
      "outputs": [],
      "source": [
        "# Створення власного алгоритму\n",
        "class MyOwnAlgorithm(AlgoBase):\n",
        "\n",
        "    def __init__(self):\n",
        "        # Викликаємо конструктор базового класу\n",
        "        AlgoBase.__init__(self)\n",
        "\n",
        "    def fit(self, trainset):\n",
        "        # Викликаємо базовий метод fit()\n",
        "        AlgoBase.fit(self, trainset)\n",
        "\n",
        "        # Обчислюємо середній рейтинг для кожного користувача\n",
        "        self.user_means = defaultdict(float)\n",
        "\n",
        "        for uid, iid, rating in self.trainset.all_ratings():\n",
        "            self.user_means[uid] += rating\n",
        "\n",
        "        for uid in self.user_means:\n",
        "            self.user_means[uid] /= self.trainset.n_items  # середній рейтинг користувача\n",
        "\n",
        "        # Обчислюємо середній рейтинг для кожного предмета (item)\n",
        "        self.item_means = defaultdict(float)\n",
        "\n",
        "        for uid, iid, rating in self.trainset.all_ratings():\n",
        "            self.item_means[iid] += rating\n",
        "\n",
        "        for iid in self.item_means:\n",
        "            self.item_means[iid] /= self.trainset.n_users  # середній рейтинг предмета\n",
        "\n",
        "        return self\n",
        "\n",
        "    def estimate(self, uid, iid):\n",
        "        if self.trainset.knows_user(uid) and self.trainset.knows_item(iid):\n",
        "            # Якщо знаємо і користувача, і предмет, беремо середнє значення між їхніми середніми рейтингами\n",
        "            return (self.user_means[uid] + self.item_means[iid]) / 2\n",
        "        else:\n",
        "            # Якщо не знаємо користувача або предмет, повертаємо глобальне середнє\n",
        "            return self.trainset.global_mean"
      ]
    },
    {
      "cell_type": "code",
      "execution_count": 51,
      "metadata": {
        "colab": {
          "base_uri": "https://localhost:8080/"
        },
        "id": "BmJlLT1n6RbL",
        "outputId": "2ac9a754-93e9-4d85-8fa7-69333398fd77"
      },
      "outputs": [
        {
          "name": "stdout",
          "output_type": "stream",
          "text": [
            "RMSE: 2.7649\n"
          ]
        },
        {
          "data": {
            "text/plain": [
              "2.7648750510709763"
            ]
          },
          "execution_count": 51,
          "metadata": {},
          "output_type": "execute_result"
        }
      ],
      "source": [
        "# Завантажуємо вбудований набір даних\n",
        "df = Dataset.load_builtin(\"ml-100k\")\n",
        "\n",
        "# Розбиваємо на тренувальні та тестові набори\n",
        "trainset, testset = train_test_split(df, test_size = 0.2)\n",
        "\n",
        "# Створюємо екземпляр нового алгоритму\n",
        "my_algorithm = MyOwnAlgorithm()\n",
        "\n",
        "# Тренуємо модель\n",
        "my_algorithm.fit(trainset)\n",
        "\n",
        "# Тестуємо на тестових даних\n",
        "predictions = my_algorithm.test(testset)\n",
        "\n",
        "# Оцінюємо якість моделі\n",
        "accuracy.rmse(predictions)"
      ]
    },
    {
      "cell_type": "code",
      "execution_count": 52,
      "metadata": {
        "colab": {
          "base_uri": "https://localhost:8080/"
        },
        "id": "BsBS-T_W6ZQG",
        "outputId": "03865981-c09f-4e77-f84a-d34dfe064a5a"
      },
      "outputs": [
        {
          "name": "stdout",
          "output_type": "stream",
          "text": [
            "Прогнозована оцінка для користувача 196 і фільму 302: 1.00\n"
          ]
        }
      ],
      "source": [
        "# Можемо також отримати рекомендації для користувача\n",
        "user_id = '196'  # Наприклад, користувач з ID 196\n",
        "movie_id = '302'  # Наприклад, фільм з ID 302\n",
        "\n",
        "# Прогнозуємо оцінку для даного фільму\n",
        "prediction = my_algorithm.predict(user_id, movie_id)\n",
        "print(f\"Прогнозована оцінка для користувача {user_id} і фільму {movie_id}: {prediction.est:.2f}\")"
      ]
    },
    {
      "cell_type": "code",
      "execution_count": 53,
      "metadata": {
        "colab": {
          "base_uri": "https://localhost:8080/"
        },
        "id": "k2rcRBRi6i1x",
        "outputId": "79019bee-6cc8-4412-bd81-78ee4fb8b416"
      },
      "outputs": [
        {
          "name": "stdout",
          "output_type": "stream",
          "text": [
            "Топ-10 фільмів, рекомендованих для користувача:\n",
            "Фільм 50 - Оцінка: 1.12\n",
            "Фільм 538 - Оцінка: 1.00\n",
            "Фільм 180 - Оцінка: 1.00\n",
            "Фільм 732 - Оцінка: 1.00\n",
            "Фільм 476 - Оцінка: 1.00\n",
            "Фільм 169 - Оцінка: 1.00\n",
            "Фільм 411 - Оцінка: 1.00\n",
            "Фільм 25 - Оцінка: 1.00\n",
            "Фільм 234 - Оцінка: 1.00\n",
            "Фільм 809 - Оцінка: 1.00\n"
          ]
        }
      ],
      "source": [
        "# Отримання рекомендацій\n",
        "all_items     = set(trainset.all_items())\n",
        "rated_items   = set([item for (item, _) in user_ratings])\n",
        "unrated_items = all_items - rated_items\n",
        "\n",
        "# Прогнозування рейтингів для нерецензованих фільмів\n",
        "predictions = [(item, my_algorithm.predict(user_id, trainset.to_raw_iid(item)).est) for item in unrated_items]\n",
        "predictions.sort(key = lambda x: x[1], reverse = True)\n",
        "\n",
        "# Виведення 10 найкращих фільмів\n",
        "print(\"Топ-10 фільмів, рекомендованих для користувача:\")\n",
        "for item_id, rating in predictions[:10]:\n",
        "    print(f\"Фільм {trainset.to_raw_iid(item_id)} - Оцінка: {rating:.2f}\")"
      ]
    }
  ],
  "metadata": {
    "colab": {
      "collapsed_sections": [
        "slXjM2GZVstl",
        "ZGb98r9-oDY6"
      ],
      "provenance": [],
      "toc_visible": true
    },
    "kernelspec": {
      "display_name": "Python 3",
      "name": "python3"
    },
    "language_info": {
      "name": "python",
      "version": "3.11.5"
    }
  },
  "nbformat": 4,
  "nbformat_minor": 0
}

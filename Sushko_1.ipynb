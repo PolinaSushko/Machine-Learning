{
 "cells": [
  {
   "cell_type": "markdown",
   "metadata": {},
   "source": [
    "Варіант 22"
   ]
  },
  {
   "cell_type": "code",
   "execution_count": 1,
   "metadata": {},
   "outputs": [],
   "source": [
    "import numpy as np"
   ]
  },
  {
   "cell_type": "markdown",
   "metadata": {},
   "source": [
    "# Завдання 1"
   ]
  },
  {
   "cell_type": "markdown",
   "metadata": {},
   "source": [
    "Створіть одновимірний масив (вектор) зі значеннями 𝑒^𝑥 для кожного натурального числа x, починаючи з 1, та виведіть його значення."
   ]
  },
  {
   "cell_type": "code",
   "execution_count": 15,
   "metadata": {},
   "outputs": [
    {
     "name": "stdout",
     "output_type": "stream",
     "text": [
      "Exponential values: [  2.71828183   7.3890561   20.08553692  54.59815003 148.4131591 ] for [1 2 3 4 5]\n"
     ]
    }
   ],
   "source": [
    "n = int(input(\"Enter the number of iterations:\"))\n",
    "x = np.arange(1, n + 1)\n",
    "\n",
    "exp_values = np.exp(x)\n",
    "\n",
    "print(f\"Exponential values: {exp_values} for {x}\")"
   ]
  },
  {
   "cell_type": "markdown",
   "metadata": {},
   "source": [
    "# Завдання 2"
   ]
  },
  {
   "cell_type": "markdown",
   "metadata": {},
   "source": [
    "Створіть двовимірний масив (матрицю) розміром 3x3, заповніть його тангенсами кожного натурального числа, починаючи з 1, та виведіть його значення."
   ]
  },
  {
   "cell_type": "code",
   "execution_count": 14,
   "metadata": {},
   "outputs": [
    {
     "name": "stdout",
     "output_type": "stream",
     "text": [
      "[[ 1.55740772 -2.18503986 -0.14254654]\n",
      " [ 1.15782128 -3.38051501 -0.29100619]\n",
      " [ 0.87144798 -6.79971146 -0.45231566]]\n"
     ]
    }
   ],
   "source": [
    "m_3_3 = np.arange(1, 10).reshape(3, 3)\n",
    "m_tn  = np.tan(m_3_3)\n",
    "\n",
    "print(m_tn)"
   ]
  },
  {
   "cell_type": "markdown",
   "metadata": {},
   "source": [
    "# Завдання 3"
   ]
  },
  {
   "cell_type": "markdown",
   "metadata": {},
   "source": [
    "Створіть масив розміром 3x3, заповніть його випадковими дійсними числами від -1 до 1 та виведіть непарні числа."
   ]
  },
  {
   "cell_type": "code",
   "execution_count": 32,
   "metadata": {},
   "outputs": [
    {
     "name": "stdout",
     "output_type": "stream",
     "text": [
      "A 3x3 array of random real numbers:\n",
      " [[ 0.06485861  0.29020712  0.22614171]\n",
      " [-0.53658605  0.61811263 -0.24718989]\n",
      " [ 0.7704349  -0.94639435  0.83350402]]\n",
      "Odd integers:\n",
      " []\n"
     ]
    }
   ],
   "source": [
    "m_3_3       = np.random.uniform(-1, 1, (3, 3))\n",
    "odd_numbers = m_3_3.astype(int) % 2 != 0\n",
    "\n",
    "print(f\"An 3x3 array of random real numbers:\\n {m_3_3}\")\n",
    "print(f\"Odd integers:\\n {m_3_3[odd_numbers]}\")"
   ]
  },
  {
   "cell_type": "markdown",
   "metadata": {},
   "source": [
    "Оскільки числа в матриці згенеровані від -1 до 1, то непарних чисел немає. \n",
    "Спробуємо взяти більший інтревал між числами, наприклад від -5 до 5:"
   ]
  },
  {
   "cell_type": "code",
   "execution_count": 33,
   "metadata": {},
   "outputs": [
    {
     "name": "stdout",
     "output_type": "stream",
     "text": [
      "An 3x3 array of random real numbers:\n",
      " [[-3.21568572 -1.10115662  0.96915689]\n",
      " [-1.10349504 -1.16116209  1.0121477 ]\n",
      " [ 0.74613503  2.11434964  2.09669786]]\n",
      "Odd integers:\n",
      " [-3.21568572 -1.10115662 -1.10349504 -1.16116209  1.0121477 ]\n"
     ]
    }
   ],
   "source": [
    "m_3_3       = np.random.uniform(-5, 5, (3, 3))\n",
    "odd_numbers = m_3_3.astype(int) % 2 != 0\n",
    "\n",
    "print(f\"An 3x3 array of random real numbers:\\n {m_3_3}\")\n",
    "print(f\"Odd integers:\\n {m_3_3[odd_numbers]}\")"
   ]
  },
  {
   "cell_type": "markdown",
   "metadata": {},
   "source": [
    "# Завдання 4"
   ]
  },
  {
   "cell_type": "markdown",
   "metadata": {},
   "source": [
    "Створіть масив розміром 4x4, заповніть його випадковими дійсними числами від -0.8 до 0.8 та виведіть його значення."
   ]
  },
  {
   "cell_type": "code",
   "execution_count": 34,
   "metadata": {},
   "outputs": [
    {
     "name": "stdout",
     "output_type": "stream",
     "text": [
      "An 4x4 array of random real numbers:\n",
      " [[ 0.53224076  0.69735477 -0.22160289 -0.38127726]\n",
      " [-0.06574332 -0.22878989  0.58171428 -0.51063831]\n",
      " [-0.09403292  0.16338254  0.40347807 -0.5111237 ]\n",
      " [ 0.28668682  0.44376712  0.13671958 -0.68913983]]\n"
     ]
    }
   ],
   "source": [
    "m_4_4 = np.random.uniform(-0.8, 0.8, (4, 4))\n",
    "\n",
    "print(f\"An 4x4 array of random real numbers:\\n {m_4_4}\")"
   ]
  },
  {
   "cell_type": "markdown",
   "metadata": {},
   "source": [
    "# Завдання 5"
   ]
  },
  {
   "cell_type": "markdown",
   "metadata": {},
   "source": [
    "Створіть два одновимірних масиви розміром 6, заповніть їх випадковими цілими числами в діапазоні від 5 до 15 та виконайте на них поелементні операції додавання, віднімання та множення."
   ]
  },
  {
   "cell_type": "code",
   "execution_count": 43,
   "metadata": {},
   "outputs": [
    {
     "name": "stdout",
     "output_type": "stream",
     "text": [
      "Array 1: [10 10  6 15  8 13]\n",
      "Array 2: [ 5  8  5 10  6  7]\n",
      "Addition: [15 18 11 25 14 20]\n",
      "Subtraction: [5 2 1 5 2 6]\n",
      "Multiplication: [ 50  80  30 150  48  91]\n"
     ]
    }
   ],
   "source": [
    "arr_1 = np.random.randint(5, 16, size = 6)\n",
    "arr_2 = np.random.randint(5, 16, size = 6)\n",
    "\n",
    "addition       = arr_1 + arr_2\n",
    "subtraction    = arr_1 - arr_2\n",
    "multiplication = arr_1 * arr_2\n",
    "\n",
    "print(f\"Array 1: {arr_1}\\nArray 2: {arr_2}\")\n",
    "print(f\"Addition: {addition}\")\n",
    "print(f\"Subtraction: {subtraction}\")\n",
    "print(f\"Multiplication: {multiplication}\")"
   ]
  },
  {
   "cell_type": "markdown",
   "metadata": {},
   "source": [
    "# Завдання 6"
   ]
  },
  {
   "cell_type": "markdown",
   "metadata": {},
   "source": [
    "Створіть дві матриці 4x4, заповніть їх довільними цілими числами від -6 до 6 та знайдіть їх добуток."
   ]
  },
  {
   "cell_type": "code",
   "execution_count": 42,
   "metadata": {},
   "outputs": [
    {
     "name": "stdout",
     "output_type": "stream",
     "text": [
      "Matrix 1:\n",
      "[[ 0  3 -6 -1]\n",
      " [ 6 -1  3 -4]\n",
      " [ 3  2  4 -4]\n",
      " [-6 -5 -6  3]]\n",
      " Matrix 2:\n",
      "[[-6  1 -6  4]\n",
      " [-2 -2  3  4]\n",
      " [-6 -3 -2 -4]\n",
      " [-1 -1  5  6]]\n",
      "Product of matrices:\n",
      "[[ 31  13  16  30]\n",
      " [-48   3 -65 -16]\n",
      " [-42  -9 -40 -20]\n",
      " [ 79  19  48  -2]]\n"
     ]
    }
   ],
   "source": [
    "m_1 = np.random.randint(-6, 7, size = (4, 4))\n",
    "m_2 = np.random.randint(-6, 7, size = (4, 4))\n",
    "\n",
    "product_m = np.dot(m_1, m_2)\n",
    "\n",
    "print(f\"Matrix 1:\\n{m_1}\\n Matrix 2:\\n{m_2}\")\n",
    "print(f\"Product of matrices:\\n{product_m}\")"
   ]
  },
  {
   "cell_type": "markdown",
   "metadata": {},
   "source": [
    "# Завдання 7"
   ]
  },
  {
   "cell_type": "markdown",
   "metadata": {},
   "source": [
    "Створіть дві матриці розміром 3x2 та 2x2, заповніть їх випадковими цілими числами в діапазоні від 1 до 8 та перемножте їх між собою."
   ]
  },
  {
   "cell_type": "code",
   "execution_count": 46,
   "metadata": {},
   "outputs": [
    {
     "name": "stdout",
     "output_type": "stream",
     "text": [
      "Matrix 1:\n",
      "[[8 5]\n",
      " [3 2]\n",
      " [6 8]]\n",
      " Matrix 2:\n",
      "[[4 4]\n",
      " [3 3]]\n",
      "Product of matrices:\n",
      "[[47 47]\n",
      " [18 18]\n",
      " [48 48]]\n"
     ]
    }
   ],
   "source": [
    "m_1 = np.random.randint(1, 9, size = (3, 2))\n",
    "m_2 = np.random.randint(1, 9, size = (2, 2))\n",
    "\n",
    "product_m = np.dot(m_1, m_2)\n",
    "\n",
    "print(f\"Matrix 1:\\n{m_1}\\n Matrix 2:\\n{m_2}\")\n",
    "print(f\"Product of matrices:\\n{product_m}\")"
   ]
  },
  {
   "cell_type": "markdown",
   "metadata": {},
   "source": [
    "# Завдання 8"
   ]
  },
  {
   "cell_type": "markdown",
   "metadata": {},
   "source": [
    "Створіть матрицю розміром 3x3, заповніть її випадковими цілими числами в діапазоні від 1 до 8 та знайдіть її обернену матрицю."
   ]
  },
  {
   "cell_type": "code",
   "execution_count": 47,
   "metadata": {},
   "outputs": [
    {
     "name": "stdout",
     "output_type": "stream",
     "text": [
      "Matrix:\n",
      "[[1 4 7]\n",
      " [2 8 6]\n",
      " [5 6 3]]\n",
      "Inverse matrix:\n",
      "[[ 0.10714286 -0.26785714  0.28571429]\n",
      " [-0.21428571  0.28571429 -0.07142857]\n",
      " [ 0.25       -0.125       0.        ]]\n"
     ]
    }
   ],
   "source": [
    "m = np.random.randint(1, 9, size = (3, 3))\n",
    "\n",
    "inverse_m = np.linalg.inv(m)\n",
    "\n",
    "print(f\"Matrix:\\n{m}\")\n",
    "print(f\"Inverse matrix:\\n{inverse_m}\")"
   ]
  },
  {
   "cell_type": "markdown",
   "metadata": {},
   "source": [
    "# Завдання 9"
   ]
  },
  {
   "cell_type": "markdown",
   "metadata": {},
   "source": [
    "Створіть матрицю розміром 4x4, заповніть її випадковими дійсними числами в діапазоні від -1 до 1 та транспонуйте її."
   ]
  },
  {
   "cell_type": "code",
   "execution_count": 49,
   "metadata": {},
   "outputs": [
    {
     "name": "stdout",
     "output_type": "stream",
     "text": [
      "Matrix:\n",
      "[[-0.58070779  0.79533807 -0.10258844 -0.9365585 ]\n",
      " [ 0.5053437  -0.53560708 -0.12150438 -0.55375013]\n",
      " [-0.17792932  0.60204194  0.93522856 -0.92478591]\n",
      " [-0.27419371 -0.88770144  0.76658956  0.30274592]]\n",
      "Transposed matrix:\n",
      "[[-0.58070779  0.5053437  -0.17792932 -0.27419371]\n",
      " [ 0.79533807 -0.53560708  0.60204194 -0.88770144]\n",
      " [-0.10258844 -0.12150438  0.93522856  0.76658956]\n",
      " [-0.9365585  -0.55375013 -0.92478591  0.30274592]]\n"
     ]
    }
   ],
   "source": [
    "m = np.random.uniform(-1, 1, size = (4, 4))\n",
    "\n",
    "transposed_m = m.T\n",
    "\n",
    "print(f\"Matrix:\\n{m}\")\n",
    "print(f\"Transposed matrix:\\n{transposed_m}\")"
   ]
  },
  {
   "cell_type": "markdown",
   "metadata": {},
   "source": [
    "# Завдання 10"
   ]
  },
  {
   "cell_type": "markdown",
   "metadata": {},
   "source": [
    "Створіть матрицю розміром 3x4 та вектор розміром 4x1, заповніть матрицю випадковими дійсними числами від 0 до 1, а вектор - випадковими цілими числами в діапазоні від 1 до 10, і знайдіть добуток матриці на вектор."
   ]
  },
  {
   "cell_type": "code",
   "execution_count": 51,
   "metadata": {},
   "outputs": [
    {
     "name": "stdout",
     "output_type": "stream",
     "text": [
      "Matrix 3x4:\n",
      "[[0.64285393 0.72760065 0.53589742 0.92258764]\n",
      " [0.87660641 0.4984403  0.43010927 0.15924944]\n",
      " [0.22263858 0.95538716 0.35551849 0.44456473]]\n",
      "Vector 4x1:\n",
      "[[3]\n",
      " [8]\n",
      " [3]\n",
      " [8]]\n",
      "Matrix product by vector:\n",
      "[[16.73776043]\n",
      " [ 9.18166502]\n",
      " [12.93408627]]\n"
     ]
    }
   ],
   "source": [
    "m = np.random.uniform(0, 1, size = (3, 4))\n",
    "v = np.random.randint(1, 11, size = (4, 1))\n",
    "\n",
    "product_m_v = np.dot(m, v)\n",
    "\n",
    "print(f\"Matrix 3x4:\\n{m}\")\n",
    "print(f\"Vector 4x1:\\n{v}\")\n",
    "print(f\"Matrix product by vector:\\n{product_m_v}\")"
   ]
  },
  {
   "cell_type": "markdown",
   "metadata": {},
   "source": [
    "# Завдання 11"
   ]
  },
  {
   "cell_type": "markdown",
   "metadata": {},
   "source": [
    "Створіть матрицю розміром 2x3 та вектор розміром 3, заповніть матрицю випадковими цілими числами в діапазоні від 1 до 10, а вектор - випадковими дійсними числами від 0 до 1, і знайдіть добуток матриці на вектор."
   ]
  },
  {
   "cell_type": "code",
   "execution_count": 52,
   "metadata": {},
   "outputs": [
    {
     "name": "stdout",
     "output_type": "stream",
     "text": [
      "Matrix 2x3:\n",
      "[[ 6 10  7]\n",
      " [ 9  8  6]]\n",
      "Vector 3x1:\n",
      "[[0.74696978]\n",
      " [0.60927716]\n",
      " [0.6722143 ]]\n",
      "Matrix product by vector:\n",
      "[[15.2800903 ]\n",
      " [15.63023102]]\n"
     ]
    }
   ],
   "source": [
    "m = np.random.randint(1, 11, size = (2, 3))\n",
    "v = np.random.uniform(0, 1, size = (3, 1))\n",
    "\n",
    "product_m_v = np.dot(m, v)\n",
    "\n",
    "print(f\"Matrix 2x3:\\n{m}\")\n",
    "print(f\"Vector 3x1:\\n{v}\")\n",
    "print(f\"Matrix product by vector:\\n{product_m_v}\")"
   ]
  },
  {
   "cell_type": "markdown",
   "metadata": {},
   "source": [
    "# Завдання 12"
   ]
  },
  {
   "cell_type": "markdown",
   "metadata": {},
   "source": [
    "Створіть дві матриці розміром 3x3, заповніть їх випадковими цілими числами в діапазоні від 1 до 3 та знайдіть суму всіх елементів другої матриці."
   ]
  },
  {
   "cell_type": "code",
   "execution_count": 53,
   "metadata": {},
   "outputs": [
    {
     "name": "stdout",
     "output_type": "stream",
     "text": [
      "Matrix 1:\n",
      "[[1 2 1]\n",
      " [1 2 3]\n",
      " [1 2 1]]\n",
      " Matrix 2:\n",
      "[[2 3 3]\n",
      " [2 2 2]\n",
      " [1 2 3]]\n",
      "Sum of all the elements of matrix 2:\n",
      "20\n"
     ]
    }
   ],
   "source": [
    "m_1 = np.random.randint(1, 4, size = (3, 3))\n",
    "m_2 = np.random.randint(1, 4, size = (3, 3))\n",
    "\n",
    "sum_m_2 = np.sum(m_2)\n",
    "\n",
    "print(f\"Matrix 1:\\n{m_1}\\n Matrix 2:\\n{m_2}\")\n",
    "print(f\"Sum of all the elements of matrix 2:\\n{sum_m_2}\")"
   ]
  },
  {
   "cell_type": "markdown",
   "metadata": {},
   "source": [
    "# Завдання 13"
   ]
  },
  {
   "cell_type": "markdown",
   "metadata": {},
   "source": [
    "Створіть дві матриці розміром 3x3, заповніть їх випадковими цілими числами в діапазоні від 1 до 5 та знайдіть суму їх елементів."
   ]
  },
  {
   "cell_type": "code",
   "execution_count": 54,
   "metadata": {},
   "outputs": [
    {
     "name": "stdout",
     "output_type": "stream",
     "text": [
      "Matrix 1:\n",
      "[[4 2 4]\n",
      " [4 2 5]\n",
      " [4 2 5]]\n",
      " Matrix 2:\n",
      "[[2 2 1]\n",
      " [4 4 5]\n",
      " [5 1 1]]\n",
      "Sum of all the elements of matrix 1:\n",
      "32\n",
      "Sum of all the elements of matrix 2:\n",
      "25\n"
     ]
    }
   ],
   "source": [
    "m_1 = np.random.randint(1, 6, size = (3, 3))\n",
    "m_2 = np.random.randint(1, 6, size = (3, 3))\n",
    "\n",
    "sum_m_1 = np.sum(m_1)\n",
    "sum_m_2 = np.sum(m_2)\n",
    "\n",
    "print(f\"Matrix 1:\\n{m_1}\\n Matrix 2:\\n{m_2}\")\n",
    "print(f\"Sum of all the elements of matrix 1:\\n{sum_m_1}\")\n",
    "print(f\"Sum of all the elements of matrix 2:\\n{sum_m_2}\")"
   ]
  },
  {
   "cell_type": "markdown",
   "metadata": {},
   "source": [
    "# Завдання 14"
   ]
  },
  {
   "cell_type": "markdown",
   "metadata": {},
   "source": [
    "Створіть матрицю розміром 3x3, заповніть її випадковими цілими числами в діапазоні від 1 до 10 та знайдіть суму елементів на головній діагоналі."
   ]
  },
  {
   "cell_type": "code",
   "execution_count": 55,
   "metadata": {},
   "outputs": [
    {
     "name": "stdout",
     "output_type": "stream",
     "text": [
      "Matrix:\n",
      "[[ 5 10  4]\n",
      " [10  1  5]\n",
      " [ 7  9  9]]\n",
      "Sum of all the elements of matrix on the main diagonal:\n",
      "15\n"
     ]
    }
   ],
   "source": [
    "m = np.random.randint(1, 11, size = (3, 3))\n",
    "\n",
    "diag_sum = np.trace(m)\n",
    "\n",
    "print(f\"Matrix:\\n{m}\")\n",
    "print(f\"Sum of all the elements of matrix on the main diagonal:\\n{diag_sum}\")"
   ]
  },
  {
   "cell_type": "markdown",
   "metadata": {},
   "source": [
    "# Завдання 15"
   ]
  },
  {
   "cell_type": "markdown",
   "metadata": {},
   "source": [
    "Створіть матрицю розміром 3x3, заповніть її випадковими дійсними числами в діапазоні від -1 до 1 та знайдіть вектор-стовпчик, що містить добуток елементів кожного стовпця матриці."
   ]
  },
  {
   "cell_type": "code",
   "execution_count": 62,
   "metadata": {},
   "outputs": [
    {
     "name": "stdout",
     "output_type": "stream",
     "text": [
      "Matrix 3x3:\n",
      "[[-0.57324626  0.50825602  0.88763618]\n",
      " [ 0.44465954 -0.25507555 -0.698545  ]\n",
      " [-0.09197146 -0.91854308  0.5556828 ]]\n",
      "A column vector with products of elements of each column::\n",
      "[[ 0.02344347]\n",
      " [ 0.11908331]\n",
      " [-0.34455324]]\n"
     ]
    }
   ],
   "source": [
    "m = np.random.uniform(-1, 1, size = (3, 3))\n",
    "\n",
    "column_products_v = np.prod(m, axis = 0).reshape(-1 ,1)\n",
    "\n",
    "print(f\"Matrix 3x3:\\n{m}\")\n",
    "print(f\"A column vector with products of elements of each column::\\n{column_products_v}\")"
   ]
  },
  {
   "cell_type": "markdown",
   "metadata": {},
   "source": [
    "# Висновок"
   ]
  },
  {
   "cell_type": "markdown",
   "metadata": {},
   "source": [
    "У даній роботі я згадала як працювати із Jyputer Notebook, Git. Також, згадала основні дії з матрицями та векторами."
   ]
  }
 ],
 "metadata": {
  "kernelspec": {
   "display_name": "Python 3",
   "language": "python",
   "name": "python3"
  },
  "language_info": {
   "codemirror_mode": {
    "name": "ipython",
    "version": 3
   },
   "file_extension": ".py",
   "mimetype": "text/x-python",
   "name": "python",
   "nbconvert_exporter": "python",
   "pygments_lexer": "ipython3",
   "version": "3.11.5"
  }
 },
 "nbformat": 4,
 "nbformat_minor": 2
}

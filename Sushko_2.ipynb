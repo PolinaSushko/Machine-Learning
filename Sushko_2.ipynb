{
 "cells": [
  {
   "cell_type": "code",
   "execution_count": 1,
   "metadata": {},
   "outputs": [],
   "source": [
    "import pandas as pd\n",
    "import numpy as np\n",
    "\n",
    "import matplotlib.pyplot as plt\n",
    "import seaborn as sns\n",
    "import plotly.express as px"
   ]
  },
  {
   "cell_type": "markdown",
   "metadata": {},
   "source": [
    "# Завдання 1"
   ]
  },
  {
   "cell_type": "code",
   "execution_count": 2,
   "metadata": {},
   "outputs": [],
   "source": [
    "url = 'https://en.wikipedia.org/wiki/List_of_countries_by_GDP_(nominal)'"
   ]
  },
  {
   "cell_type": "code",
   "execution_count": 3,
   "metadata": {},
   "outputs": [],
   "source": [
    "tables = pd.read_html(url)\n",
    "df = tables[2]"
   ]
  },
  {
   "cell_type": "markdown",
   "metadata": {},
   "source": [
    "## 1. Вивести перших 5 рядків"
   ]
  },
  {
   "cell_type": "code",
   "execution_count": 4,
   "metadata": {},
   "outputs": [
    {
     "data": {
      "text/html": [
       "<div>\n",
       "<style scoped>\n",
       "    .dataframe tbody tr th:only-of-type {\n",
       "        vertical-align: middle;\n",
       "    }\n",
       "\n",
       "    .dataframe tbody tr th {\n",
       "        vertical-align: top;\n",
       "    }\n",
       "\n",
       "    .dataframe thead tr th {\n",
       "        text-align: left;\n",
       "    }\n",
       "</style>\n",
       "<table border=\"1\" class=\"dataframe\">\n",
       "  <thead>\n",
       "    <tr>\n",
       "      <th></th>\n",
       "      <th>Country/Territory</th>\n",
       "      <th colspan=\"2\" halign=\"left\">IMF[1][13]</th>\n",
       "      <th colspan=\"2\" halign=\"left\">World Bank[14]</th>\n",
       "      <th colspan=\"2\" halign=\"left\">United Nations[15]</th>\n",
       "    </tr>\n",
       "    <tr>\n",
       "      <th></th>\n",
       "      <th>Country/Territory</th>\n",
       "      <th>Forecast</th>\n",
       "      <th>Year</th>\n",
       "      <th>Estimate</th>\n",
       "      <th>Year</th>\n",
       "      <th>Estimate</th>\n",
       "      <th>Year</th>\n",
       "    </tr>\n",
       "  </thead>\n",
       "  <tbody>\n",
       "    <tr>\n",
       "      <th>0</th>\n",
       "      <td>World</td>\n",
       "      <td>109529216</td>\n",
       "      <td>2024</td>\n",
       "      <td>105435540</td>\n",
       "      <td>2023</td>\n",
       "      <td>100834796</td>\n",
       "      <td>2022</td>\n",
       "    </tr>\n",
       "    <tr>\n",
       "      <th>1</th>\n",
       "      <td>United States</td>\n",
       "      <td>28781083</td>\n",
       "      <td>2024</td>\n",
       "      <td>27360935</td>\n",
       "      <td>2023</td>\n",
       "      <td>25744100</td>\n",
       "      <td>2022</td>\n",
       "    </tr>\n",
       "    <tr>\n",
       "      <th>2</th>\n",
       "      <td>China</td>\n",
       "      <td>18532633</td>\n",
       "      <td>[n 1]2024</td>\n",
       "      <td>17794782</td>\n",
       "      <td>[n 3]2023</td>\n",
       "      <td>17963170</td>\n",
       "      <td>[n 1]2022</td>\n",
       "    </tr>\n",
       "    <tr>\n",
       "      <th>3</th>\n",
       "      <td>Germany</td>\n",
       "      <td>4591100</td>\n",
       "      <td>2024</td>\n",
       "      <td>4456081</td>\n",
       "      <td>2023</td>\n",
       "      <td>4076923</td>\n",
       "      <td>2022</td>\n",
       "    </tr>\n",
       "    <tr>\n",
       "      <th>4</th>\n",
       "      <td>Japan</td>\n",
       "      <td>4110452</td>\n",
       "      <td>2024</td>\n",
       "      <td>4212945</td>\n",
       "      <td>2023</td>\n",
       "      <td>4232173</td>\n",
       "      <td>2022</td>\n",
       "    </tr>\n",
       "  </tbody>\n",
       "</table>\n",
       "</div>"
      ],
      "text/plain": [
       "  Country/Territory IMF[1][13]            World Bank[14]             \\\n",
       "  Country/Territory   Forecast       Year       Estimate       Year   \n",
       "0             World  109529216       2024      105435540       2023   \n",
       "1     United States   28781083       2024       27360935       2023   \n",
       "2             China   18532633  [n 1]2024       17794782  [n 3]2023   \n",
       "3           Germany    4591100       2024        4456081       2023   \n",
       "4             Japan    4110452       2024        4212945       2023   \n",
       "\n",
       "  United Nations[15]             \n",
       "            Estimate       Year  \n",
       "0          100834796       2022  \n",
       "1           25744100       2022  \n",
       "2           17963170  [n 1]2022  \n",
       "3            4076923       2022  \n",
       "4            4232173       2022  "
      ]
     },
     "execution_count": 4,
     "metadata": {},
     "output_type": "execute_result"
    }
   ],
   "source": [
    "df.head()"
   ]
  },
  {
   "cell_type": "markdown",
   "metadata": {},
   "source": [
    "## 2. Визначити розмір датасета."
   ]
  },
  {
   "cell_type": "code",
   "execution_count": 5,
   "metadata": {},
   "outputs": [
    {
     "data": {
      "text/plain": [
       "(210, 7)"
      ]
     },
     "execution_count": 5,
     "metadata": {},
     "output_type": "execute_result"
    }
   ],
   "source": [
    "df.shape"
   ]
  },
  {
   "cell_type": "markdown",
   "metadata": {},
   "source": [
    "## 3. Визначити оптимальну кількість стовпців."
   ]
  },
  {
   "cell_type": "code",
   "execution_count": 6,
   "metadata": {},
   "outputs": [
    {
     "data": {
      "text/plain": [
       "MultiIndex([( 'Country/Territory', 'Country/Territory'),\n",
       "            (        'IMF[1][13]',          'Forecast'),\n",
       "            (        'IMF[1][13]',              'Year'),\n",
       "            (    'World Bank[14]',          'Estimate'),\n",
       "            (    'World Bank[14]',              'Year'),\n",
       "            ('United Nations[15]',          'Estimate'),\n",
       "            ('United Nations[15]',              'Year')],\n",
       "           )"
      ]
     },
     "execution_count": 6,
     "metadata": {},
     "output_type": "execute_result"
    }
   ],
   "source": [
    "df.columns"
   ]
  },
  {
   "cell_type": "code",
   "execution_count": 7,
   "metadata": {},
   "outputs": [
    {
     "data": {
      "text/plain": [
       "7"
      ]
     },
     "execution_count": 7,
     "metadata": {},
     "output_type": "execute_result"
    }
   ],
   "source": [
    "len(df.columns)"
   ]
  },
  {
   "cell_type": "markdown",
   "metadata": {},
   "source": [
    "## 4. Змінити назви стовпців на більш зручні."
   ]
  },
  {
   "cell_type": "markdown",
   "metadata": {},
   "source": [
    "Перейменування стовпців"
   ]
  },
  {
   "cell_type": "code",
   "execution_count": 8,
   "metadata": {},
   "outputs": [],
   "source": [
    "new_cols = ['Country', 'IMF_Forecast', 'IMF_Year', 'WorldBank_Estimate', 'WorldBank_Year', 'UN_Estimate', 'UN_Year']"
   ]
  },
  {
   "cell_type": "code",
   "execution_count": 9,
   "metadata": {},
   "outputs": [],
   "source": [
    "df.columns = new_cols"
   ]
  },
  {
   "cell_type": "code",
   "execution_count": 10,
   "metadata": {},
   "outputs": [
    {
     "data": {
      "text/html": [
       "<div>\n",
       "<style scoped>\n",
       "    .dataframe tbody tr th:only-of-type {\n",
       "        vertical-align: middle;\n",
       "    }\n",
       "\n",
       "    .dataframe tbody tr th {\n",
       "        vertical-align: top;\n",
       "    }\n",
       "\n",
       "    .dataframe thead th {\n",
       "        text-align: right;\n",
       "    }\n",
       "</style>\n",
       "<table border=\"1\" class=\"dataframe\">\n",
       "  <thead>\n",
       "    <tr style=\"text-align: right;\">\n",
       "      <th></th>\n",
       "      <th>Country</th>\n",
       "      <th>IMF_Forecast</th>\n",
       "      <th>IMF_Year</th>\n",
       "      <th>WorldBank_Estimate</th>\n",
       "      <th>WorldBank_Year</th>\n",
       "      <th>UN_Estimate</th>\n",
       "      <th>UN_Year</th>\n",
       "    </tr>\n",
       "  </thead>\n",
       "  <tbody>\n",
       "    <tr>\n",
       "      <th>0</th>\n",
       "      <td>World</td>\n",
       "      <td>109529216</td>\n",
       "      <td>2024</td>\n",
       "      <td>105435540</td>\n",
       "      <td>2023</td>\n",
       "      <td>100834796</td>\n",
       "      <td>2022</td>\n",
       "    </tr>\n",
       "    <tr>\n",
       "      <th>1</th>\n",
       "      <td>United States</td>\n",
       "      <td>28781083</td>\n",
       "      <td>2024</td>\n",
       "      <td>27360935</td>\n",
       "      <td>2023</td>\n",
       "      <td>25744100</td>\n",
       "      <td>2022</td>\n",
       "    </tr>\n",
       "    <tr>\n",
       "      <th>2</th>\n",
       "      <td>China</td>\n",
       "      <td>18532633</td>\n",
       "      <td>[n 1]2024</td>\n",
       "      <td>17794782</td>\n",
       "      <td>[n 3]2023</td>\n",
       "      <td>17963170</td>\n",
       "      <td>[n 1]2022</td>\n",
       "    </tr>\n",
       "    <tr>\n",
       "      <th>3</th>\n",
       "      <td>Germany</td>\n",
       "      <td>4591100</td>\n",
       "      <td>2024</td>\n",
       "      <td>4456081</td>\n",
       "      <td>2023</td>\n",
       "      <td>4076923</td>\n",
       "      <td>2022</td>\n",
       "    </tr>\n",
       "    <tr>\n",
       "      <th>4</th>\n",
       "      <td>Japan</td>\n",
       "      <td>4110452</td>\n",
       "      <td>2024</td>\n",
       "      <td>4212945</td>\n",
       "      <td>2023</td>\n",
       "      <td>4232173</td>\n",
       "      <td>2022</td>\n",
       "    </tr>\n",
       "  </tbody>\n",
       "</table>\n",
       "</div>"
      ],
      "text/plain": [
       "         Country IMF_Forecast   IMF_Year WorldBank_Estimate WorldBank_Year  \\\n",
       "0          World    109529216       2024          105435540           2023   \n",
       "1  United States     28781083       2024           27360935           2023   \n",
       "2          China     18532633  [n 1]2024           17794782      [n 3]2023   \n",
       "3        Germany      4591100       2024            4456081           2023   \n",
       "4          Japan      4110452       2024            4212945           2023   \n",
       "\n",
       "  UN_Estimate    UN_Year  \n",
       "0   100834796       2022  \n",
       "1    25744100       2022  \n",
       "2    17963170  [n 1]2022  \n",
       "3     4076923       2022  \n",
       "4     4232173       2022  "
      ]
     },
     "execution_count": 10,
     "metadata": {},
     "output_type": "execute_result"
    }
   ],
   "source": [
    "df.head()"
   ]
  },
  {
   "cell_type": "markdown",
   "metadata": {},
   "source": [
    "Перейменування стовпців та вдалення стовпців із даними про рік із датасету"
   ]
  },
  {
   "cell_type": "code",
   "execution_count": 12,
   "metadata": {},
   "outputs": [],
   "source": [
    "df = df.rename(columns = {\n",
    "    'IMF_Forecast' : 'MVF_2024',\n",
    "    'WorldBank_Estimate' : 'WorldBank_2023',\n",
    "    'UN_Estimate' : 'OON_2022'\n",
    "})\n",
    "\n",
    "df.drop(columns = ['IMF_Year', 'WorldBank_Year', 'UN_Year'], inplace = True)"
   ]
  },
  {
   "cell_type": "code",
   "execution_count": 13,
   "metadata": {},
   "outputs": [
    {
     "data": {
      "text/html": [
       "<div>\n",
       "<style scoped>\n",
       "    .dataframe tbody tr th:only-of-type {\n",
       "        vertical-align: middle;\n",
       "    }\n",
       "\n",
       "    .dataframe tbody tr th {\n",
       "        vertical-align: top;\n",
       "    }\n",
       "\n",
       "    .dataframe thead th {\n",
       "        text-align: right;\n",
       "    }\n",
       "</style>\n",
       "<table border=\"1\" class=\"dataframe\">\n",
       "  <thead>\n",
       "    <tr style=\"text-align: right;\">\n",
       "      <th></th>\n",
       "      <th>Country</th>\n",
       "      <th>MVF_2024</th>\n",
       "      <th>WorldBank_2023</th>\n",
       "      <th>OON_2022</th>\n",
       "    </tr>\n",
       "  </thead>\n",
       "  <tbody>\n",
       "    <tr>\n",
       "      <th>0</th>\n",
       "      <td>World</td>\n",
       "      <td>109529216</td>\n",
       "      <td>105435540</td>\n",
       "      <td>100834796</td>\n",
       "    </tr>\n",
       "    <tr>\n",
       "      <th>1</th>\n",
       "      <td>United States</td>\n",
       "      <td>28781083</td>\n",
       "      <td>27360935</td>\n",
       "      <td>25744100</td>\n",
       "    </tr>\n",
       "    <tr>\n",
       "      <th>2</th>\n",
       "      <td>China</td>\n",
       "      <td>18532633</td>\n",
       "      <td>17794782</td>\n",
       "      <td>17963170</td>\n",
       "    </tr>\n",
       "    <tr>\n",
       "      <th>3</th>\n",
       "      <td>Germany</td>\n",
       "      <td>4591100</td>\n",
       "      <td>4456081</td>\n",
       "      <td>4076923</td>\n",
       "    </tr>\n",
       "    <tr>\n",
       "      <th>4</th>\n",
       "      <td>Japan</td>\n",
       "      <td>4110452</td>\n",
       "      <td>4212945</td>\n",
       "      <td>4232173</td>\n",
       "    </tr>\n",
       "  </tbody>\n",
       "</table>\n",
       "</div>"
      ],
      "text/plain": [
       "         Country   MVF_2024 WorldBank_2023   OON_2022\n",
       "0          World  109529216      105435540  100834796\n",
       "1  United States   28781083       27360935   25744100\n",
       "2          China   18532633       17794782   17963170\n",
       "3        Germany    4591100        4456081    4076923\n",
       "4          Japan    4110452        4212945    4232173"
      ]
     },
     "execution_count": 13,
     "metadata": {},
     "output_type": "execute_result"
    }
   ],
   "source": [
    "df.head()"
   ]
  },
  {
   "cell_type": "markdown",
   "metadata": {},
   "source": [
    "## 5. Визначити тип даних."
   ]
  },
  {
   "cell_type": "code",
   "execution_count": 14,
   "metadata": {},
   "outputs": [
    {
     "name": "stdout",
     "output_type": "stream",
     "text": [
      "<class 'pandas.core.frame.DataFrame'>\n",
      "RangeIndex: 210 entries, 0 to 209\n",
      "Data columns (total 4 columns):\n",
      " #   Column          Non-Null Count  Dtype \n",
      "---  ------          --------------  ----- \n",
      " 0   Country         210 non-null    object\n",
      " 1   MVF_2024        210 non-null    object\n",
      " 2   WorldBank_2023  210 non-null    object\n",
      " 3   OON_2022        210 non-null    object\n",
      "dtypes: object(4)\n",
      "memory usage: 6.7+ KB\n"
     ]
    }
   ],
   "source": [
    "df.info()"
   ]
  },
  {
   "cell_type": "markdown",
   "metadata": {},
   "source": [
    "Всі дані, окрім стовпця 'Country' у датасеті числові, але типи даних - 'object', тому знінюємо типи даних на числові"
   ]
  },
  {
   "cell_type": "code",
   "execution_count": 15,
   "metadata": {},
   "outputs": [],
   "source": [
    "df['MVF_2024'] = pd.to_numeric(df['MVF_2024'], errors = 'coerce')\n",
    "df['WorldBank_2023'] = pd.to_numeric(df['WorldBank_2023'], errors = 'coerce')\n",
    "df['OON_2022'] = pd.to_numeric(df['OON_2022'], errors = 'coerce')"
   ]
  },
  {
   "cell_type": "code",
   "execution_count": 16,
   "metadata": {},
   "outputs": [
    {
     "name": "stdout",
     "output_type": "stream",
     "text": [
      "<class 'pandas.core.frame.DataFrame'>\n",
      "RangeIndex: 210 entries, 0 to 209\n",
      "Data columns (total 4 columns):\n",
      " #   Column          Non-Null Count  Dtype  \n",
      "---  ------          --------------  -----  \n",
      " 0   Country         210 non-null    object \n",
      " 1   MVF_2024        195 non-null    float64\n",
      " 2   WorldBank_2023  202 non-null    float64\n",
      " 3   OON_2022        209 non-null    float64\n",
      "dtypes: float64(3), object(1)\n",
      "memory usage: 6.7+ KB\n"
     ]
    }
   ],
   "source": [
    "df.info()"
   ]
  },
  {
   "cell_type": "markdown",
   "metadata": {},
   "source": [
    "## 6. Замініть у таблиці значення \"—\" на значення NaN. Перевірити наявність пропущених значень. При наявності, замінити пропущені значення на середнє значення."
   ]
  },
  {
   "cell_type": "code",
   "execution_count": 17,
   "metadata": {},
   "outputs": [],
   "source": [
    "# Заміна '—' на NaN\n",
    "df.replace('—', np.nan, inplace = True)"
   ]
  },
  {
   "cell_type": "code",
   "execution_count": 18,
   "metadata": {},
   "outputs": [
    {
     "data": {
      "text/plain": [
       "Country            0\n",
       "MVF_2024          15\n",
       "WorldBank_2023     8\n",
       "OON_2022           1\n",
       "dtype: int64"
      ]
     },
     "execution_count": 18,
     "metadata": {},
     "output_type": "execute_result"
    }
   ],
   "source": [
    "# Перевірка наявності пропущених значень\n",
    "df.isna().sum()"
   ]
  },
  {
   "cell_type": "code",
   "execution_count": 19,
   "metadata": {},
   "outputs": [],
   "source": [
    "# Заміна пропущених значень на середнє\n",
    "df = df.fillna(df.mean(numeric_only = True), axis = 0)"
   ]
  },
  {
   "cell_type": "markdown",
   "metadata": {},
   "source": [
    "## 7. Ще раз перевірити наявність пропущених значень."
   ]
  },
  {
   "cell_type": "code",
   "execution_count": 20,
   "metadata": {},
   "outputs": [
    {
     "data": {
      "text/plain": [
       "Country           0\n",
       "MVF_2024          0\n",
       "WorldBank_2023    0\n",
       "OON_2022          0\n",
       "dtype: int64"
      ]
     },
     "execution_count": 20,
     "metadata": {},
     "output_type": "execute_result"
    }
   ],
   "source": [
    "df.isna().sum()"
   ]
  },
  {
   "cell_type": "markdown",
   "metadata": {},
   "source": [
    "## 8. Перевірити наявність дублікатів. При наявності видалити дублікати."
   ]
  },
  {
   "cell_type": "code",
   "execution_count": 21,
   "metadata": {},
   "outputs": [
    {
     "data": {
      "text/plain": [
       "0"
      ]
     },
     "execution_count": 21,
     "metadata": {},
     "output_type": "execute_result"
    }
   ],
   "source": [
    "df.duplicated().sum()"
   ]
  },
  {
   "cell_type": "markdown",
   "metadata": {},
   "source": [
    "Дублікатів немає"
   ]
  },
  {
   "cell_type": "markdown",
   "metadata": {},
   "source": [
    "## 9. Вивести описову статистику датасету describe()"
   ]
  },
  {
   "cell_type": "code",
   "execution_count": 22,
   "metadata": {},
   "outputs": [
    {
     "data": {
      "text/html": [
       "<div>\n",
       "<style scoped>\n",
       "    .dataframe tbody tr th:only-of-type {\n",
       "        vertical-align: middle;\n",
       "    }\n",
       "\n",
       "    .dataframe tbody tr th {\n",
       "        vertical-align: top;\n",
       "    }\n",
       "\n",
       "    .dataframe thead th {\n",
       "        text-align: right;\n",
       "    }\n",
       "</style>\n",
       "<table border=\"1\" class=\"dataframe\">\n",
       "  <thead>\n",
       "    <tr style=\"text-align: right;\">\n",
       "      <th></th>\n",
       "      <th>MVF_2024</th>\n",
       "      <th>WorldBank_2023</th>\n",
       "      <th>OON_2022</th>\n",
       "    </tr>\n",
       "  </thead>\n",
       "  <tbody>\n",
       "    <tr>\n",
       "      <th>count</th>\n",
       "      <td>210.0</td>\n",
       "      <td>210.0</td>\n",
       "      <td>210.0</td>\n",
       "    </tr>\n",
       "    <tr>\n",
       "      <th>mean</th>\n",
       "      <td>1123228.0</td>\n",
       "      <td>1037206.0</td>\n",
       "      <td>961270.0</td>\n",
       "    </tr>\n",
       "    <tr>\n",
       "      <th>std</th>\n",
       "      <td>7900707.0</td>\n",
       "      <td>7602076.0</td>\n",
       "      <td>7275608.0</td>\n",
       "    </tr>\n",
       "    <tr>\n",
       "      <th>min</th>\n",
       "      <td>66.0</td>\n",
       "      <td>62.0</td>\n",
       "      <td>59.0</td>\n",
       "    </tr>\n",
       "    <tr>\n",
       "      <th>25%</th>\n",
       "      <td>14648.0</td>\n",
       "      <td>10442.0</td>\n",
       "      <td>8928.0</td>\n",
       "    </tr>\n",
       "    <tr>\n",
       "      <th>50%</th>\n",
       "      <td>62158.0</td>\n",
       "      <td>43416.0</td>\n",
       "      <td>32102.0</td>\n",
       "    </tr>\n",
       "    <tr>\n",
       "      <th>75%</th>\n",
       "      <td>436636.0</td>\n",
       "      <td>337659.0</td>\n",
       "      <td>241248.0</td>\n",
       "    </tr>\n",
       "    <tr>\n",
       "      <th>max</th>\n",
       "      <td>109529216.0</td>\n",
       "      <td>105435540.0</td>\n",
       "      <td>100834796.0</td>\n",
       "    </tr>\n",
       "  </tbody>\n",
       "</table>\n",
       "</div>"
      ],
      "text/plain": [
       "          MVF_2024  WorldBank_2023     OON_2022\n",
       "count        210.0           210.0        210.0\n",
       "mean     1123228.0       1037206.0     961270.0\n",
       "std      7900707.0       7602076.0    7275608.0\n",
       "min           66.0            62.0         59.0\n",
       "25%        14648.0         10442.0       8928.0\n",
       "50%        62158.0         43416.0      32102.0\n",
       "75%       436636.0        337659.0     241248.0\n",
       "max    109529216.0     105435540.0  100834796.0"
      ]
     },
     "execution_count": 22,
     "metadata": {},
     "output_type": "execute_result"
    }
   ],
   "source": [
    "df.describe().round()"
   ]
  },
  {
   "cell_type": "markdown",
   "metadata": {},
   "source": [
    "## 10. Визначте відхилення (різницю) між показниками MVF_2024 та WorldBank_2023 для кожної країни. У яких країнах ці показники найбільше відрізняються (дати відповідт)?"
   ]
  },
  {
   "cell_type": "code",
   "execution_count": 23,
   "metadata": {},
   "outputs": [],
   "source": [
    "df['Difference_2024_2023'] = (df['MVF_2024'] - df['WorldBank_2023']).round()"
   ]
  },
  {
   "cell_type": "code",
   "execution_count": 24,
   "metadata": {},
   "outputs": [
    {
     "data": {
      "text/html": [
       "<div>\n",
       "<style scoped>\n",
       "    .dataframe tbody tr th:only-of-type {\n",
       "        vertical-align: middle;\n",
       "    }\n",
       "\n",
       "    .dataframe tbody tr th {\n",
       "        vertical-align: top;\n",
       "    }\n",
       "\n",
       "    .dataframe thead th {\n",
       "        text-align: right;\n",
       "    }\n",
       "</style>\n",
       "<table border=\"1\" class=\"dataframe\">\n",
       "  <thead>\n",
       "    <tr style=\"text-align: right;\">\n",
       "      <th></th>\n",
       "      <th>Country</th>\n",
       "      <th>MVF_2024</th>\n",
       "      <th>WorldBank_2023</th>\n",
       "      <th>OON_2022</th>\n",
       "      <th>Difference_2024_2023</th>\n",
       "    </tr>\n",
       "  </thead>\n",
       "  <tbody>\n",
       "    <tr>\n",
       "      <th>0</th>\n",
       "      <td>World</td>\n",
       "      <td>109529216.0</td>\n",
       "      <td>105435540.0</td>\n",
       "      <td>100834796.0</td>\n",
       "      <td>4093676.0</td>\n",
       "    </tr>\n",
       "    <tr>\n",
       "      <th>1</th>\n",
       "      <td>United States</td>\n",
       "      <td>28781083.0</td>\n",
       "      <td>27360935.0</td>\n",
       "      <td>25744100.0</td>\n",
       "      <td>1420148.0</td>\n",
       "    </tr>\n",
       "    <tr>\n",
       "      <th>2</th>\n",
       "      <td>China</td>\n",
       "      <td>18532633.0</td>\n",
       "      <td>17794782.0</td>\n",
       "      <td>17963170.0</td>\n",
       "      <td>737851.0</td>\n",
       "    </tr>\n",
       "    <tr>\n",
       "      <th>3</th>\n",
       "      <td>Germany</td>\n",
       "      <td>4591100.0</td>\n",
       "      <td>4456081.0</td>\n",
       "      <td>4076923.0</td>\n",
       "      <td>135019.0</td>\n",
       "    </tr>\n",
       "    <tr>\n",
       "      <th>4</th>\n",
       "      <td>Japan</td>\n",
       "      <td>4110452.0</td>\n",
       "      <td>4212945.0</td>\n",
       "      <td>4232173.0</td>\n",
       "      <td>-102493.0</td>\n",
       "    </tr>\n",
       "  </tbody>\n",
       "</table>\n",
       "</div>"
      ],
      "text/plain": [
       "         Country     MVF_2024  WorldBank_2023     OON_2022  \\\n",
       "0          World  109529216.0     105435540.0  100834796.0   \n",
       "1  United States   28781083.0      27360935.0   25744100.0   \n",
       "2          China   18532633.0      17794782.0   17963170.0   \n",
       "3        Germany    4591100.0       4456081.0    4076923.0   \n",
       "4          Japan    4110452.0       4212945.0    4232173.0   \n",
       "\n",
       "   Difference_2024_2023  \n",
       "0             4093676.0  \n",
       "1             1420148.0  \n",
       "2              737851.0  \n",
       "3              135019.0  \n",
       "4             -102493.0  "
      ]
     },
     "execution_count": 24,
     "metadata": {},
     "output_type": "execute_result"
    }
   ],
   "source": [
    "df.head()"
   ]
  },
  {
   "cell_type": "code",
   "execution_count": 25,
   "metadata": {},
   "outputs": [],
   "source": [
    "largest_diff = df.nlargest(5, 'Difference_2024_2023')"
   ]
  },
  {
   "cell_type": "code",
   "execution_count": 26,
   "metadata": {},
   "outputs": [
    {
     "data": {
      "text/html": [
       "<div>\n",
       "<style scoped>\n",
       "    .dataframe tbody tr th:only-of-type {\n",
       "        vertical-align: middle;\n",
       "    }\n",
       "\n",
       "    .dataframe tbody tr th {\n",
       "        vertical-align: top;\n",
       "    }\n",
       "\n",
       "    .dataframe thead th {\n",
       "        text-align: right;\n",
       "    }\n",
       "</style>\n",
       "<table border=\"1\" class=\"dataframe\">\n",
       "  <thead>\n",
       "    <tr style=\"text-align: right;\">\n",
       "      <th></th>\n",
       "      <th>Country</th>\n",
       "      <th>MVF_2024</th>\n",
       "      <th>WorldBank_2023</th>\n",
       "      <th>OON_2022</th>\n",
       "      <th>Difference_2024_2023</th>\n",
       "    </tr>\n",
       "  </thead>\n",
       "  <tbody>\n",
       "    <tr>\n",
       "      <th>0</th>\n",
       "      <td>World</td>\n",
       "      <td>1.095292e+08</td>\n",
       "      <td>105435540.0</td>\n",
       "      <td>100834796.0</td>\n",
       "      <td>4093676.0</td>\n",
       "    </tr>\n",
       "    <tr>\n",
       "      <th>1</th>\n",
       "      <td>United States</td>\n",
       "      <td>2.878108e+07</td>\n",
       "      <td>27360935.0</td>\n",
       "      <td>25744100.0</td>\n",
       "      <td>1420148.0</td>\n",
       "    </tr>\n",
       "    <tr>\n",
       "      <th>196</th>\n",
       "      <td>Turks and Caicos Islands</td>\n",
       "      <td>1.123228e+06</td>\n",
       "      <td>1402.0</td>\n",
       "      <td>1138.0</td>\n",
       "      <td>1121826.0</td>\n",
       "    </tr>\n",
       "    <tr>\n",
       "      <th>193</th>\n",
       "      <td>Sint Maarten</td>\n",
       "      <td>1.123228e+06</td>\n",
       "      <td>1623.0</td>\n",
       "      <td>1572.0</td>\n",
       "      <td>1121605.0</td>\n",
       "    </tr>\n",
       "    <tr>\n",
       "      <th>178</th>\n",
       "      <td>Curaçao</td>\n",
       "      <td>1.123228e+06</td>\n",
       "      <td>3074.0</td>\n",
       "      <td>3075.0</td>\n",
       "      <td>1120154.0</td>\n",
       "    </tr>\n",
       "  </tbody>\n",
       "</table>\n",
       "</div>"
      ],
      "text/plain": [
       "                      Country      MVF_2024  WorldBank_2023     OON_2022  \\\n",
       "0                       World  1.095292e+08     105435540.0  100834796.0   \n",
       "1               United States  2.878108e+07      27360935.0   25744100.0   \n",
       "196  Turks and Caicos Islands  1.123228e+06          1402.0       1138.0   \n",
       "193              Sint Maarten  1.123228e+06          1623.0       1572.0   \n",
       "178                   Curaçao  1.123228e+06          3074.0       3075.0   \n",
       "\n",
       "     Difference_2024_2023  \n",
       "0               4093676.0  \n",
       "1               1420148.0  \n",
       "196             1121826.0  \n",
       "193             1121605.0  \n",
       "178             1120154.0  "
      ]
     },
     "execution_count": 26,
     "metadata": {},
     "output_type": "execute_result"
    }
   ],
   "source": [
    "largest_diff"
   ]
  },
  {
   "cell_type": "markdown",
   "metadata": {},
   "source": [
    "ТОП 5 країн, у яких найбільше відрізняються показники: World, United States, Turks and Caicos Islands, Sint Maarten, Curaçao"
   ]
  },
  {
   "cell_type": "markdown",
   "metadata": {},
   "source": [
    "## 11. Обчисліть кореляцію між показниками MVF_2024, WorldBank_2023 та OON_2022. Які пари змінних мають найвищу кореляцію?"
   ]
  },
  {
   "cell_type": "code",
   "execution_count": 27,
   "metadata": {},
   "outputs": [],
   "source": [
    "selected_cols = ['MVF_2024', 'WorldBank_2023', 'OON_2022']"
   ]
  },
  {
   "cell_type": "code",
   "execution_count": 28,
   "metadata": {},
   "outputs": [
    {
     "data": {
      "image/png": "[encoded data removed]",
      "text/plain": [
       "<Figure size 1000x500 with 2 Axes>"
      ]
     },
     "metadata": {},
     "output_type": "display_data"
    }
   ],
   "source": [
    "# Відображення кореляційної матриці\n",
    "corr_data = df[selected_cols].corr()\n",
    "\n",
    "plt.figure(figsize = (10, 5))\n",
    "sns.heatmap(data = corr_data, annot = True, cmap = \"RdYlGn\", cbar = True, fmt='.4f')\n",
    "plt.show()\n"
   ]
  },
  {
   "cell_type": "code",
   "execution_count": 29,
   "metadata": {},
   "outputs": [
    {
     "name": "stdout",
     "output_type": "stream",
     "text": [
      "Пара з найвищою кореляцією:\n",
      "WorldBank_2023  OON_2022    0.999656\n",
      "dtype: float64\n"
     ]
    }
   ],
   "source": [
    "highest_correlation = corr_data.unstack().sort_values(ascending = False)\n",
    "highest_correlation = highest_correlation[highest_correlation < 1].head(1)\n",
    "\n",
    "print(f\"Пара з найвищою кореляцією:\\n{highest_correlation}\")"
   ]
  },
  {
   "cell_type": "markdown",
   "metadata": {},
   "source": [
    "## 12. Обчисліть середнє значення для кожного стовпця (MVF_2024, WorldBank_2023, OON_2022). Як це середнє значення змінюється між роками?"
   ]
  },
  {
   "cell_type": "code",
   "execution_count": 30,
   "metadata": {},
   "outputs": [
    {
     "data": {
      "text/plain": [
       "MVF_2024          1123228.0\n",
       "WorldBank_2023    1037206.0\n",
       "OON_2022           961270.0\n",
       "dtype: float64"
      ]
     },
     "execution_count": 30,
     "metadata": {},
     "output_type": "execute_result"
    }
   ],
   "source": [
    "df[selected_cols].mean().round()"
   ]
  },
  {
   "cell_type": "markdown",
   "metadata": {},
   "source": [
    "З кожним роком середнє значення збільшується"
   ]
  },
  {
   "cell_type": "markdown",
   "metadata": {},
   "source": [
    "## 13. Обчисліть стандартне відхилення показників для кожної країни. Яка країна має найвищу варіативність у показниках між роками?"
   ]
  },
  {
   "cell_type": "code",
   "execution_count": 31,
   "metadata": {},
   "outputs": [
    {
     "data": {
      "text/html": [
       "<div>\n",
       "<style scoped>\n",
       "    .dataframe tbody tr th:only-of-type {\n",
       "        vertical-align: middle;\n",
       "    }\n",
       "\n",
       "    .dataframe tbody tr th {\n",
       "        vertical-align: top;\n",
       "    }\n",
       "\n",
       "    .dataframe thead th {\n",
       "        text-align: right;\n",
       "    }\n",
       "</style>\n",
       "<table border=\"1\" class=\"dataframe\">\n",
       "  <thead>\n",
       "    <tr style=\"text-align: right;\">\n",
       "      <th></th>\n",
       "      <th>Country</th>\n",
       "      <th>MVF_2024</th>\n",
       "      <th>WorldBank_2023</th>\n",
       "      <th>OON_2022</th>\n",
       "      <th>Difference_2024_2023</th>\n",
       "      <th>std_dev</th>\n",
       "    </tr>\n",
       "  </thead>\n",
       "  <tbody>\n",
       "    <tr>\n",
       "      <th>0</th>\n",
       "      <td>World</td>\n",
       "      <td>1.095292e+08</td>\n",
       "      <td>105435540.0</td>\n",
       "      <td>100834796.0</td>\n",
       "      <td>4093676.0</td>\n",
       "      <td>4349674.0</td>\n",
       "    </tr>\n",
       "    <tr>\n",
       "      <th>1</th>\n",
       "      <td>United States</td>\n",
       "      <td>2.878108e+07</td>\n",
       "      <td>27360935.0</td>\n",
       "      <td>25744100.0</td>\n",
       "      <td>1420148.0</td>\n",
       "      <td>1519553.0</td>\n",
       "    </tr>\n",
       "    <tr>\n",
       "      <th>196</th>\n",
       "      <td>Turks and Caicos Islands</td>\n",
       "      <td>1.123228e+06</td>\n",
       "      <td>1402.0</td>\n",
       "      <td>1138.0</td>\n",
       "      <td>1121826.0</td>\n",
       "      <td>647763.0</td>\n",
       "    </tr>\n",
       "    <tr>\n",
       "      <th>193</th>\n",
       "      <td>Sint Maarten</td>\n",
       "      <td>1.123228e+06</td>\n",
       "      <td>1623.0</td>\n",
       "      <td>1572.0</td>\n",
       "      <td>1121605.0</td>\n",
       "      <td>647573.0</td>\n",
       "    </tr>\n",
       "    <tr>\n",
       "      <th>178</th>\n",
       "      <td>Curaçao</td>\n",
       "      <td>1.123228e+06</td>\n",
       "      <td>3074.0</td>\n",
       "      <td>3075.0</td>\n",
       "      <td>1120154.0</td>\n",
       "      <td>646721.0</td>\n",
       "    </tr>\n",
       "    <tr>\n",
       "      <th>176</th>\n",
       "      <td>Greenland</td>\n",
       "      <td>1.123228e+06</td>\n",
       "      <td>3236.0</td>\n",
       "      <td>2926.0</td>\n",
       "      <td>1119992.0</td>\n",
       "      <td>646717.0</td>\n",
       "    </tr>\n",
       "    <tr>\n",
       "      <th>166</th>\n",
       "      <td>French Polynesia</td>\n",
       "      <td>1.123228e+06</td>\n",
       "      <td>5815.0</td>\n",
       "      <td>5814.0</td>\n",
       "      <td>1117413.0</td>\n",
       "      <td>645139.0</td>\n",
       "    </tr>\n",
       "    <tr>\n",
       "      <th>164</th>\n",
       "      <td>Cayman Islands</td>\n",
       "      <td>1.123228e+06</td>\n",
       "      <td>6601.0</td>\n",
       "      <td>6281.0</td>\n",
       "      <td>1116627.0</td>\n",
       "      <td>644777.0</td>\n",
       "    </tr>\n",
       "    <tr>\n",
       "      <th>160</th>\n",
       "      <td>Liechtenstein</td>\n",
       "      <td>1.123228e+06</td>\n",
       "      <td>7365.0</td>\n",
       "      <td>7757.0</td>\n",
       "      <td>1115863.0</td>\n",
       "      <td>644130.0</td>\n",
       "    </tr>\n",
       "    <tr>\n",
       "      <th>161</th>\n",
       "      <td>Bermuda</td>\n",
       "      <td>1.123228e+06</td>\n",
       "      <td>7828.0</td>\n",
       "      <td>7546.0</td>\n",
       "      <td>1115400.0</td>\n",
       "      <td>644058.0</td>\n",
       "    </tr>\n",
       "  </tbody>\n",
       "</table>\n",
       "</div>"
      ],
      "text/plain": [
       "                      Country      MVF_2024  WorldBank_2023     OON_2022  \\\n",
       "0                       World  1.095292e+08     105435540.0  100834796.0   \n",
       "1               United States  2.878108e+07      27360935.0   25744100.0   \n",
       "196  Turks and Caicos Islands  1.123228e+06          1402.0       1138.0   \n",
       "193              Sint Maarten  1.123228e+06          1623.0       1572.0   \n",
       "178                   Curaçao  1.123228e+06          3074.0       3075.0   \n",
       "176                 Greenland  1.123228e+06          3236.0       2926.0   \n",
       "166          French Polynesia  1.123228e+06          5815.0       5814.0   \n",
       "164            Cayman Islands  1.123228e+06          6601.0       6281.0   \n",
       "160             Liechtenstein  1.123228e+06          7365.0       7757.0   \n",
       "161                   Bermuda  1.123228e+06          7828.0       7546.0   \n",
       "\n",
       "     Difference_2024_2023    std_dev  \n",
       "0               4093676.0  4349674.0  \n",
       "1               1420148.0  1519553.0  \n",
       "196             1121826.0   647763.0  \n",
       "193             1121605.0   647573.0  \n",
       "178             1120154.0   646721.0  \n",
       "176             1119992.0   646717.0  \n",
       "166             1117413.0   645139.0  \n",
       "164             1116627.0   644777.0  \n",
       "160             1115863.0   644130.0  \n",
       "161             1115400.0   644058.0  "
      ]
     },
     "execution_count": 31,
     "metadata": {},
     "output_type": "execute_result"
    }
   ],
   "source": [
    "std_dev = df[selected_cols].std(axis=1).round()\n",
    "\n",
    "df['std_dev'] = std_dev\n",
    "\n",
    "df_sorted = df.sort_values(by='std_dev', ascending=False)\n",
    "\n",
    "df_sorted.head(10)\n"
   ]
  },
  {
   "cell_type": "markdown",
   "metadata": {},
   "source": [
    "США має найвищу варіативність у показниках між роками"
   ]
  },
  {
   "cell_type": "markdown",
   "metadata": {},
   "source": [
    "## 14. Визначення країни з найвищим та найнижчим показниками: Знайдіть країну з найвищим та найнижчим показниками у кожному з років (MVF_2024, WorldBank_2023, OON_2022)."
   ]
  },
  {
   "cell_type": "code",
   "execution_count": 32,
   "metadata": {},
   "outputs": [
    {
     "name": "stdout",
     "output_type": "stream",
     "text": [
      "Для MVF_2024:\n",
      "- Країна з максимальним показником: United States\n",
      "- Країна з мінімальним показником: Tuvalu\n",
      "Для WorldBank_2023:\n",
      "- Країна з максимальним показником: United States\n",
      "- Країна з мінімальним показником: Tuvalu\n",
      "Для OON_2022:\n",
      "- Країна з максимальним показником: United States\n",
      "- Країна з мінімальним показником: Tuvalu\n"
     ]
    }
   ],
   "source": [
    "df_filtered = df[df['Country'] != 'World']\n",
    "\n",
    "for year in ['MVF_2024', 'WorldBank_2023', 'OON_2022']:\n",
    "    max_country = df_filtered.loc[df_filtered[year].idxmax(), 'Country']\n",
    "    min_country = df_filtered.loc[df_filtered[year].idxmin(), 'Country']\n",
    "    print(f\"Для {year}:\")\n",
    "    print(f\"- Країна з максимальним показником: {max_country}\")\n",
    "    print(f\"- Країна з мінімальним показником: {min_country}\")"
   ]
  },
  {
   "cell_type": "markdown",
   "metadata": {},
   "source": [
    "## 15. Побудуйте гістограму для розподілу показників MVF_2024 серед всіх країн. Який вигляд має розподіл? Чи є країни, що виділяються?"
   ]
  },
  {
   "cell_type": "code",
   "execution_count": 33,
   "metadata": {},
   "outputs": [
    {
     "data": {
      "image/png": "[encoded data removed]",
      "text/plain": [
       "<Figure size 640x480 with 1 Axes>"
      ]
     },
     "metadata": {},
     "output_type": "display_data"
    }
   ],
   "source": [
    "sns.kdeplot(data = df, x = 'MVF_2024', fill = False, linewidth=2)\n",
    "\n",
    "plt.xlabel('Показник MVF_2024')\n",
    "plt.ylabel('Щільність')\n",
    "plt.title('Розподіл показника MVF_2024')\n",
    "\n",
    "plt.show()"
   ]
  },
  {
   "cell_type": "markdown",
   "metadata": {},
   "source": [
    "Більшість країн мають схожі значення показника MVF_2024, що може вказувати на загальні тенденції або вплив спільних факторів.\n",
    "Правий \"хвіст\" графіка може вказувати на наявність кількох країн з аномально високими значеннями показника. "
   ]
  },
  {
   "cell_type": "markdown",
   "metadata": {},
   "source": [
    "## 16. Розрахуйте частку кожної країни в загальному значенні для кожного року (MVF_2024, WorldBank_2023, OON_2022). Як змінюються частки країн з часом (дати відповідь)?"
   ]
  },
  {
   "cell_type": "code",
   "execution_count": 34,
   "metadata": {},
   "outputs": [
    {
     "name": "stdout",
     "output_type": "stream",
     "text": [
      "Назва країни: United States\n",
      "Частка у ВВП за МВФ 2024: 22.78%\n",
      "Частка у ВВП за Світовим банком 2023: 24.35%\n",
      "Частка у ВВП за ООН 2022: 25.48%\n",
      "------------------------------\n",
      "Назва країни: China\n",
      "Частка у ВВП за МВФ 2024: 14.67%\n",
      "Частка у ВВП за Світовим банком 2023: 15.83%\n",
      "Частка у ВВП за ООН 2022: 17.78%\n",
      "------------------------------\n",
      "Назва країни: Germany\n",
      "Частка у ВВП за МВФ 2024: 3.63%\n",
      "Частка у ВВП за Світовим банком 2023: 3.97%\n",
      "Частка у ВВП за ООН 2022: 4.04%\n",
      "------------------------------\n",
      "Назва країни: Japan\n",
      "Частка у ВВП за МВФ 2024: 3.25%\n",
      "Частка у ВВП за Світовим банком 2023: 3.75%\n",
      "Частка у ВВП за ООН 2022: 4.19%\n",
      "------------------------------\n",
      "Назва країни: India\n",
      "Частка у ВВП за МВФ 2024: 3.12%\n",
      "Частка у ВВП за Світовим банком 2023: 3.16%\n",
      "Частка у ВВП за ООН 2022: 3.43%\n",
      "------------------------------\n",
      "Назва країни: United Kingdom\n",
      "Частка у ВВП за МВФ 2024: 2.77%\n",
      "Частка у ВВП за Світовим банком 2023: 2.97%\n",
      "Частка у ВВП за ООН 2022: 3.06%\n",
      "------------------------------\n",
      "Назва країни: France\n",
      "Частка у ВВП за МВФ 2024: 2.48%\n",
      "Частка у ВВП за Світовим банком 2023: 2.70%\n",
      "Частка у ВВП за ООН 2022: 2.75%\n",
      "------------------------------\n",
      "Назва країни: Brazil\n",
      "Частка у ВВП за МВФ 2024: 1.85%\n",
      "Частка у ВВП за Світовим банком 2023: 1.93%\n",
      "Частка у ВВП за ООН 2022: 1.90%\n",
      "------------------------------\n",
      "Назва країни: Italy\n",
      "Частка у ВВП за МВФ 2024: 1.84%\n",
      "Частка у ВВП за Світовим банком 2023: 2.01%\n",
      "Частка у ВВП за ООН 2022: 2.03%\n",
      "------------------------------\n",
      "Назва країни: Canada\n",
      "Частка у ВВП за МВФ 2024: 1.77%\n",
      "Частка у ВВП за Світовим банком 2023: 1.90%\n",
      "Частка у ВВП за ООН 2022: 2.12%\n",
      "------------------------------\n",
      "Назва країни: Russia\n",
      "Частка у ВВП за МВФ 2024: 1.63%\n",
      "Частка у ВВП за Світовим банком 2023: 1.80%\n",
      "Частка у ВВП за ООН 2022: 2.22%\n",
      "------------------------------\n",
      "Назва країни: Mexico\n",
      "Частка у ВВП за МВФ 2024: 1.60%\n",
      "Частка у ВВП за Світовим банком 2023: 1.59%\n",
      "Частка у ВВП за ООН 2022: 1.45%\n",
      "------------------------------\n",
      "Назва країни: Australia\n",
      "Частка у ВВП за МВФ 2024: 1.42%\n",
      "Частка у ВВП за Світовим банком 2023: 1.53%\n",
      "Частка у ВВП за ООН 2022: 1.76%\n",
      "------------------------------\n",
      "Назва країни: South Korea\n",
      "Частка у ВВП за МВФ 2024: 1.39%\n",
      "Частка у ВВП за Світовим банком 2023: 1.52%\n",
      "Частка у ВВП за ООН 2022: 1.66%\n",
      "------------------------------\n",
      "Назва країни: Spain\n",
      "Частка у ВВП за МВФ 2024: 1.30%\n",
      "Частка у ВВП за Світовим банком 2023: 1.41%\n",
      "Частка у ВВП за ООН 2022: 1.40%\n",
      "------------------------------\n",
      "Назва країни: Indonesia\n",
      "Частка у ВВП за МВФ 2024: 1.17%\n",
      "Частка у ВВП за Світовим банком 2023: 1.22%\n",
      "Частка у ВВП за ООН 2022: 1.31%\n",
      "------------------------------\n",
      "Назва країни: Netherlands\n",
      "Частка у ВВП за МВФ 2024: 0.90%\n",
      "Частка у ВВП за Світовим банком 2023: 0.99%\n",
      "Частка у ВВП за ООН 2022: 1.00%\n",
      "------------------------------\n",
      "Назва країни: Turkey\n",
      "Частка у ВВП за МВФ 2024: 0.88%\n",
      "Частка у ВВП за Світовим банком 2023: 0.99%\n",
      "Частка у ВВП за ООН 2022: 0.90%\n",
      "------------------------------\n",
      "Назва країни: Saudi Arabia\n",
      "Частка у ВВП за МВФ 2024: 0.88%\n",
      "Частка у ВВП за Світовим банком 2023: 0.95%\n",
      "Частка у ВВП за ООН 2022: 1.10%\n",
      "------------------------------\n",
      "Назва країни: Switzerland\n",
      "Частка у ВВП за МВФ 2024: 0.74%\n",
      "Частка у ВВП за Світовим банком 2023: 0.79%\n",
      "Частка у ВВП за ООН 2022: 0.81%\n",
      "------------------------------\n",
      "Назва країни: Poland\n",
      "Частка у ВВП за МВФ 2024: 0.67%\n",
      "Частка у ВВП за Світовим банком 2023: 0.72%\n",
      "Частка у ВВП за ООН 2022: 0.68%\n",
      "------------------------------\n",
      "Назва країни: Taiwan\n",
      "Частка у ВВП за МВФ 2024: 0.64%\n",
      "Частка у ВВП за Світовим банком 2023: 0.92%\n",
      "Частка у ВВП за ООН 2022: 0.95%\n",
      "------------------------------\n",
      "Назва країни: Belgium\n",
      "Частка у ВВП за МВФ 2024: 0.52%\n",
      "Частка у ВВП за Світовим банком 2023: 0.56%\n",
      "Частка у ВВП за ООН 2022: 0.58%\n",
      "------------------------------\n",
      "Назва країни: Sweden\n",
      "Частка у ВВП за МВФ 2024: 0.49%\n",
      "Частка у ВВП за Світовим банком 2023: 0.53%\n",
      "Частка у ВВП за ООН 2022: 0.59%\n",
      "------------------------------\n",
      "Назва країни: Argentina\n",
      "Частка у ВВП за МВФ 2024: 0.48%\n",
      "Частка у ВВП за Світовим банком 2023: 0.57%\n",
      "Частка у ВВП за ООН 2022: 0.62%\n",
      "------------------------------\n",
      "Назва країни: Ireland\n",
      "Частка у ВВП за МВФ 2024: 0.45%\n",
      "Частка у ВВП за Світовим банком 2023: 0.49%\n",
      "Частка у ВВП за ООН 2022: 0.53%\n",
      "------------------------------\n",
      "Назва країни: Thailand\n",
      "Частка у ВВП за МВФ 2024: 0.43%\n",
      "Частка у ВВП за Світовим банком 2023: 0.46%\n",
      "Частка у ВВП за ООН 2022: 0.49%\n",
      "------------------------------\n",
      "Назва країни: Austria\n",
      "Частка у ВВП за МВФ 2024: 0.43%\n",
      "Частка у ВВП за Світовим банком 2023: 0.46%\n",
      "Частка у ВВП за ООН 2022: 0.47%\n",
      "------------------------------\n",
      "Назва країни: Israel\n",
      "Частка у ВВП за МВФ 2024: 0.42%\n",
      "Частка у ВВП за Світовим банком 2023: 0.45%\n",
      "Частка у ВВП за ООН 2022: 0.52%\n",
      "------------------------------\n",
      "Назва країни: United Arab Emirates\n",
      "Частка у ВВП за МВФ 2024: 0.42%\n",
      "Частка у ВВП за Світовим банком 2023: 0.45%\n",
      "Частка у ВВП за ООН 2022: 0.50%\n",
      "------------------------------\n",
      "Назва країни: Norway\n",
      "Частка у ВВП за МВФ 2024: 0.42%\n",
      "Частка у ВВП за Світовим банком 2023: 0.43%\n",
      "Частка у ВВП за ООН 2022: 0.57%\n",
      "------------------------------\n",
      "Назва країни: Singapore\n",
      "Частка у ВВП за МВФ 2024: 0.42%\n",
      "Частка у ВВП за Світовим банком 2023: 0.45%\n",
      "Частка у ВВП за ООН 2022: 0.46%\n",
      "------------------------------\n",
      "Назва країни: Philippines\n",
      "Частка у ВВП за МВФ 2024: 0.37%\n",
      "Частка у ВВП за Світовим банком 2023: 0.39%\n",
      "Частка у ВВП за ООН 2022: 0.40%\n",
      "------------------------------\n",
      "Назва країни: Vietnam\n",
      "Частка у ВВП за МВФ 2024: 0.37%\n",
      "Частка у ВВП за Світовим банком 2023: 0.38%\n",
      "Частка у ВВП за ООН 2022: 0.40%\n",
      "------------------------------\n",
      "Назва країни: Iran\n",
      "Частка у ВВП за МВФ 2024: 0.37%\n",
      "Частка у ВВП за Світовим банком 2023: 0.36%\n",
      "Частка у ВВП за ООН 2022: 0.39%\n",
      "------------------------------\n",
      "Назва країни: Bangladesh\n",
      "Частка у ВВП за МВФ 2024: 0.36%\n",
      "Частка у ВВП за Світовим банком 2023: 0.39%\n",
      "Частка у ВВП за ООН 2022: 0.43%\n",
      "------------------------------\n",
      "Назва країни: Malaysia\n",
      "Частка у ВВП за МВФ 2024: 0.35%\n",
      "Частка у ВВП за Світовим банком 2023: 0.36%\n",
      "Частка у ВВП за ООН 2022: 0.40%\n",
      "------------------------------\n",
      "Назва країни: Denmark\n",
      "Частка у ВВП за МВФ 2024: 0.32%\n",
      "Частка у ВВП за Світовим банком 2023: 0.36%\n",
      "Частка у ВВП за ООН 2022: 0.40%\n",
      "------------------------------\n",
      "Назва країни: Hong Kong\n",
      "Частка у ВВП за МВФ 2024: 0.32%\n",
      "Частка у ВВП за Світовим банком 2023: 0.34%\n",
      "Частка у ВВП за ООН 2022: 0.36%\n",
      "------------------------------\n",
      "Назва країни: Colombia\n",
      "Частка у ВВП за МВФ 2024: 0.31%\n",
      "Частка у ВВП за Світовим банком 2023: 0.32%\n",
      "Частка у ВВП за ООН 2022: 0.34%\n",
      "------------------------------\n",
      "Назва країни: South Africa\n",
      "Частка у ВВП за МВФ 2024: 0.30%\n",
      "Частка у ВВП за Світовим банком 2023: 0.34%\n",
      "Частка у ВВП за ООН 2022: 0.40%\n",
      "------------------------------\n",
      "Назва країни: Romania\n",
      "Частка у ВВП за МВФ 2024: 0.29%\n",
      "Частка у ВВП за Світовим банком 2023: 0.31%\n",
      "Частка у ВВП за ООН 2022: 0.30%\n",
      "------------------------------\n",
      "Назва країни: Egypt\n",
      "Частка у ВВП за МВФ 2024: 0.28%\n",
      "Частка у ВВП за Світовим банком 2023: 0.35%\n",
      "Частка у ВВП за ООН 2022: 0.41%\n",
      "------------------------------\n",
      "Назва країни: Pakistan\n",
      "Частка у ВВП за МВФ 2024: 0.27%\n",
      "Частка у ВВП за Світовим банком 2023: 0.30%\n",
      "Частка у ВВП за ООН 2022: 0.32%\n",
      "------------------------------\n",
      "Назва країни: Chile\n",
      "Частка у ВВП за МВФ 2024: 0.26%\n",
      "Частка у ВВП за Світовим банком 2023: 0.30%\n",
      "Частка у ВВП за ООН 2022: 0.30%\n",
      "------------------------------\n",
      "Назва країни: Czech Republic\n",
      "Частка у ВВП за МВФ 2024: 0.26%\n",
      "Частка у ВВП за Світовим банком 2023: 0.29%\n",
      "Частка у ВВП за ООН 2022: 0.29%\n",
      "------------------------------\n",
      "Назва країни: Finland\n",
      "Частка у ВВП за МВФ 2024: 0.24%\n",
      "Частка у ВВП за Світовим банком 2023: 0.27%\n",
      "Частка у ВВП за ООН 2022: 0.28%\n",
      "------------------------------\n",
      "Назва країни: Portugal\n",
      "Частка у ВВП за МВФ 2024: 0.24%\n",
      "Частка у ВВП за Світовим банком 2023: 0.26%\n",
      "Частка у ВВП за ООН 2022: 0.25%\n",
      "------------------------------\n",
      "Назва країни: Kazakhstan\n",
      "Частка у ВВП за МВФ 2024: 0.23%\n",
      "Частка у ВВП за Світовим банком 2023: 0.23%\n",
      "Частка у ВВП за ООН 2022: 0.22%\n",
      "------------------------------\n",
      "Назва країни: Peru\n",
      "Частка у ВВП за МВФ 2024: 0.22%\n",
      "Частка у ВВП за Світовим банком 2023: 0.24%\n",
      "Частка у ВВП за ООН 2022: 0.24%\n",
      "------------------------------\n",
      "Назва країни: Algeria\n",
      "Частка у ВВП за МВФ 2024: 0.21%\n",
      "Частка у ВВП за Світовим банком 2023: 0.21%\n",
      "Частка у ВВП за ООН 2022: 0.19%\n",
      "------------------------------\n",
      "Назва країни: Iraq\n",
      "Частка у ВВП за МВФ 2024: 0.21%\n",
      "Частка у ВВП за Світовим банком 2023: 0.22%\n",
      "Частка у ВВП за ООН 2022: 0.26%\n",
      "------------------------------\n",
      "Назва країни: New Zealand\n",
      "Частка у ВВП за МВФ 2024: 0.20%\n",
      "Частка у ВВП за Світовим банком 2023: 0.23%\n",
      "Частка у ВВП за ООН 2022: 0.24%\n",
      "------------------------------\n",
      "Назва країни: Nigeria\n",
      "Частка у ВВП за МВФ 2024: 0.20%\n",
      "Частка у ВВП за Світовим банком 2023: 0.32%\n",
      "Частка у ВВП за ООН 2022: 0.47%\n",
      "------------------------------\n",
      "Назва країни: Greece\n",
      "Частка у ВВП за МВФ 2024: 0.20%\n",
      "Частка у ВВП за Світовим банком 2023: 0.21%\n",
      "Частка у ВВП за ООН 2022: 0.22%\n",
      "------------------------------\n",
      "Назва країни: Qatar\n",
      "Частка у ВВП за МВФ 2024: 0.19%\n",
      "Частка у ВВП за Світовим банком 2023: 0.21%\n",
      "Частка у ВВП за ООН 2022: 0.23%\n",
      "------------------------------\n",
      "Назва країни: Hungary\n",
      "Частка у ВВП за МВФ 2024: 0.18%\n",
      "Частка у ВВП за Світовим банком 2023: 0.19%\n",
      "Частка у ВВП за ООН 2022: 0.18%\n",
      "------------------------------\n",
      "Назва країни: Ethiopia\n",
      "Частка у ВВП за МВФ 2024: 0.16%\n",
      "Частка у ВВП за Світовим банком 2023: 0.15%\n",
      "Частка у ВВП за ООН 2022: 0.12%\n",
      "------------------------------\n",
      "Назва країни: Ukraine\n",
      "Частка у ВВП за МВФ 2024: 0.15%\n",
      "Частка у ВВП за Світовим банком 2023: 0.16%\n",
      "Частка у ВВП за ООН 2022: 0.16%\n",
      "------------------------------\n",
      "Назва країни: Kuwait\n",
      "Частка у ВВП за МВФ 2024: 0.13%\n",
      "Частка у ВВП за Світовим банком 2023: 0.14%\n",
      "Частка у ВВП за ООН 2022: 0.17%\n",
      "------------------------------\n",
      "Назва країни: Morocco\n",
      "Частка у ВВП за МВФ 2024: 0.12%\n",
      "Частка у ВВП за Світовим банком 2023: 0.13%\n",
      "Частка у ВВП за ООН 2022: 0.13%\n",
      "------------------------------\n",
      "Назва країни: Cuba\n",
      "Частка у ВВП за МВФ 2024: 0.89%\n",
      "Частка у ВВП за Світовим банком 2023: 0.92%\n",
      "Частка у ВВП за ООН 2022: 0.15%\n",
      "------------------------------\n",
      "Назва країни: Slovakia\n",
      "Частка у ВВП за МВФ 2024: 0.11%\n",
      "Частка у ВВП за Світовим банком 2023: 0.12%\n",
      "Частка у ВВП за ООН 2022: 0.11%\n",
      "------------------------------\n",
      "Назва країни: Dominican Republic\n",
      "Частка у ВВП за МВФ 2024: 0.10%\n",
      "Частка у ВВП за Світовим банком 2023: 0.11%\n",
      "Частка у ВВП за ООН 2022: 0.11%\n",
      "------------------------------\n",
      "Назва країни: Ecuador\n",
      "Частка у ВВП за МВФ 2024: 0.10%\n",
      "Частка у ВВП за Світовим банком 2023: 0.11%\n",
      "Частка у ВВП за ООН 2022: 0.11%\n",
      "------------------------------\n",
      "Назва країни: Puerto Rico\n",
      "Частка у ВВП за МВФ 2024: 0.09%\n",
      "Частка у ВВП за Світовим банком 2023: 0.10%\n",
      "Частка у ВВП за ООН 2022: 0.11%\n",
      "------------------------------\n",
      "Назва країни: Guatemala\n",
      "Частка у ВВП за МВФ 2024: 0.09%\n",
      "Частка у ВВП за Світовим банком 2023: 0.09%\n",
      "Частка у ВВП за ООН 2022: 0.09%\n",
      "------------------------------\n",
      "Назва країни: Oman\n",
      "Частка у ВВП за МВФ 2024: 0.09%\n",
      "Частка у ВВП за Світовим банком 2023: 0.10%\n",
      "Частка у ВВП за ООН 2022: 0.11%\n",
      "------------------------------\n",
      "Назва країни: Bulgaria\n",
      "Частка у ВВП за МВФ 2024: 0.09%\n",
      "Частка у ВВП за Світовим банком 2023: 0.09%\n",
      "Частка у ВВП за ООН 2022: 0.09%\n",
      "------------------------------\n",
      "Назва країни: Kenya\n",
      "Частка у ВВП за МВФ 2024: 0.08%\n",
      "Частка у ВВП за Світовим банком 2023: 0.10%\n",
      "Частка у ВВП за ООН 2022: 0.11%\n",
      "------------------------------\n",
      "Назва країни: Venezuela\n",
      "Частка у ВВП за МВФ 2024: 0.08%\n",
      "Частка у ВВП за Світовим банком 2023: 0.92%\n",
      "Частка у ВВП за ООН 2022: 0.13%\n",
      "------------------------------\n",
      "Назва країни: Uzbekistan\n",
      "Частка у ВВП за МВФ 2024: 0.08%\n",
      "Частка у ВВП за Світовим банком 2023: 0.08%\n",
      "Частка у ВВП за ООН 2022: 0.08%\n",
      "------------------------------\n",
      "Назва країни: Costa Rica\n",
      "Частка у ВВП за МВФ 2024: 0.08%\n",
      "Частка у ВВП за Світовим банком 2023: 0.08%\n",
      "Частка у ВВП за ООН 2022: 0.07%\n",
      "------------------------------\n",
      "Назва країни: Angola\n",
      "Частка у ВВП за МВФ 2024: 0.07%\n",
      "Частка у ВВП за Світовим банком 2023: 0.08%\n",
      "Частка у ВВП за ООН 2022: 0.11%\n",
      "------------------------------\n",
      "Назва країни: Luxembourg\n",
      "Частка у ВВП за МВФ 2024: 0.07%\n",
      "Частка у ВВП за Світовим банком 2023: 0.08%\n",
      "Частка у ВВП за ООН 2022: 0.08%\n",
      "------------------------------\n",
      "Назва країни: Croatia\n",
      "Частка у ВВП за МВФ 2024: 0.07%\n",
      "Частка у ВВП за Світовим банком 2023: 0.07%\n",
      "Частка у ВВП за ООН 2022: 0.07%\n",
      "------------------------------\n",
      "Назва країни: Panama\n",
      "Частка у ВВП за МВФ 2024: 0.07%\n",
      "Частка у ВВП за Світовим банком 2023: 0.07%\n",
      "Частка у ВВП за ООН 2022: 0.08%\n",
      "------------------------------\n",
      "Назва країни: Ivory Coast\n",
      "Частка у ВВП за МВФ 2024: 0.07%\n",
      "Частка у ВВП за Світовим банком 2023: 0.07%\n",
      "Частка у ВВП за ООН 2022: 0.07%\n",
      "------------------------------\n",
      "Назва країни: Uruguay\n",
      "Частка у ВВП за МВФ 2024: 0.07%\n",
      "Частка у ВВП за Світовим банком 2023: 0.07%\n",
      "Частка у ВВП за ООН 2022: 0.07%\n",
      "------------------------------\n",
      "Назва країни: Turkmenistan\n",
      "Частка у ВВП за МВФ 2024: 0.06%\n",
      "Частка у ВВП за Світовим банком 2023: 0.05%\n",
      "Частка у ВВП за ООН 2022: 0.07%\n",
      "------------------------------\n",
      "Назва країни: Serbia\n",
      "Частка у ВВП за МВФ 2024: 0.06%\n",
      "Частка у ВВП за Світовим банком 2023: 0.07%\n",
      "Частка у ВВП за ООН 2022: 0.06%\n",
      "------------------------------\n",
      "Назва країни: Lithuania\n",
      "Частка у ВВП за МВФ 2024: 0.06%\n",
      "Частка у ВВП за Світовим банком 2023: 0.07%\n",
      "Частка у ВВП за ООН 2022: 0.07%\n",
      "------------------------------\n",
      "Назва країни: Tanzania\n",
      "Частка у ВВП за МВФ 2024: 0.06%\n",
      "Частка у ВВП за Світовим банком 2023: 0.07%\n",
      "Частка у ВВП за ООН 2022: 0.07%\n",
      "------------------------------\n",
      "Назва країни: Azerbaijan\n",
      "Частка у ВВП за МВФ 2024: 0.06%\n",
      "Частка у ВВП за Світовим банком 2023: 0.06%\n",
      "Частка у ВВП за ООН 2022: 0.08%\n",
      "------------------------------\n",
      "Назва країни: Ghana\n",
      "Частка у ВВП за МВФ 2024: 0.06%\n",
      "Частка у ВВП за Світовим банком 2023: 0.07%\n",
      "Частка у ВВП за ООН 2022: 0.07%\n",
      "------------------------------\n",
      "Назва країни: Sri Lanka\n",
      "Частка у ВВП за МВФ 2024: 0.06%\n",
      "Частка у ВВП за Світовим банком 2023: 0.08%\n",
      "Частка у ВВП за ООН 2022: 0.08%\n",
      "------------------------------\n",
      "Назва країни: DR Congo\n",
      "Частка у ВВП за МВФ 2024: 0.06%\n",
      "Частка у ВВП за Світовим банком 2023: 0.06%\n",
      "Частка у ВВП за ООН 2022: 0.06%\n",
      "------------------------------\n",
      "Назва країни: Slovenia\n",
      "Частка у ВВП за МВФ 2024: 0.06%\n",
      "Частка у ВВП за Світовим банком 2023: 0.06%\n",
      "Частка у ВВП за ООН 2022: 0.06%\n",
      "------------------------------\n",
      "Назва країни: Belarus\n",
      "Частка у ВВП за МВФ 2024: 0.05%\n",
      "Частка у ВВП за Світовим банком 2023: 0.06%\n",
      "Частка у ВВП за ООН 2022: 0.07%\n",
      "------------------------------\n",
      "Назва країни: Myanmar\n",
      "Частка у ВВП за МВФ 2024: 0.05%\n",
      "Частка у ВВП за Світовим банком 2023: 0.06%\n",
      "Частка у ВВП за ООН 2022: 0.06%\n",
      "------------------------------\n",
      "Назва країни: Uganda\n",
      "Частка у ВВП за МВФ 2024: 0.04%\n",
      "Частка у ВВП за Світовим банком 2023: 0.04%\n",
      "Частка у ВВП за ООН 2022: 0.05%\n",
      "------------------------------\n",
      "Назва країни: Tunisia\n",
      "Частка у ВВП за МВФ 2024: 0.04%\n",
      "Частка у ВВП за Світовим банком 2023: 0.04%\n",
      "Частка у ВВП за ООН 2022: 0.05%\n",
      "------------------------------\n",
      "Назва країни: Macau\n",
      "Частка у ВВП за МВФ 2024: 0.04%\n",
      "Частка у ВВП за Світовим банком 2023: 0.04%\n",
      "Частка у ВВП за ООН 2022: 0.02%\n",
      "------------------------------\n",
      "Назва країни: Jordan\n",
      "Частка у ВВП за МВФ 2024: 0.04%\n",
      "Частка у ВВП за Світовим банком 2023: 0.05%\n",
      "Частка у ВВП за ООН 2022: 0.05%\n",
      "------------------------------\n",
      "Назва країни: Cameroon\n",
      "Частка у ВВП за МВФ 2024: 0.04%\n",
      "Частка у ВВП за Світовим банком 2023: 0.04%\n",
      "Частка у ВВП за ООН 2022: 0.04%\n",
      "------------------------------\n",
      "Назва країни: Bolivia\n",
      "Частка у ВВП за МВФ 2024: 0.04%\n",
      "Частка у ВВП за Світовим банком 2023: 0.04%\n",
      "Частка у ВВП за ООН 2022: 0.04%\n",
      "------------------------------\n",
      "Назва країни: Libya\n",
      "Частка у ВВП за МВФ 2024: 0.04%\n",
      "Частка у ВВП за Світовим банком 2023: 0.04%\n",
      "Частка у ВВП за ООН 2022: 0.04%\n",
      "------------------------------\n",
      "Назва країни: Bahrain\n",
      "Частка у ВВП за МВФ 2024: 0.04%\n",
      "Частка у ВВП за Світовим банком 2023: 0.04%\n",
      "Частка у ВВП за ООН 2022: 0.04%\n",
      "------------------------------\n",
      "Назва країни: Paraguay\n",
      "Частка у ВВП за МВФ 2024: 0.04%\n",
      "Частка у ВВП за Світовим банком 2023: 0.04%\n",
      "Частка у ВВП за ООН 2022: 0.04%\n",
      "------------------------------\n",
      "Назва країни: Latvia\n",
      "Частка у ВВП за МВФ 2024: 0.04%\n",
      "Частка у ВВП за Світовим банком 2023: 0.04%\n",
      "Частка у ВВП за ООН 2022: 0.04%\n",
      "------------------------------\n",
      "Назва країни: Cambodia\n",
      "Частка у ВВП за МВФ 2024: 0.04%\n",
      "Частка у ВВП за Світовим банком 2023: 0.03%\n",
      "Частка у ВВП за ООН 2022: 0.03%\n",
      "------------------------------\n",
      "Назва країни: Nepal\n",
      "Частка у ВВП за МВФ 2024: 0.03%\n",
      "Частка у ВВП за Світовим банком 2023: 0.04%\n",
      "Частка у ВВП за ООН 2022: 0.04%\n",
      "------------------------------\n",
      "Назва країни: Estonia\n",
      "Частка у ВВП за МВФ 2024: 0.03%\n",
      "Частка у ВВП за Світовим банком 2023: 0.04%\n",
      "Частка у ВВП за ООН 2022: 0.04%\n",
      "------------------------------\n",
      "Назва країни: Honduras\n",
      "Частка у ВВП за МВФ 2024: 0.03%\n",
      "Частка у ВВП за Світовим банком 2023: 0.03%\n",
      "Частка у ВВП за ООН 2022: 0.03%\n",
      "------------------------------\n",
      "Назва країни: Senegal\n",
      "Частка у ВВП за МВФ 2024: 0.03%\n",
      "Частка у ВВП за Світовим банком 2023: 0.03%\n",
      "Частка у ВВП за ООН 2022: 0.03%\n",
      "------------------------------\n",
      "Назва країни: El Salvador\n",
      "Частка у ВВП за МВФ 2024: 0.03%\n",
      "Частка у ВВП за Світовим банком 2023: 0.03%\n",
      "Частка у ВВП за ООН 2022: 0.03%\n",
      "------------------------------\n",
      "Назва країни: Zimbabwe\n",
      "Частка у ВВП за МВФ 2024: 0.03%\n",
      "Частка у ВВП за Світовим банком 2023: 0.02%\n",
      "Частка у ВВП за ООН 2022: 0.03%\n",
      "------------------------------\n",
      "Назва країни: Cyprus\n",
      "Частка у ВВП за МВФ 2024: 0.03%\n",
      "Частка у ВВП за Світовим банком 2023: 0.03%\n",
      "Частка у ВВП за ООН 2022: 0.03%\n",
      "------------------------------\n",
      "Назва країни: Iceland\n",
      "Частка у ВВП за МВФ 2024: 0.03%\n",
      "Частка у ВВП за Світовим банком 2023: 0.03%\n",
      "Частка у ВВП за ООН 2022: 0.03%\n",
      "------------------------------\n",
      "Назва країни: Georgia\n",
      "Частка у ВВП за МВФ 2024: 0.03%\n",
      "Частка у ВВП за Світовим банком 2023: 0.03%\n",
      "Частка у ВВП за ООН 2022: 0.02%\n",
      "------------------------------\n",
      "Назва країни: Papua New Guinea\n",
      "Частка у ВВП за МВФ 2024: 0.03%\n",
      "Частка у ВВП за Світовим банком 2023: 0.03%\n",
      "Частка у ВВП за ООН 2022: 0.03%\n",
      "------------------------------\n",
      "Назва країни: Zambia\n",
      "Частка у ВВП за МВФ 2024: 0.02%\n",
      "Частка у ВВП за Світовим банком 2023: 0.03%\n",
      "Частка у ВВП за ООН 2022: 0.03%\n",
      "------------------------------\n",
      "Назва країни: Bosnia and Herzegovina\n",
      "Частка у ВВП за МВФ 2024: 0.02%\n",
      "Частка у ВВП за Світовим банком 2023: 0.02%\n",
      "Частка у ВВП за ООН 2022: 0.02%\n",
      "------------------------------\n",
      "Назва країни: Trinidad and Tobago\n",
      "Частка у ВВП за МВФ 2024: 0.02%\n",
      "Частка у ВВП за Світовим банком 2023: 0.03%\n",
      "Частка у ВВП за ООН 2022: 0.03%\n",
      "------------------------------\n",
      "Назва країни: Sudan\n",
      "Частка у ВВП за МВФ 2024: 0.02%\n",
      "Частка у ВВП за Світовим банком 2023: 0.10%\n",
      "Частка у ВВП за ООН 2022: 0.04%\n",
      "------------------------------\n",
      "Назва країни: Guinea\n",
      "Частка у ВВП за МВФ 2024: 0.02%\n",
      "Частка у ВВП за Світовим банком 2023: 0.02%\n",
      "Частка у ВВП за ООН 2022: 0.02%\n",
      "------------------------------\n",
      "Назва країни: Albania\n",
      "Частка у ВВП за МВФ 2024: 0.02%\n",
      "Частка у ВВП за Світовим банком 2023: 0.02%\n",
      "Частка у ВВП за ООН 2022: 0.02%\n",
      "------------------------------\n",
      "Назва країни: Armenia\n",
      "Частка у ВВП за МВФ 2024: 0.02%\n",
      "Частка у ВВП за Світовим банком 2023: 0.02%\n",
      "Частка у ВВП за ООН 2022: 0.02%\n",
      "------------------------------\n",
      "Назва країни: Haiti\n",
      "Частка у ВВП за МВФ 2024: 0.02%\n",
      "Частка у ВВП за Світовим банком 2023: 0.02%\n",
      "Частка у ВВП за ООН 2022: 0.02%\n",
      "------------------------------\n",
      "Назва країни: Mozambique\n",
      "Частка у ВВП за МВФ 2024: 0.02%\n",
      "Частка у ВВП за Світовим банком 2023: 0.02%\n",
      "Частка у ВВП за ООН 2022: 0.02%\n",
      "------------------------------\n",
      "Назва країни: Malta\n",
      "Частка у ВВП за МВФ 2024: 0.02%\n",
      "Частка у ВВП за Світовим банком 2023: 0.02%\n",
      "Частка у ВВП за ООН 2022: 0.02%\n",
      "------------------------------\n",
      "Назва країни: Mongolia\n",
      "Частка у ВВП за МВФ 2024: 0.02%\n",
      "Частка у ВВП за Світовим банком 2023: 0.02%\n",
      "Частка у ВВП за ООН 2022: 0.02%\n",
      "------------------------------\n",
      "Назва країни: Burkina Faso\n",
      "Частка у ВВП за МВФ 2024: 0.02%\n",
      "Частка у ВВП за Світовим банком 2023: 0.02%\n",
      "Частка у ВВП за ООН 2022: 0.02%\n",
      "------------------------------\n",
      "Назва країни: Lebanon\n",
      "Частка у ВВП за МВФ 2024: 0.02%\n",
      "Частка у ВВП за Світовим банком 2023: 0.02%\n",
      "Частка у ВВП за ООН 2022: 0.04%\n",
      "------------------------------\n",
      "Назва країни: Mali\n",
      "Частка у ВВП за МВФ 2024: 0.02%\n",
      "Частка у ВВП за Світовим банком 2023: 0.02%\n",
      "Частка у ВВП за ООН 2022: 0.02%\n",
      "------------------------------\n",
      "Назва країни: Botswana\n",
      "Частка у ВВП за МВФ 2024: 0.02%\n",
      "Частка у ВВП за Світовим банком 2023: 0.02%\n",
      "Частка у ВВП за ООН 2022: 0.02%\n",
      "------------------------------\n",
      "Назва країни: Benin\n",
      "Частка у ВВП за МВФ 2024: 0.02%\n",
      "Частка у ВВП за Світовим банком 2023: 0.02%\n",
      "Частка у ВВП за ООН 2022: 0.02%\n",
      "------------------------------\n",
      "Назва країни: Guyana\n",
      "Частка у ВВП за МВФ 2024: 0.02%\n",
      "Частка у ВВП за Світовим банком 2023: 0.01%\n",
      "Частка у ВВП за ООН 2022: 0.01%\n",
      "------------------------------\n",
      "Назва країни: Gabon\n",
      "Частка у ВВП за МВФ 2024: 0.02%\n",
      "Частка у ВВП за Світовим банком 2023: 0.02%\n",
      "Частка у ВВП за ООН 2022: 0.02%\n",
      "------------------------------\n",
      "Назва країни: Jamaica\n",
      "Частка у ВВП за МВФ 2024: 0.02%\n",
      "Частка у ВВП за Світовим банком 2023: 0.02%\n",
      "Частка у ВВП за ООН 2022: 0.02%\n",
      "------------------------------\n",
      "Назва країни: Nicaragua\n",
      "Частка у ВВП за МВФ 2024: 0.01%\n",
      "Частка у ВВП за Світовим банком 2023: 0.02%\n",
      "Частка у ВВП за ООН 2022: 0.02%\n",
      "------------------------------\n",
      "Назва країни: Niger\n",
      "Частка у ВВП за МВФ 2024: 0.01%\n",
      "Частка у ВВП за Світовим банком 2023: 0.01%\n",
      "Частка у ВВП за ООН 2022: 0.02%\n",
      "------------------------------\n",
      "Назва країни: Chad\n",
      "Частка у ВВП за МВФ 2024: 0.01%\n",
      "Частка у ВВП за Світовим банком 2023: 0.01%\n",
      "Частка у ВВП за ООН 2022: 0.02%\n",
      "------------------------------\n",
      "Назва країни: Palestine\n",
      "Частка у ВВП за МВФ 2024: 0.01%\n",
      "Частка у ВВП за Світовим банком 2023: 0.02%\n",
      "Частка у ВВП за ООН 2022: 0.02%\n",
      "------------------------------\n",
      "Назва країни: Moldova\n",
      "Частка у ВВП за МВФ 2024: 0.01%\n",
      "Частка у ВВП за Світовим банком 2023: 0.01%\n",
      "Частка у ВВП за ООН 2022: 0.01%\n",
      "------------------------------\n",
      "Назва країни: Yemen\n",
      "Частка у ВВП за МВФ 2024: 0.01%\n",
      "Частка у ВВП за Світовим банком 2023: 0.92%\n",
      "Частка у ВВП за ООН 2022: 0.01%\n",
      "------------------------------\n",
      "Назва країни: Madagascar\n",
      "Частка у ВВП за МВФ 2024: 0.01%\n",
      "Частка у ВВП за Світовим банком 2023: 0.01%\n",
      "Частка у ВВП за ООН 2022: 0.01%\n",
      "------------------------------\n",
      "Назва країни: Mauritius\n",
      "Частка у ВВП за МВФ 2024: 0.01%\n",
      "Частка у ВВП за Світовим банком 2023: 0.01%\n",
      "Частка у ВВП за ООН 2022: 0.01%\n",
      "------------------------------\n",
      "Назва країни: North Macedonia\n",
      "Частка у ВВП за МВФ 2024: 0.01%\n",
      "Частка у ВВП за Світовим банком 2023: 0.01%\n",
      "Частка у ВВП за ООН 2022: 0.01%\n",
      "------------------------------\n",
      "Назва країни: Brunei\n",
      "Частка у ВВП за МВФ 2024: 0.01%\n",
      "Частка у ВВП за Світовим банком 2023: 0.01%\n",
      "Частка у ВВП за ООН 2022: 0.02%\n",
      "------------------------------\n",
      "Назва країни: Congo\n",
      "Частка у ВВП за МВФ 2024: 0.01%\n",
      "Частка у ВВП за Світовим банком 2023: 0.01%\n",
      "Частка у ВВП за ООН 2022: 0.02%\n",
      "------------------------------\n",
      "Назва країни: Laos\n",
      "Частка у ВВП за МВФ 2024: 0.01%\n",
      "Частка у ВВП за Світовим банком 2023: 0.01%\n",
      "Частка у ВВП за ООН 2022: 0.02%\n",
      "------------------------------\n",
      "Назва країни: North Korea\n",
      "Частка у ВВП за МВФ 2024: 0.89%\n",
      "Частка у ВВП за Світовим банком 2023: 0.92%\n",
      "Частка у ВВП за ООН 2022: 0.02%\n",
      "------------------------------\n",
      "Назва країни: Afghanistan\n",
      "Частка у ВВП за МВФ 2024: 0.01%\n",
      "Частка у ВВП за Світовим банком 2023: 0.01%\n",
      "Частка у ВВП за ООН 2022: 0.01%\n",
      "------------------------------\n",
      "Назва країни: Bahamas\n",
      "Частка у ВВП за МВФ 2024: 0.01%\n",
      "Частка у ВВП за Світовим банком 2023: 0.01%\n",
      "Частка у ВВП за ООН 2022: 0.01%\n",
      "------------------------------\n",
      "Назва країни: Rwanda\n",
      "Частка у ВВП за МВФ 2024: 0.01%\n",
      "Частка у ВВП за Світовим банком 2023: 0.01%\n",
      "Частка у ВВП за ООН 2022: 0.01%\n",
      "------------------------------\n",
      "Назва країни: Kyrgyzstan\n",
      "Частка у ВВП за МВФ 2024: 0.01%\n",
      "Частка у ВВП за Світовим банком 2023: 0.01%\n",
      "Частка у ВВП за ООН 2022: 0.01%\n",
      "------------------------------\n",
      "Назва країни: Tajikistan\n",
      "Частка у ВВП за МВФ 2024: 0.01%\n",
      "Частка у ВВП за Світовим банком 2023: 0.01%\n",
      "Частка у ВВП за ООН 2022: 0.01%\n",
      "------------------------------\n",
      "Назва країни: Somalia\n",
      "Частка у ВВП за МВФ 2024: 0.01%\n",
      "Частка у ВВП за Світовим банком 2023: 0.01%\n",
      "Частка у ВВП за ООН 2022: 0.01%\n",
      "------------------------------\n",
      "Назва країни: Namibia\n",
      "Частка у ВВП за МВФ 2024: 0.01%\n",
      "Частка у ВВП за Світовим банком 2023: 0.01%\n",
      "Частка у ВВП за ООН 2022: 0.01%\n",
      "------------------------------\n",
      "Назва країни: Kosovo\n",
      "Частка у ВВП за МВФ 2024: 0.01%\n",
      "Частка у ВВП за Світовим банком 2023: 0.01%\n",
      "Частка у ВВП за ООН 2022: 0.01%\n",
      "------------------------------\n",
      "Назва країни: Malawi\n",
      "Частка у ВВП за МВФ 2024: 0.01%\n",
      "Частка у ВВП за Світовим банком 2023: 0.01%\n",
      "Частка у ВВП за ООН 2022: 0.01%\n",
      "------------------------------\n",
      "Назва країни: Equatorial Guinea\n",
      "Частка у ВВП за МВФ 2024: 0.01%\n",
      "Частка у ВВП за Світовим банком 2023: 0.01%\n",
      "Частка у ВВП за ООН 2022: 0.01%\n",
      "------------------------------\n",
      "Назва країни: Mauritania\n",
      "Частка у ВВП за МВФ 2024: 0.01%\n",
      "Частка у ВВП за Світовим банком 2023: 0.01%\n",
      "Частка у ВВП за ООН 2022: 0.01%\n",
      "------------------------------\n",
      "Назва країни: Togo\n",
      "Частка у ВВП за МВФ 2024: 0.01%\n",
      "Частка у ВВП за Світовим банком 2023: 0.01%\n",
      "Частка у ВВП за ООН 2022: 0.01%\n",
      "------------------------------\n",
      "Назва країни: New Caledonia\n",
      "Частка у ВВП за МВФ 2024: 0.89%\n",
      "Частка у ВВП за Світовим банком 2023: 0.01%\n",
      "Частка у ВВП за ООН 2022: 0.01%\n",
      "------------------------------\n",
      "Назва країни: Syria\n",
      "Частка у ВВП за МВФ 2024: 0.89%\n",
      "Частка у ВВП за Світовим банком 2023: 0.01%\n",
      "Частка у ВВП за ООН 2022: 0.02%\n",
      "------------------------------\n",
      "Назва країни: Monaco\n",
      "Частка у ВВП за МВФ 2024: 0.89%\n",
      "Частка у ВВП за Світовим банком 2023: 0.01%\n",
      "Частка у ВВП за ООН 2022: 0.01%\n",
      "------------------------------\n",
      "Назва країни: Montenegro\n",
      "Частка у ВВП за МВФ 2024: 0.01%\n",
      "Частка у ВВП за Світовим банком 2023: 0.01%\n",
      "Частка у ВВП за ООН 2022: 0.01%\n",
      "------------------------------\n",
      "Назва країни: Liechtenstein\n",
      "Частка у ВВП за МВФ 2024: 0.89%\n",
      "Частка у ВВП за Світовим банком 2023: 0.01%\n",
      "Частка у ВВП за ООН 2022: 0.01%\n",
      "------------------------------\n",
      "Назва країни: Bermuda\n",
      "Частка у ВВП за МВФ 2024: 0.89%\n",
      "Частка у ВВП за Світовим банком 2023: 0.01%\n",
      "Частка у ВВП за ООН 2022: 0.01%\n",
      "------------------------------\n",
      "Назва країни: Maldives\n",
      "Частка у ВВП за МВФ 2024: 0.01%\n",
      "Частка у ВВП за Світовим банком 2023: 0.01%\n",
      "Частка у ВВП за ООН 2022: 0.01%\n",
      "------------------------------\n",
      "Назва країни: Barbados\n",
      "Частка у ВВП за МВФ 2024: 0.01%\n",
      "Частка у ВВП за Світовим банком 2023: 0.01%\n",
      "Частка у ВВП за ООН 2022: 0.01%\n",
      "------------------------------\n",
      "Назва країни: Cayman Islands\n",
      "Частка у ВВП за МВФ 2024: 0.89%\n",
      "Частка у ВВП за Світовим банком 2023: 0.01%\n",
      "Частка у ВВП за ООН 2022: 0.01%\n",
      "------------------------------\n",
      "Назва країни: South Sudan\n",
      "Частка у ВВП за МВФ 2024: 0.01%\n",
      "Частка у ВВП за Світовим банком 2023: 0.92%\n",
      "Частка у ВВП за ООН 2022: 0.00%\n",
      "------------------------------\n",
      "Назва країни: French Polynesia\n",
      "Частка у ВВП за МВФ 2024: 0.89%\n",
      "Частка у ВВП за Світовим банком 2023: 0.01%\n",
      "Частка у ВВП за ООН 2022: 0.01%\n",
      "------------------------------\n",
      "Назва країни: Fiji\n",
      "Частка у ВВП за МВФ 2024: 0.00%\n",
      "Частка у ВВП за Світовим банком 2023: 0.00%\n",
      "Частка у ВВП за ООН 2022: 0.00%\n",
      "------------------------------\n",
      "Назва країни: Eswatini\n",
      "Частка у ВВП за МВФ 2024: 0.00%\n",
      "Частка у ВВП за Світовим банком 2023: 0.00%\n",
      "Частка у ВВП за ООН 2022: 0.00%\n",
      "------------------------------\n",
      "Назва країни: Liberia\n",
      "Частка у ВВП за МВФ 2024: 0.00%\n",
      "Частка у ВВП за Світовим банком 2023: 0.00%\n",
      "Частка у ВВП за ООН 2022: 0.00%\n",
      "------------------------------\n",
      "Назва країни: Sierra Leone\n",
      "Частка у ВВП за МВФ 2024: 0.00%\n",
      "Частка у ВВП за Світовим банком 2023: 0.00%\n",
      "Частка у ВВП за ООН 2022: 0.00%\n",
      "------------------------------\n",
      "Назва країни: Djibouti\n",
      "Частка у ВВП за МВФ 2024: 0.00%\n",
      "Частка у ВВП за Світовим банком 2023: 0.00%\n",
      "Частка у ВВП за ООН 2022: 0.00%\n",
      "------------------------------\n",
      "Назва країни: Suriname\n",
      "Частка у ВВП за МВФ 2024: 0.00%\n",
      "Частка у ВВП за Світовим банком 2023: 0.00%\n",
      "Частка у ВВП за ООН 2022: 0.00%\n",
      "------------------------------\n",
      "Назва країни: Aruba\n",
      "Частка у ВВП за МВФ 2024: 0.00%\n",
      "Частка у ВВП за Світовим банком 2023: 0.00%\n",
      "Частка у ВВП за ООН 2022: 0.00%\n",
      "------------------------------\n",
      "Назва країни: Andorra\n",
      "Частка у ВВП за МВФ 2024: 0.00%\n",
      "Частка у ВВП за Світовим банком 2023: 0.00%\n",
      "Частка у ВВП за ООН 2022: 0.00%\n",
      "------------------------------\n",
      "Назва країни: Belize\n",
      "Частка у ВВП за МВФ 2024: 0.00%\n",
      "Частка у ВВП за Світовим банком 2023: 0.00%\n",
      "Частка у ВВП за ООН 2022: 0.00%\n",
      "------------------------------\n",
      "Назва країни: Greenland\n",
      "Частка у ВВП за МВФ 2024: 0.89%\n",
      "Частка у ВВП за Світовим банком 2023: 0.00%\n",
      "Частка у ВВП за ООН 2022: 0.00%\n",
      "------------------------------\n",
      "Назва країни: Bhutan\n",
      "Частка у ВВП за МВФ 2024: 0.00%\n",
      "Частка у ВВП за Світовим банком 2023: 0.00%\n",
      "Частка у ВВП за ООН 2022: 0.00%\n",
      "------------------------------\n",
      "Назва країни: Curaçao\n",
      "Частка у ВВП за МВФ 2024: 0.89%\n",
      "Частка у ВВП за Світовим банком 2023: 0.00%\n",
      "Частка у ВВП за ООН 2022: 0.00%\n",
      "------------------------------\n",
      "Назва країни: Burundi\n",
      "Частка у ВВП за МВФ 2024: 0.00%\n",
      "Частка у ВВП за Світовим банком 2023: 0.00%\n",
      "Частка у ВВП за ООН 2022: 0.00%\n",
      "------------------------------\n",
      "Назва країни: Central African Republic\n",
      "Частка у ВВП за МВФ 2024: 0.00%\n",
      "Частка у ВВП за Світовим банком 2023: 0.00%\n",
      "Частка у ВВП за ООН 2022: 0.00%\n",
      "------------------------------\n",
      "Назва країни: Cape Verde\n",
      "Частка у ВВП за МВФ 2024: 0.00%\n",
      "Частка у ВВП за Світовим банком 2023: 0.00%\n",
      "Частка у ВВП за ООН 2022: 0.00%\n",
      "------------------------------\n",
      "Назва країни: Gambia\n",
      "Частка у ВВП за МВФ 2024: 0.00%\n",
      "Частка у ВВП за Світовим банком 2023: 0.00%\n",
      "Частка у ВВП за ООН 2022: 0.00%\n",
      "------------------------------\n",
      "Назва країни: Saint Lucia\n",
      "Частка у ВВП за МВФ 2024: 0.00%\n",
      "Частка у ВВП за Світовим банком 2023: 0.00%\n",
      "Частка у ВВП за ООН 2022: 0.00%\n",
      "------------------------------\n",
      "Назва країни: Lesotho\n",
      "Частка у ВВП за МВФ 2024: 0.00%\n",
      "Частка у ВВП за Світовим банком 2023: 0.00%\n",
      "Частка у ВВП за ООН 2022: 0.00%\n",
      "------------------------------\n",
      "Назва країни: Eritrea\n",
      "Частка у ВВП за МВФ 2024: 0.89%\n",
      "Частка у ВВП за Світовим банком 2023: 0.92%\n",
      "Частка у ВВП за ООН 2022: 0.00%\n",
      "------------------------------\n",
      "Назва країни: Zanzibar\n",
      "Частка у ВВП за МВФ 2024: 0.89%\n",
      "Частка у ВВП за Світовим банком 2023: 0.92%\n",
      "Частка у ВВП за ООН 2022: 0.00%\n",
      "------------------------------\n",
      "Назва країни: Seychelles\n",
      "Частка у ВВП за МВФ 2024: 0.00%\n",
      "Частка у ВВП за Світовим банком 2023: 0.00%\n",
      "Частка у ВВП за ООН 2022: 0.00%\n",
      "------------------------------\n",
      "Назва країни: Guinea-Bissau\n",
      "Частка у ВВП за МВФ 2024: 0.00%\n",
      "Частка у ВВП за Світовим банком 2023: 0.00%\n",
      "Частка у ВВП за ООН 2022: 0.00%\n",
      "------------------------------\n",
      "Назва країни: Antigua and Barbuda\n",
      "Частка у ВВП за МВФ 2024: 0.00%\n",
      "Частка у ВВП за Світовим банком 2023: 0.00%\n",
      "Частка у ВВП за ООН 2022: 0.00%\n",
      "------------------------------\n",
      "Назва країни: San Marino\n",
      "Частка у ВВП за МВФ 2024: 0.00%\n",
      "Частка у ВВП за Світовим банком 2023: 0.00%\n",
      "Частка у ВВП за ООН 2022: 0.00%\n",
      "------------------------------\n",
      "Назва країни: East Timor\n",
      "Частка у ВВП за МВФ 2024: 0.00%\n",
      "Частка у ВВП за Світовим банком 2023: 0.00%\n",
      "Частка у ВВП за ООН 2022: 0.00%\n",
      "------------------------------\n",
      "Назва країни: Solomon Islands\n",
      "Частка у ВВП за МВФ 2024: 0.00%\n",
      "Частка у ВВП за Світовим банком 2023: 0.00%\n",
      "Частка у ВВП за ООН 2022: 0.00%\n",
      "------------------------------\n",
      "Назва країни: Sint Maarten\n",
      "Частка у ВВП за МВФ 2024: 0.89%\n",
      "Частка у ВВП за Світовим банком 2023: 0.00%\n",
      "Частка у ВВП за ООН 2022: 0.00%\n",
      "------------------------------\n",
      "Назва країни: Comoros\n",
      "Частка у ВВП за МВФ 2024: 0.00%\n",
      "Частка у ВВП за Світовим банком 2023: 0.00%\n",
      "Частка у ВВП за ООН 2022: 0.00%\n",
      "------------------------------\n",
      "Назва країни: Grenada\n",
      "Частка у ВВП за МВФ 2024: 0.00%\n",
      "Частка у ВВП за Світовим банком 2023: 0.00%\n",
      "Частка у ВВП за ООН 2022: 0.00%\n",
      "------------------------------\n",
      "Назва країни: Turks and Caicos Islands\n",
      "Частка у ВВП за МВФ 2024: 0.89%\n",
      "Частка у ВВП за Світовим банком 2023: 0.00%\n",
      "Частка у ВВП за ООН 2022: 0.00%\n",
      "------------------------------\n",
      "Назва країни: Vanuatu\n",
      "Частка у ВВП за МВФ 2024: 0.00%\n",
      "Частка у ВВП за Світовим банком 2023: 0.00%\n",
      "Частка у ВВП за ООН 2022: 0.00%\n",
      "------------------------------\n",
      "Назва країни: Saint Kitts and Nevis\n",
      "Частка у ВВП за МВФ 2024: 0.00%\n",
      "Частка у ВВП за Світовим банком 2023: 0.00%\n",
      "Частка у ВВП за ООН 2022: 0.00%\n",
      "------------------------------\n",
      "Назва країни: Saint Vincent and the Grenadines\n",
      "Частка у ВВП за МВФ 2024: 0.00%\n",
      "Частка у ВВП за Світовим банком 2023: 0.00%\n",
      "Частка у ВВП за ООН 2022: 0.00%\n",
      "------------------------------\n",
      "Назва країни: Samoa\n",
      "Частка у ВВП за МВФ 2024: 0.00%\n",
      "Частка у ВВП за Світовим банком 2023: 0.00%\n",
      "Частка у ВВП за ООН 2022: 0.00%\n",
      "------------------------------\n",
      "Назва країни: São Tomé and Príncipe\n",
      "Частка у ВВП за МВФ 2024: 0.00%\n",
      "Частка у ВВП за Світовим банком 2023: 0.00%\n",
      "Частка у ВВП за ООН 2022: 0.00%\n",
      "------------------------------\n",
      "Назва країни: Dominica\n",
      "Частка у ВВП за МВФ 2024: 0.00%\n",
      "Частка у ВВП за Світовим банком 2023: 0.00%\n",
      "Частка у ВВП за ООН 2022: 0.00%\n",
      "------------------------------\n",
      "Назва країни: Tonga\n",
      "Частка у ВВП за МВФ 2024: 0.00%\n",
      "Частка у ВВП за Світовим банком 2023: 0.00%\n",
      "Частка у ВВП за ООН 2022: 0.00%\n",
      "------------------------------\n",
      "Назва країни: Micronesia\n",
      "Частка у ВВП за МВФ 2024: 0.00%\n",
      "Частка у ВВП за Світовим банком 2023: 0.00%\n",
      "Частка у ВВП за ООН 2022: 0.00%\n",
      "------------------------------\n",
      "Назва країни: Kiribati\n",
      "Частка у ВВП за МВФ 2024: 0.00%\n",
      "Частка у ВВП за Світовим банком 2023: 0.00%\n",
      "Частка у ВВП за ООН 2022: 0.00%\n",
      "------------------------------\n",
      "Назва країни: Palau\n",
      "Частка у ВВП за МВФ 2024: 0.00%\n",
      "Частка у ВВП за Світовим банком 2023: 0.00%\n",
      "Частка у ВВП за ООН 2022: 0.00%\n",
      "------------------------------\n",
      "Назва країни: Marshall Islands\n",
      "Частка у ВВП за МВФ 2024: 0.00%\n",
      "Частка у ВВП за Світовим банком 2023: 0.00%\n",
      "Частка у ВВП за ООН 2022: 0.00%\n",
      "------------------------------\n",
      "Назва країни: Nauru\n",
      "Частка у ВВП за МВФ 2024: 0.00%\n",
      "Частка у ВВП за Світовим банком 2023: 0.00%\n",
      "Частка у ВВП за ООН 2022: 0.00%\n",
      "------------------------------\n",
      "Назва країни: Tuvalu\n",
      "Частка у ВВП за МВФ 2024: 0.00%\n",
      "Частка у ВВП за Світовим банком 2023: 0.00%\n",
      "Частка у ВВП за ООН 2022: 0.00%\n",
      "------------------------------\n"
     ]
    }
   ],
   "source": [
    "df = df[df['Country'] != 'World']\n",
    "\n",
    "# Розрахунок загального ВВП за кожен рік\n",
    "total_mvf = df['MVF_2024'].sum()\n",
    "total_wb  = df['WorldBank_2023'].sum()\n",
    "total_oon = df['OON_2022'].sum()\n",
    "\n",
    "# Розрахунок частки кожної країни в загальному ВВП\n",
    "df['MVF_share'] = df['MVF_2024'] / total_mvf\n",
    "df['WB_share']  = df['WorldBank_2023'] / total_wb\n",
    "df['OON_share'] = df['OON_2022'] / total_oon\n",
    "\n",
    "# Виведення результатів\n",
    "for index, row in df.iterrows():\n",
    "    print(f\"Назва країни: {row['Country']}\")\n",
    "    print(f\"Частка у ВВП за МВФ 2024: {row['MVF_share']:.2%}\")\n",
    "    print(f\"Частка у ВВП за Світовим банком 2023: {row['WB_share']:.2%}\")\n",
    "    print(f\"Частка у ВВП за ООН 2022: {row['OON_share']:.2%}\")\n",
    "    print(\"-\" * 30)"
   ]
  },
  {
   "cell_type": "markdown",
   "metadata": {},
   "source": [
    "## 17. Візуалізуйте зміни в показниках для кожної країни за три роки на графіку. Які країни показують стабільне зростання або спад (дати відповідь)?"
   ]
  },
  {
   "cell_type": "code",
   "execution_count": 35,
   "metadata": {},
   "outputs": [
    {
     "data": {
      "text/html": [
       "<div>\n",
       "<style scoped>\n",
       "    .dataframe tbody tr th:only-of-type {\n",
       "        vertical-align: middle;\n",
       "    }\n",
       "\n",
       "    .dataframe tbody tr th {\n",
       "        vertical-align: top;\n",
       "    }\n",
       "\n",
       "    .dataframe thead th {\n",
       "        text-align: right;\n",
       "    }\n",
       "</style>\n",
       "<table border=\"1\" class=\"dataframe\">\n",
       "  <thead>\n",
       "    <tr style=\"text-align: right;\">\n",
       "      <th></th>\n",
       "      <th>Country</th>\n",
       "      <th>MVF_2024</th>\n",
       "      <th>WorldBank_2023</th>\n",
       "      <th>OON_2022</th>\n",
       "      <th>Difference_2024_2023</th>\n",
       "      <th>std_dev</th>\n",
       "      <th>MVF_share</th>\n",
       "      <th>WB_share</th>\n",
       "      <th>OON_share</th>\n",
       "    </tr>\n",
       "  </thead>\n",
       "  <tbody>\n",
       "    <tr>\n",
       "      <th>1</th>\n",
       "      <td>United States</td>\n",
       "      <td>28781083.0</td>\n",
       "      <td>27360935.0</td>\n",
       "      <td>25744100.0</td>\n",
       "      <td>1420148.0</td>\n",
       "      <td>1519553.0</td>\n",
       "      <td>0.227791</td>\n",
       "      <td>0.243473</td>\n",
       "      <td>0.254812</td>\n",
       "    </tr>\n",
       "    <tr>\n",
       "      <th>2</th>\n",
       "      <td>China</td>\n",
       "      <td>18532633.0</td>\n",
       "      <td>17794782.0</td>\n",
       "      <td>17963170.0</td>\n",
       "      <td>737851.0</td>\n",
       "      <td>386667.0</td>\n",
       "      <td>0.146679</td>\n",
       "      <td>0.158348</td>\n",
       "      <td>0.177797</td>\n",
       "    </tr>\n",
       "    <tr>\n",
       "      <th>3</th>\n",
       "      <td>Germany</td>\n",
       "      <td>4591100.0</td>\n",
       "      <td>4456081.0</td>\n",
       "      <td>4076923.0</td>\n",
       "      <td>135019.0</td>\n",
       "      <td>266574.0</td>\n",
       "      <td>0.036337</td>\n",
       "      <td>0.039653</td>\n",
       "      <td>0.040353</td>\n",
       "    </tr>\n",
       "    <tr>\n",
       "      <th>4</th>\n",
       "      <td>Japan</td>\n",
       "      <td>4110452.0</td>\n",
       "      <td>4212945.0</td>\n",
       "      <td>4232173.0</td>\n",
       "      <td>-102493.0</td>\n",
       "      <td>65435.0</td>\n",
       "      <td>0.032533</td>\n",
       "      <td>0.037489</td>\n",
       "      <td>0.041889</td>\n",
       "    </tr>\n",
       "    <tr>\n",
       "      <th>5</th>\n",
       "      <td>India</td>\n",
       "      <td>3937011.0</td>\n",
       "      <td>3549919.0</td>\n",
       "      <td>3465541.0</td>\n",
       "      <td>387092.0</td>\n",
       "      <td>251411.0</td>\n",
       "      <td>0.031160</td>\n",
       "      <td>0.031589</td>\n",
       "      <td>0.034301</td>\n",
       "    </tr>\n",
       "  </tbody>\n",
       "</table>\n",
       "</div>"
      ],
      "text/plain": [
       "         Country    MVF_2024  WorldBank_2023    OON_2022  \\\n",
       "1  United States  28781083.0      27360935.0  25744100.0   \n",
       "2          China  18532633.0      17794782.0  17963170.0   \n",
       "3        Germany   4591100.0       4456081.0   4076923.0   \n",
       "4          Japan   4110452.0       4212945.0   4232173.0   \n",
       "5          India   3937011.0       3549919.0   3465541.0   \n",
       "\n",
       "   Difference_2024_2023    std_dev  MVF_share  WB_share  OON_share  \n",
       "1             1420148.0  1519553.0   0.227791  0.243473   0.254812  \n",
       "2              737851.0   386667.0   0.146679  0.158348   0.177797  \n",
       "3              135019.0   266574.0   0.036337  0.039653   0.040353  \n",
       "4             -102493.0    65435.0   0.032533  0.037489   0.041889  \n",
       "5              387092.0   251411.0   0.031160  0.031589   0.034301  "
      ]
     },
     "execution_count": 35,
     "metadata": {},
     "output_type": "execute_result"
    }
   ],
   "source": [
    "df.head()"
   ]
  },
  {
   "cell_type": "code",
   "execution_count": 36,
   "metadata": {},
   "outputs": [],
   "source": [
    "cols = ['MVF_2024', 'WorldBank_2023', 'OON_2022']"
   ]
  },
  {
   "cell_type": "code",
   "execution_count": 37,
   "metadata": {},
   "outputs": [
    {
     "data": {
      "text/html": [
       "<div>\n",
       "<style scoped>\n",
       "    .dataframe tbody tr th:only-of-type {\n",
       "        vertical-align: middle;\n",
       "    }\n",
       "\n",
       "    .dataframe tbody tr th {\n",
       "        vertical-align: top;\n",
       "    }\n",
       "\n",
       "    .dataframe thead th {\n",
       "        text-align: right;\n",
       "    }\n",
       "</style>\n",
       "<table border=\"1\" class=\"dataframe\">\n",
       "  <thead>\n",
       "    <tr style=\"text-align: right;\">\n",
       "      <th></th>\n",
       "      <th>Country</th>\n",
       "      <th>MVF_2024</th>\n",
       "      <th>WorldBank_2023</th>\n",
       "      <th>OON_2022</th>\n",
       "    </tr>\n",
       "  </thead>\n",
       "  <tbody>\n",
       "    <tr>\n",
       "      <th>1</th>\n",
       "      <td>United States</td>\n",
       "      <td>28781083.0</td>\n",
       "      <td>27360935.0</td>\n",
       "      <td>25744100.0</td>\n",
       "    </tr>\n",
       "    <tr>\n",
       "      <th>2</th>\n",
       "      <td>China</td>\n",
       "      <td>18532633.0</td>\n",
       "      <td>17794782.0</td>\n",
       "      <td>17963170.0</td>\n",
       "    </tr>\n",
       "    <tr>\n",
       "      <th>3</th>\n",
       "      <td>Germany</td>\n",
       "      <td>4591100.0</td>\n",
       "      <td>4456081.0</td>\n",
       "      <td>4076923.0</td>\n",
       "    </tr>\n",
       "    <tr>\n",
       "      <th>4</th>\n",
       "      <td>Japan</td>\n",
       "      <td>4110452.0</td>\n",
       "      <td>4212945.0</td>\n",
       "      <td>4232173.0</td>\n",
       "    </tr>\n",
       "    <tr>\n",
       "      <th>5</th>\n",
       "      <td>India</td>\n",
       "      <td>3937011.0</td>\n",
       "      <td>3549919.0</td>\n",
       "      <td>3465541.0</td>\n",
       "    </tr>\n",
       "  </tbody>\n",
       "</table>\n",
       "</div>"
      ],
      "text/plain": [
       "         Country    MVF_2024  WorldBank_2023    OON_2022\n",
       "1  United States  28781083.0      27360935.0  25744100.0\n",
       "2          China  18532633.0      17794782.0  17963170.0\n",
       "3        Germany   4591100.0       4456081.0   4076923.0\n",
       "4          Japan   4110452.0       4212945.0   4232173.0\n",
       "5          India   3937011.0       3549919.0   3465541.0"
      ]
     },
     "execution_count": 37,
     "metadata": {},
     "output_type": "execute_result"
    }
   ],
   "source": [
    "df_to_use = df[['Country', 'MVF_2024', 'WorldBank_2023', 'OON_2022']]\n",
    "df_to_use.head()"
   ]
  },
  {
   "cell_type": "code",
   "execution_count": 41,
   "metadata": {},
   "outputs": [
    {
     "data": {
      "application/vnd.plotly.v1+json": {
       "config": {
        "plotlyServerURL": "https://plot.ly"
       },
       "data": [
        {
         "alignmentgroup": "True",
         "hovertemplate": "Year=MVF_2024<br>Country=%{x}<br>Value=%{y}<extra></extra>",
         "legendgroup": "MVF_2024",
         "marker": {
          "color": "#636efa",
          "pattern": {
           "shape": ""
          }
         },
         "name": "MVF_2024",
         "offsetgroup": "MVF_2024",
         "orientation": "v",
         "showlegend": true,
         "textposition": "auto",
         "type": "bar",
         "x": [
          "United States",
          "China",
          "Germany",
          "Japan",
          "India",
          "United Kingdom",
          "France",
          "Brazil",
          "Italy",
          "Canada",
          "Russia",
          "Mexico",
          "Australia",
          "South Korea",
          "Spain",
          "Indonesia",
          "Netherlands",
          "Turkey",
          "Saudi Arabia",
          "Switzerland",
          "Poland",
          "Taiwan",
          "Belgium",
          "Sweden",
          "Argentina",
          "Ireland",
          "Thailand",
          "Austria",
          "Israel",
          "United Arab Emirates",
          "Norway",
          "Singapore",
          "Philippines",
          "Vietnam",
          "Iran",
          "Bangladesh",
          "Malaysia",
          "Denmark",
          "Hong Kong",
          "Colombia",
          "South Africa",
          "Romania",
          "Egypt",
          "Pakistan",
          "Chile",
          "Czech Republic",
          "Finland",
          "Portugal",
          "Kazakhstan",
          "Peru",
          "Algeria",
          "Iraq",
          "New Zealand",
          "Nigeria",
          "Greece",
          "Qatar",
          "Hungary",
          "Ethiopia",
          "Ukraine",
          "Kuwait",
          "Morocco",
          "Cuba",
          "Slovakia",
          "Dominican Republic",
          "Ecuador",
          "Puerto Rico",
          "Guatemala",
          "Oman",
          "Bulgaria",
          "Kenya",
          "Venezuela",
          "Uzbekistan",
          "Costa Rica",
          "Angola",
          "Luxembourg",
          "Croatia",
          "Panama",
          "Ivory Coast",
          "Uruguay",
          "Turkmenistan",
          "Serbia",
          "Lithuania",
          "Tanzania",
          "Azerbaijan",
          "Ghana",
          "Sri Lanka",
          "DR Congo",
          "Slovenia",
          "Belarus",
          "Myanmar",
          "Uganda",
          "Tunisia",
          "Macau",
          "Jordan",
          "Cameroon",
          "Bolivia",
          "Libya",
          "Bahrain",
          "Paraguay",
          "Latvia",
          "Cambodia",
          "Nepal",
          "Estonia",
          "Honduras",
          "Senegal",
          "El Salvador",
          "Zimbabwe",
          "Cyprus",
          "Iceland",
          "Georgia",
          "Papua New Guinea",
          "Zambia",
          "Bosnia and Herzegovina",
          "Trinidad and Tobago",
          "Sudan",
          "Guinea",
          "Albania",
          "Armenia",
          "Haiti",
          "Mozambique",
          "Malta",
          "Mongolia",
          "Burkina Faso",
          "Lebanon",
          "Mali",
          "Botswana",
          "Benin",
          "Guyana",
          "Gabon",
          "Jamaica",
          "Nicaragua",
          "Niger",
          "Chad",
          "Palestine",
          "Moldova",
          "Yemen",
          "Madagascar",
          "Mauritius",
          "North Macedonia",
          "Brunei",
          "Congo",
          "Laos",
          "North Korea",
          "Afghanistan",
          "Bahamas",
          "Rwanda",
          "Kyrgyzstan",
          "Tajikistan",
          "Somalia",
          "Namibia",
          "Kosovo",
          "Malawi",
          "Equatorial Guinea",
          "Mauritania",
          "Togo",
          "New Caledonia",
          "Syria",
          "Monaco",
          "Montenegro",
          "Liechtenstein",
          "Bermuda",
          "Maldives",
          "Barbados",
          "Cayman Islands",
          "South Sudan",
          "French Polynesia",
          "Fiji",
          "Eswatini",
          "Liberia",
          "Sierra Leone",
          "Djibouti",
          "Suriname",
          "Aruba",
          "Andorra",
          "Belize",
          "Greenland",
          "Bhutan",
          "Curaçao",
          "Burundi",
          "Central African Republic",
          "Cape Verde",
          "Gambia",
          "Saint Lucia",
          "Lesotho",
          "Eritrea",
          "Zanzibar",
          "Seychelles",
          "Guinea-Bissau",
          "Antigua and Barbuda",
          "San Marino",
          "East Timor",
          "Solomon Islands",
          "Sint Maarten",
          "Comoros",
          "Grenada",
          "Turks and Caicos Islands",
          "Vanuatu",
          "Saint Kitts and Nevis",
          "Saint Vincent and the Grenadines",
          "Samoa",
          "São Tomé and Príncipe",
          "Dominica",
          "Tonga",
          "Micronesia",
          "Kiribati",
          "Palau",
          "Marshall Islands",
          "Nauru",
          "Tuvalu"
         ],
         "xaxis": "x",
         "y": [
          28781083,
          18532633,
          4591100,
          4110452,
          3937011,
          3495261,
          3130014,
          2331391,
          2328028,
          2242182,
          2056844,
          2017025,
          1790348,
          1760947,
          1647114,
          1475690,
          1142513,
          1113561,
          1106015,
          938458,
          844623,
          802958,
          655192,
          623048,
          604260,
          564020,
          548890,
          540887,
          530664,
          527796,
          526951,
          525228,
          471516,
          465814,
          464181,
          455162,
          445519,
          409989,
          406775,
          386076,
          373233,
          369971,
          347594,
          338237,
          333760,
          325880,
          308055,
          298949,
          296740,
          282458,
          266780,
          265894,
          257625,
          252738,
          250276,
          244686,
          223413,
          205130,
          188943,
          160397,
          152377,
          1123227.6871794872,
          140808,
          127356,
          121592,
          117763,
          110035,
          108927,
          107933,
          104001,
          102328,
          97956,
          96058,
          92123,
          88556,
          88076,
          87347,
          86911,
          82605,
          81896,
          81873,
          81170,
          79605,
          78749,
          75244,
          74846,
          73761,
          72101,
          69048,
          68006,
          56310,
          54708,
          54677,
          53570,
          53205,
          49334,
          48221,
          46790,
          45817,
          45466,
          45150,
          44179,
          43486,
          37355,
          35450,
          35333,
          34405,
          34221,
          33338,
          32865,
          31716,
          29872,
          29078,
          28365,
          26865,
          25447,
          25431,
          25408,
          24046,
          22975,
          22737,
          21943,
          21902,
          21780,
          21662,
          21418,
          21371,
          21178,
          21013,
          20098,
          18829,
          18816,
          18697,
          18602,
          18356,
          16940,
          16465,
          16359,
          15873,
          15510,
          15501,
          15190,
          1123227.6871794872,
          14467,
          14390,
          13701,
          13599,
          12953,
          12804,
          12765,
          11318,
          11241,
          10708,
          10628,
          9832,
          1123227.6871794872,
          1123227.6871794872,
          1123227.6871794872,
          8010,
          1123227.6871794872,
          1123227.6871794872,
          7199,
          6863,
          1123227.6871794872,
          6517,
          1123227.6871794872,
          5801,
          5085,
          4754,
          4558,
          4364,
          4337,
          4069,
          3897,
          3296,
          1123227.6871794872,
          3110,
          1123227.6871794872,
          3075,
          2810,
          2718,
          2694,
          2582,
          2395,
          1123227.6871794872,
          1123227.6871794872,
          2203,
          2151,
          2127,
          2033,
          1992,
          1707,
          1123227.6871794872,
          1422,
          1406,
          1123227.6871794872,
          1289,
          1134,
          1128,
          1024,
          751,
          708,
          581,
          484,
          311,
          308,
          305,
          161,
          66
         ],
         "yaxis": "y"
        },
        {
         "alignmentgroup": "True",
         "hovertemplate": "Year=WorldBank_2023<br>Country=%{x}<br>Value=%{y}<extra></extra>",
         "legendgroup": "WorldBank_2023",
         "marker": {
          "color": "#EF553B",
          "pattern": {
           "shape": ""
          }
         },
         "name": "WorldBank_2023",
         "offsetgroup": "WorldBank_2023",
         "orientation": "v",
         "showlegend": true,
         "textposition": "auto",
         "type": "bar",
         "x": [
          "United States",
          "China",
          "Germany",
          "Japan",
          "India",
          "United Kingdom",
          "France",
          "Brazil",
          "Italy",
          "Canada",
          "Russia",
          "Mexico",
          "Australia",
          "South Korea",
          "Spain",
          "Indonesia",
          "Netherlands",
          "Turkey",
          "Saudi Arabia",
          "Switzerland",
          "Poland",
          "Taiwan",
          "Belgium",
          "Sweden",
          "Argentina",
          "Ireland",
          "Thailand",
          "Austria",
          "Israel",
          "United Arab Emirates",
          "Norway",
          "Singapore",
          "Philippines",
          "Vietnam",
          "Iran",
          "Bangladesh",
          "Malaysia",
          "Denmark",
          "Hong Kong",
          "Colombia",
          "South Africa",
          "Romania",
          "Egypt",
          "Pakistan",
          "Chile",
          "Czech Republic",
          "Finland",
          "Portugal",
          "Kazakhstan",
          "Peru",
          "Algeria",
          "Iraq",
          "New Zealand",
          "Nigeria",
          "Greece",
          "Qatar",
          "Hungary",
          "Ethiopia",
          "Ukraine",
          "Kuwait",
          "Morocco",
          "Cuba",
          "Slovakia",
          "Dominican Republic",
          "Ecuador",
          "Puerto Rico",
          "Guatemala",
          "Oman",
          "Bulgaria",
          "Kenya",
          "Venezuela",
          "Uzbekistan",
          "Costa Rica",
          "Angola",
          "Luxembourg",
          "Croatia",
          "Panama",
          "Ivory Coast",
          "Uruguay",
          "Turkmenistan",
          "Serbia",
          "Lithuania",
          "Tanzania",
          "Azerbaijan",
          "Ghana",
          "Sri Lanka",
          "DR Congo",
          "Slovenia",
          "Belarus",
          "Myanmar",
          "Uganda",
          "Tunisia",
          "Macau",
          "Jordan",
          "Cameroon",
          "Bolivia",
          "Libya",
          "Bahrain",
          "Paraguay",
          "Latvia",
          "Cambodia",
          "Nepal",
          "Estonia",
          "Honduras",
          "Senegal",
          "El Salvador",
          "Zimbabwe",
          "Cyprus",
          "Iceland",
          "Georgia",
          "Papua New Guinea",
          "Zambia",
          "Bosnia and Herzegovina",
          "Trinidad and Tobago",
          "Sudan",
          "Guinea",
          "Albania",
          "Armenia",
          "Haiti",
          "Mozambique",
          "Malta",
          "Mongolia",
          "Burkina Faso",
          "Lebanon",
          "Mali",
          "Botswana",
          "Benin",
          "Guyana",
          "Gabon",
          "Jamaica",
          "Nicaragua",
          "Niger",
          "Chad",
          "Palestine",
          "Moldova",
          "Yemen",
          "Madagascar",
          "Mauritius",
          "North Macedonia",
          "Brunei",
          "Congo",
          "Laos",
          "North Korea",
          "Afghanistan",
          "Bahamas",
          "Rwanda",
          "Kyrgyzstan",
          "Tajikistan",
          "Somalia",
          "Namibia",
          "Kosovo",
          "Malawi",
          "Equatorial Guinea",
          "Mauritania",
          "Togo",
          "New Caledonia",
          "Syria",
          "Monaco",
          "Montenegro",
          "Liechtenstein",
          "Bermuda",
          "Maldives",
          "Barbados",
          "Cayman Islands",
          "South Sudan",
          "French Polynesia",
          "Fiji",
          "Eswatini",
          "Liberia",
          "Sierra Leone",
          "Djibouti",
          "Suriname",
          "Aruba",
          "Andorra",
          "Belize",
          "Greenland",
          "Bhutan",
          "Curaçao",
          "Burundi",
          "Central African Republic",
          "Cape Verde",
          "Gambia",
          "Saint Lucia",
          "Lesotho",
          "Eritrea",
          "Zanzibar",
          "Seychelles",
          "Guinea-Bissau",
          "Antigua and Barbuda",
          "San Marino",
          "East Timor",
          "Solomon Islands",
          "Sint Maarten",
          "Comoros",
          "Grenada",
          "Turks and Caicos Islands",
          "Vanuatu",
          "Saint Kitts and Nevis",
          "Saint Vincent and the Grenadines",
          "Samoa",
          "São Tomé and Príncipe",
          "Dominica",
          "Tonga",
          "Micronesia",
          "Kiribati",
          "Palau",
          "Marshall Islands",
          "Nauru",
          "Tuvalu"
         ],
         "xaxis": "x",
         "y": [
          27360935,
          17794782,
          4456081,
          4212945,
          3549919,
          3340032,
          3030904,
          2173666,
          2254851,
          2140086,
          2021421,
          1788887,
          1723827,
          1712793,
          1580695,
          1371171,
          1118125,
          1108022,
          1067583,
          884940,
          811229,
          1037206.1683168317,
          632217,
          593268,
          640591,
          545629,
          514945,
          516034,
          509902,
          504173,
          485513,
          501428,
          437146,
          429717,
          401505,
          437415,
          399649,
          404199,
          382055,
          363540,
          377782,
          351003,
          395926,
          338368,
          335533,
          330858,
          300187,
          287080,
          261421,
          267603,
          239899,
          250843,
          253466,
          362815,
          238206,
          235770,
          212389,
          163698,
          178757,
          161772,
          141109,
          1037206.1683168317,
          132794,
          121444,
          118845,
          117902,
          102050,
          108192,
          101584,
          107441,
          1037206.1683168317,
          90889,
          86498,
          84773,
          85755,
          82689,
          83382,
          78789,
          77241,
          59887,
          75187,
          77836,
          79158,
          72356,
          76370,
          84357,
          66383,
          68217,
          71857,
          64815,
          49273,
          48530,
          47062,
          50814,
          47946,
          45850,
          50492,
          43205,
          42956,
          43627,
          31773,
          40908,
          40745,
          34401,
          31014,
          34016,
          26538,
          32230,
          31020,
          30536,
          30933,
          28163,
          27055,
          28140,
          109327,
          23612,
          22978,
          24212,
          19851,
          20625,
          20957,
          19872,
          20325,
          17937,
          20905,
          19396,
          19673,
          16786,
          20516,
          19423,
          17829,
          16819,
          13149,
          17396,
          16539,
          1037206.1683168317,
          16032,
          14397,
          14761,
          15128,
          15321,
          15843,
          1037206.1683168317,
          14502,
          14339,
          14098,
          13988,
          12061,
          11680,
          12351,
          10438,
          14084,
          12117,
          10453,
          9171,
          9623,
          8980,
          8784,
          7405,
          7365,
          7828,
          6600,
          6394,
          6601,
          1037206.1683168317,
          5815,
          5495,
          4598,
          4332,
          3810,
          4099,
          3782,
          3545,
          3728,
          3282,
          3236,
          2898,
          3074,
          2642,
          2555,
          2587,
          2340,
          2520,
          2046,
          1037206.1683168317,
          1037206.1683168317,
          2141,
          1966,
          2033,
          1855,
          2243,
          1631,
          1623,
          1352,
          1320,
          1402,
          1126,
          1077,
          1066,
          934,
          603,
          654,
          500,
          460,
          279,
          263,
          284,
          154,
          62
         ],
         "yaxis": "y"
        },
        {
         "alignmentgroup": "True",
         "hovertemplate": "Year=OON_2022<br>Country=%{x}<br>Value=%{y}<extra></extra>",
         "legendgroup": "OON_2022",
         "marker": {
          "color": "#00cc96",
          "pattern": {
           "shape": ""
          }
         },
         "name": "OON_2022",
         "offsetgroup": "OON_2022",
         "orientation": "v",
         "showlegend": true,
         "textposition": "auto",
         "type": "bar",
         "x": [
          "United States",
          "China",
          "Germany",
          "Japan",
          "India",
          "United Kingdom",
          "France",
          "Brazil",
          "Italy",
          "Canada",
          "Russia",
          "Mexico",
          "Australia",
          "South Korea",
          "Spain",
          "Indonesia",
          "Netherlands",
          "Turkey",
          "Saudi Arabia",
          "Switzerland",
          "Poland",
          "Taiwan",
          "Belgium",
          "Sweden",
          "Argentina",
          "Ireland",
          "Thailand",
          "Austria",
          "Israel",
          "United Arab Emirates",
          "Norway",
          "Singapore",
          "Philippines",
          "Vietnam",
          "Iran",
          "Bangladesh",
          "Malaysia",
          "Denmark",
          "Hong Kong",
          "Colombia",
          "South Africa",
          "Romania",
          "Egypt",
          "Pakistan",
          "Chile",
          "Czech Republic",
          "Finland",
          "Portugal",
          "Kazakhstan",
          "Peru",
          "Algeria",
          "Iraq",
          "New Zealand",
          "Nigeria",
          "Greece",
          "Qatar",
          "Hungary",
          "Ethiopia",
          "Ukraine",
          "Kuwait",
          "Morocco",
          "Cuba",
          "Slovakia",
          "Dominican Republic",
          "Ecuador",
          "Puerto Rico",
          "Guatemala",
          "Oman",
          "Bulgaria",
          "Kenya",
          "Venezuela",
          "Uzbekistan",
          "Costa Rica",
          "Angola",
          "Luxembourg",
          "Croatia",
          "Panama",
          "Ivory Coast",
          "Uruguay",
          "Turkmenistan",
          "Serbia",
          "Lithuania",
          "Tanzania",
          "Azerbaijan",
          "Ghana",
          "Sri Lanka",
          "DR Congo",
          "Slovenia",
          "Belarus",
          "Myanmar",
          "Uganda",
          "Tunisia",
          "Macau",
          "Jordan",
          "Cameroon",
          "Bolivia",
          "Libya",
          "Bahrain",
          "Paraguay",
          "Latvia",
          "Cambodia",
          "Nepal",
          "Estonia",
          "Honduras",
          "Senegal",
          "El Salvador",
          "Zimbabwe",
          "Cyprus",
          "Iceland",
          "Georgia",
          "Papua New Guinea",
          "Zambia",
          "Bosnia and Herzegovina",
          "Trinidad and Tobago",
          "Sudan",
          "Guinea",
          "Albania",
          "Armenia",
          "Haiti",
          "Mozambique",
          "Malta",
          "Mongolia",
          "Burkina Faso",
          "Lebanon",
          "Mali",
          "Botswana",
          "Benin",
          "Guyana",
          "Gabon",
          "Jamaica",
          "Nicaragua",
          "Niger",
          "Chad",
          "Palestine",
          "Moldova",
          "Yemen",
          "Madagascar",
          "Mauritius",
          "North Macedonia",
          "Brunei",
          "Congo",
          "Laos",
          "North Korea",
          "Afghanistan",
          "Bahamas",
          "Rwanda",
          "Kyrgyzstan",
          "Tajikistan",
          "Somalia",
          "Namibia",
          "Kosovo",
          "Malawi",
          "Equatorial Guinea",
          "Mauritania",
          "Togo",
          "New Caledonia",
          "Syria",
          "Monaco",
          "Montenegro",
          "Liechtenstein",
          "Bermuda",
          "Maldives",
          "Barbados",
          "Cayman Islands",
          "South Sudan",
          "French Polynesia",
          "Fiji",
          "Eswatini",
          "Liberia",
          "Sierra Leone",
          "Djibouti",
          "Suriname",
          "Aruba",
          "Andorra",
          "Belize",
          "Greenland",
          "Bhutan",
          "Curaçao",
          "Burundi",
          "Central African Republic",
          "Cape Verde",
          "Gambia",
          "Saint Lucia",
          "Lesotho",
          "Eritrea",
          "Zanzibar",
          "Seychelles",
          "Guinea-Bissau",
          "Antigua and Barbuda",
          "San Marino",
          "East Timor",
          "Solomon Islands",
          "Sint Maarten",
          "Comoros",
          "Grenada",
          "Turks and Caicos Islands",
          "Vanuatu",
          "Saint Kitts and Nevis",
          "Saint Vincent and the Grenadines",
          "Samoa",
          "São Tomé and Príncipe",
          "Dominica",
          "Tonga",
          "Micronesia",
          "Kiribati",
          "Palau",
          "Marshall Islands",
          "Nauru",
          "Tuvalu"
         ],
         "xaxis": "x",
         "y": [
          25744100,
          17963170,
          4076923,
          4232173,
          3465541,
          3089072,
          2775316,
          1920095,
          2046952,
          2137939,
          2240422,
          1463323,
          1776577,
          1673916,
          1415874,
          1319100,
          1008027,
          907118,
          1108148,
          818426,
          688125,
          961269.8564593302,
          582643,
          591188,
          631133,
          532415,
          495340,
          470302,
          525002,
          507063,
          579422,
          466788,
          404284,
          408802,
          398047,
          432677,
          406305,
          400167,
          359838,
          343939,
          405270,
          300690,
          409306,
          326796,
          300686,
          290527,
          282511,
          254849,
          225496,
          242631,
          191912,
          264182,
          245845,
          475058,
          217285,
          237101,
          177337,
          118971,
          160502,
          175363,
          130912,
          147193,
          115304,
          113537,
          115049,
          113434,
          95003,
          114666,
          90213,
          113419,
          129313,
          80391,
          68380,
          113304,
          81530,
          71552,
          76522,
          70018,
          71171,
          67009,
          63563,
          70878,
          73535,
          78721,
          73766,
          76187,
          62551,
          59981,
          72873,
          65211,
          48243,
          46181,
          24042,
          47452,
          44341,
          44008,
          40537,
          44382,
          41722,
          40876,
          29504,
          39406,
          38049,
          31717,
          27775,
          32488,
          26418,
          29210,
          28064,
          24605,
          31609,
          29136,
          24473,
          30053,
          36729,
          20846,
          18916,
          19513,
          18751,
          18406,
          18100,
          17146,
          19176,
          39303,
          18827,
          20352,
          17396,
          14718,
          20132,
          17097,
          15671,
          15414,
          16799,
          19111,
          14510,
          11007,
          14954,
          12898,
          13711,
          16681,
          15344,
          15362,
          15176,
          14174,
          12897,
          13312,
          10930,
          10492,
          10420,
          12607,
          9397,
          12558,
          11767,
          10997,
          8087,
          9623,
          18595,
          8772,
          6229,
          7757,
          7546,
          6170,
          5699,
          6281,
          4616,
          5814,
          4979,
          4326,
          3265,
          3481,
          4003,
          3620,
          3544,
          3376,
          2830,
          2926,
          2898,
          3075,
          4032,
          2395,
          2314,
          2231,
          2165,
          2287,
          2383,
          2361,
          1994,
          1574,
          1770,
          1780,
          3204,
          1597,
          1572,
          1246,
          1192,
          1138,
          985,
          979,
          946,
          857,
          546,
          612,
          488,
          427,
          223,
          225,
          279,
          147,
          59
         ],
         "yaxis": "y"
        }
       ],
       "layout": {
        "barmode": "group",
        "height": 550,
        "legend": {
         "title": {
          "text": "Year"
         },
         "tracegroupgap": 0
        },
        "template": {
         "data": {
          "bar": [
           {
            "error_x": {
             "color": "#2a3f5f"
            },
            "error_y": {
             "color": "#2a3f5f"
            },
            "marker": {
             "line": {
              "color": "#E5ECF6",
              "width": 0.5
             },
             "pattern": {
              "fillmode": "overlay",
              "size": 10,
              "solidity": 0.2
             }
            },
            "type": "bar"
           }
          ],
          "barpolar": [
           {
            "marker": {
             "line": {
              "color": "#E5ECF6",
              "width": 0.5
             },
             "pattern": {
              "fillmode": "overlay",
              "size": 10,
              "solidity": 0.2
             }
            },
            "type": "barpolar"
           }
          ],
          "carpet": [
           {
            "aaxis": {
             "endlinecolor": "#2a3f5f",
             "gridcolor": "white",
             "linecolor": "white",
             "minorgridcolor": "white",
             "startlinecolor": "#2a3f5f"
            },
            "baxis": {
             "endlinecolor": "#2a3f5f",
             "gridcolor": "white",
             "linecolor": "white",
             "minorgridcolor": "white",
             "startlinecolor": "#2a3f5f"
            },
            "type": "carpet"
           }
          ],
          "choropleth": [
           {
            "colorbar": {
             "outlinewidth": 0,
             "ticks": ""
            },
            "type": "choropleth"
           }
          ],
          "contour": [
           {
            "colorbar": {
             "outlinewidth": 0,
             "ticks": ""
            },
            "colorscale": [
             [
              0,
              "#0d0887"
             ],
             [
              0.1111111111111111,
              "#46039f"
             ],
             [
              0.2222222222222222,
              "#7201a8"
             ],
             [
              0.3333333333333333,
              "#9c179e"
             ],
             [
              0.4444444444444444,
              "#bd3786"
             ],
             [
              0.5555555555555556,
              "#d8576b"
             ],
             [
              0.6666666666666666,
              "#ed7953"
             ],
             [
              0.7777777777777778,
              "#fb9f3a"
             ],
             [
              0.8888888888888888,
              "#fdca26"
             ],
             [
              1,
              "#f0f921"
             ]
            ],
            "type": "contour"
           }
          ],
          "contourcarpet": [
           {
            "colorbar": {
             "outlinewidth": 0,
             "ticks": ""
            },
            "type": "contourcarpet"
           }
          ],
          "heatmap": [
           {
            "colorbar": {
             "outlinewidth": 0,
             "ticks": ""
            },
            "colorscale": [
             [
              0,
              "#0d0887"
             ],
             [
              0.1111111111111111,
              "#46039f"
             ],
             [
              0.2222222222222222,
              "#7201a8"
             ],
             [
              0.3333333333333333,
              "#9c179e"
             ],
             [
              0.4444444444444444,
              "#bd3786"
             ],
             [
              0.5555555555555556,
              "#d8576b"
             ],
             [
              0.6666666666666666,
              "#ed7953"
             ],
             [
              0.7777777777777778,
              "#fb9f3a"
             ],
             [
              0.8888888888888888,
              "#fdca26"
             ],
             [
              1,
              "#f0f921"
             ]
            ],
            "type": "heatmap"
           }
          ],
          "heatmapgl": [
           {
            "colorbar": {
             "outlinewidth": 0,
             "ticks": ""
            },
            "colorscale": [
             [
              0,
              "#0d0887"
             ],
             [
              0.1111111111111111,
              "#46039f"
             ],
             [
              0.2222222222222222,
              "#7201a8"
             ],
             [
              0.3333333333333333,
              "#9c179e"
             ],
             [
              0.4444444444444444,
              "#bd3786"
             ],
             [
              0.5555555555555556,
              "#d8576b"
             ],
             [
              0.6666666666666666,
              "#ed7953"
             ],
             [
              0.7777777777777778,
              "#fb9f3a"
             ],
             [
              0.8888888888888888,
              "#fdca26"
             ],
             [
              1,
              "#f0f921"
             ]
            ],
            "type": "heatmapgl"
           }
          ],
          "histogram": [
           {
            "marker": {
             "pattern": {
              "fillmode": "overlay",
              "size": 10,
              "solidity": 0.2
             }
            },
            "type": "histogram"
           }
          ],
          "histogram2d": [
           {
            "colorbar": {
             "outlinewidth": 0,
             "ticks": ""
            },
            "colorscale": [
             [
              0,
              "#0d0887"
             ],
             [
              0.1111111111111111,
              "#46039f"
             ],
             [
              0.2222222222222222,
              "#7201a8"
             ],
             [
              0.3333333333333333,
              "#9c179e"
             ],
             [
              0.4444444444444444,
              "#bd3786"
             ],
             [
              0.5555555555555556,
              "#d8576b"
             ],
             [
              0.6666666666666666,
              "#ed7953"
             ],
             [
              0.7777777777777778,
              "#fb9f3a"
             ],
             [
              0.8888888888888888,
              "#fdca26"
             ],
             [
              1,
              "#f0f921"
             ]
            ],
            "type": "histogram2d"
           }
          ],
          "histogram2dcontour": [
           {
            "colorbar": {
             "outlinewidth": 0,
             "ticks": ""
            },
            "colorscale": [
             [
              0,
              "#0d0887"
             ],
             [
              0.1111111111111111,
              "#46039f"
             ],
             [
              0.2222222222222222,
              "#7201a8"
             ],
             [
              0.3333333333333333,
              "#9c179e"
             ],
             [
              0.4444444444444444,
              "#bd3786"
             ],
             [
              0.5555555555555556,
              "#d8576b"
             ],
             [
              0.6666666666666666,
              "#ed7953"
             ],
             [
              0.7777777777777778,
              "#fb9f3a"
             ],
             [
              0.8888888888888888,
              "#fdca26"
             ],
             [
              1,
              "#f0f921"
             ]
            ],
            "type": "histogram2dcontour"
           }
          ],
          "mesh3d": [
           {
            "colorbar": {
             "outlinewidth": 0,
             "ticks": ""
            },
            "type": "mesh3d"
           }
          ],
          "parcoords": [
           {
            "line": {
             "colorbar": {
              "outlinewidth": 0,
              "ticks": ""
             }
            },
            "type": "parcoords"
           }
          ],
          "pie": [
           {
            "automargin": true,
            "type": "pie"
           }
          ],
          "scatter": [
           {
            "fillpattern": {
             "fillmode": "overlay",
             "size": 10,
             "solidity": 0.2
            },
            "type": "scatter"
           }
          ],
          "scatter3d": [
           {
            "line": {
             "colorbar": {
              "outlinewidth": 0,
              "ticks": ""
             }
            },
            "marker": {
             "colorbar": {
              "outlinewidth": 0,
              "ticks": ""
             }
            },
            "type": "scatter3d"
           }
          ],
          "scattercarpet": [
           {
            "marker": {
             "colorbar": {
              "outlinewidth": 0,
              "ticks": ""
             }
            },
            "type": "scattercarpet"
           }
          ],
          "scattergeo": [
           {
            "marker": {
             "colorbar": {
              "outlinewidth": 0,
              "ticks": ""
             }
            },
            "type": "scattergeo"
           }
          ],
          "scattergl": [
           {
            "marker": {
             "colorbar": {
              "outlinewidth": 0,
              "ticks": ""
             }
            },
            "type": "scattergl"
           }
          ],
          "scattermapbox": [
           {
            "marker": {
             "colorbar": {
              "outlinewidth": 0,
              "ticks": ""
             }
            },
            "type": "scattermapbox"
           }
          ],
          "scatterpolar": [
           {
            "marker": {
             "colorbar": {
              "outlinewidth": 0,
              "ticks": ""
             }
            },
            "type": "scatterpolar"
           }
          ],
          "scatterpolargl": [
           {
            "marker": {
             "colorbar": {
              "outlinewidth": 0,
              "ticks": ""
             }
            },
            "type": "scatterpolargl"
           }
          ],
          "scatterternary": [
           {
            "marker": {
             "colorbar": {
              "outlinewidth": 0,
              "ticks": ""
             }
            },
            "type": "scatterternary"
           }
          ],
          "surface": [
           {
            "colorbar": {
             "outlinewidth": 0,
             "ticks": ""
            },
            "colorscale": [
             [
              0,
              "#0d0887"
             ],
             [
              0.1111111111111111,
              "#46039f"
             ],
             [
              0.2222222222222222,
              "#7201a8"
             ],
             [
              0.3333333333333333,
              "#9c179e"
             ],
             [
              0.4444444444444444,
              "#bd3786"
             ],
             [
              0.5555555555555556,
              "#d8576b"
             ],
             [
              0.6666666666666666,
              "#ed7953"
             ],
             [
              0.7777777777777778,
              "#fb9f3a"
             ],
             [
              0.8888888888888888,
              "#fdca26"
             ],
             [
              1,
              "#f0f921"
             ]
            ],
            "type": "surface"
           }
          ],
          "table": [
           {
            "cells": {
             "fill": {
              "color": "#EBF0F8"
             },
             "line": {
              "color": "white"
             }
            },
            "header": {
             "fill": {
              "color": "#C8D4E3"
             },
             "line": {
              "color": "white"
             }
            },
            "type": "table"
           }
          ]
         },
         "layout": {
          "annotationdefaults": {
           "arrowcolor": "#2a3f5f",
           "arrowhead": 0,
           "arrowwidth": 1
          },
          "autotypenumbers": "strict",
          "coloraxis": {
           "colorbar": {
            "outlinewidth": 0,
            "ticks": ""
           }
          },
          "colorscale": {
           "diverging": [
            [
             0,
             "#8e0152"
            ],
            [
             0.1,
             "#c51b7d"
            ],
            [
             0.2,
             "#de77ae"
            ],
            [
             0.3,
             "#f1b6da"
            ],
            [
             0.4,
             "#fde0ef"
            ],
            [
             0.5,
             "#f7f7f7"
            ],
            [
             0.6,
             "#e6f5d0"
            ],
            [
             0.7,
             "#b8e186"
            ],
            [
             0.8,
             "#7fbc41"
            ],
            [
             0.9,
             "#4d9221"
            ],
            [
             1,
             "#276419"
            ]
           ],
           "sequential": [
            [
             0,
             "#0d0887"
            ],
            [
             0.1111111111111111,
             "#46039f"
            ],
            [
             0.2222222222222222,
             "#7201a8"
            ],
            [
             0.3333333333333333,
             "#9c179e"
            ],
            [
             0.4444444444444444,
             "#bd3786"
            ],
            [
             0.5555555555555556,
             "#d8576b"
            ],
            [
             0.6666666666666666,
             "#ed7953"
            ],
            [
             0.7777777777777778,
             "#fb9f3a"
            ],
            [
             0.8888888888888888,
             "#fdca26"
            ],
            [
             1,
             "#f0f921"
            ]
           ],
           "sequentialminus": [
            [
             0,
             "#0d0887"
            ],
            [
             0.1111111111111111,
             "#46039f"
            ],
            [
             0.2222222222222222,
             "#7201a8"
            ],
            [
             0.3333333333333333,
             "#9c179e"
            ],
            [
             0.4444444444444444,
             "#bd3786"
            ],
            [
             0.5555555555555556,
             "#d8576b"
            ],
            [
             0.6666666666666666,
             "#ed7953"
            ],
            [
             0.7777777777777778,
             "#fb9f3a"
            ],
            [
             0.8888888888888888,
             "#fdca26"
            ],
            [
             1,
             "#f0f921"
            ]
           ]
          },
          "colorway": [
           "#636efa",
           "#EF553B",
           "#00cc96",
           "#ab63fa",
           "#FFA15A",
           "#19d3f3",
           "#FF6692",
           "#B6E880",
           "#FF97FF",
           "#FECB52"
          ],
          "font": {
           "color": "#2a3f5f"
          },
          "geo": {
           "bgcolor": "white",
           "lakecolor": "white",
           "landcolor": "#E5ECF6",
           "showlakes": true,
           "showland": true,
           "subunitcolor": "white"
          },
          "hoverlabel": {
           "align": "left"
          },
          "hovermode": "closest",
          "mapbox": {
           "style": "light"
          },
          "paper_bgcolor": "white",
          "plot_bgcolor": "#E5ECF6",
          "polar": {
           "angularaxis": {
            "gridcolor": "white",
            "linecolor": "white",
            "ticks": ""
           },
           "bgcolor": "#E5ECF6",
           "radialaxis": {
            "gridcolor": "white",
            "linecolor": "white",
            "ticks": ""
           }
          },
          "scene": {
           "xaxis": {
            "backgroundcolor": "#E5ECF6",
            "gridcolor": "white",
            "gridwidth": 2,
            "linecolor": "white",
            "showbackground": true,
            "ticks": "",
            "zerolinecolor": "white"
           },
           "yaxis": {
            "backgroundcolor": "#E5ECF6",
            "gridcolor": "white",
            "gridwidth": 2,
            "linecolor": "white",
            "showbackground": true,
            "ticks": "",
            "zerolinecolor": "white"
           },
           "zaxis": {
            "backgroundcolor": "#E5ECF6",
            "gridcolor": "white",
            "gridwidth": 2,
            "linecolor": "white",
            "showbackground": true,
            "ticks": "",
            "zerolinecolor": "white"
           }
          },
          "shapedefaults": {
           "line": {
            "color": "#2a3f5f"
           }
          },
          "ternary": {
           "aaxis": {
            "gridcolor": "white",
            "linecolor": "white",
            "ticks": ""
           },
           "baxis": {
            "gridcolor": "white",
            "linecolor": "white",
            "ticks": ""
           },
           "bgcolor": "#E5ECF6",
           "caxis": {
            "gridcolor": "white",
            "linecolor": "white",
            "ticks": ""
           }
          },
          "title": {
           "x": 0.05
          },
          "xaxis": {
           "automargin": true,
           "gridcolor": "white",
           "linecolor": "white",
           "ticks": "",
           "title": {
            "standoff": 15
           },
           "zerolinecolor": "white",
           "zerolinewidth": 2
          },
          "yaxis": {
           "automargin": true,
           "gridcolor": "white",
           "linecolor": "white",
           "ticks": "",
           "title": {
            "standoff": 15
           },
           "zerolinecolor": "white",
           "zerolinewidth": 2
          }
         }
        },
        "title": {
         "text": "Зміни в показниках для кожної країни за три роки"
        },
        "width": 3700,
        "xaxis": {
         "anchor": "y",
         "domain": [
          0,
          1
         ],
         "title": {
          "text": "Country"
         }
        },
        "yaxis": {
         "anchor": "x",
         "domain": [
          0,
          1
         ],
         "title": {
          "text": "Value"
         }
        }
       }
      }
     },
     "metadata": {},
     "output_type": "display_data"
    }
   ],
   "source": [
    "df_long = df_to_use.melt(id_vars = \"Country\", var_name = \"Year\", value_name = \"Value\")\n",
    "\n",
    "fig = px.bar(df_long, x = \"Country\", y = \"Value\", \n",
    "             color = \"Year\", barmode = \"group\", \n",
    "             title = \"Зміни в показниках для кожної країни за три роки\")\n",
    "\n",
    "fig.update_layout(width = 3700, height = 550)\n",
    "\n",
    "fig.show()"
   ]
  },
  {
   "cell_type": "markdown",
   "metadata": {},
   "source": [
    "США, Німеччина, Великобританія, Франція, Італія, Іспанія, Нідерланди, Саудівська Аравія, Польша показують стабільне зростання"
   ]
  },
  {
   "cell_type": "markdown",
   "metadata": {},
   "source": [
    "## Висновки до завдання 1"
   ]
  },
  {
   "cell_type": "markdown",
   "metadata": {},
   "source": [
    "У даному завданні я навчилась як зчитувати таблиці із сайтів, і також проаналізувала таблицю щодо показників ВВП за країнами протягом трьох років (2022, 2023, 2024). Деякі спостереження:\n",
    " - У більшості країнах показник ВВП збільшується протягом трьох років.\n",
    " - Найвищий показник ВВп має США."
   ]
  },
  {
   "cell_type": "markdown",
   "metadata": {},
   "source": [
    "# Завдання 2"
   ]
  },
  {
   "cell_type": "code",
   "execution_count": 43,
   "metadata": {},
   "outputs": [],
   "source": [
    "df_titanic = pd.read_csv('titanic.csv')"
   ]
  },
  {
   "cell_type": "markdown",
   "metadata": {},
   "source": [
    "## 1. Вивести перших 5 рядків"
   ]
  },
  {
   "cell_type": "code",
   "execution_count": 44,
   "metadata": {},
   "outputs": [
    {
     "data": {
      "text/html": [
       "<div>\n",
       "<style scoped>\n",
       "    .dataframe tbody tr th:only-of-type {\n",
       "        vertical-align: middle;\n",
       "    }\n",
       "\n",
       "    .dataframe tbody tr th {\n",
       "        vertical-align: top;\n",
       "    }\n",
       "\n",
       "    .dataframe thead th {\n",
       "        text-align: right;\n",
       "    }\n",
       "</style>\n",
       "<table border=\"1\" class=\"dataframe\">\n",
       "  <thead>\n",
       "    <tr style=\"text-align: right;\">\n",
       "      <th></th>\n",
       "      <th>PassengerId</th>\n",
       "      <th>Survived</th>\n",
       "      <th>Pclass</th>\n",
       "      <th>Name</th>\n",
       "      <th>Sex</th>\n",
       "      <th>Age</th>\n",
       "      <th>SibSp</th>\n",
       "      <th>Parch</th>\n",
       "      <th>Ticket</th>\n",
       "      <th>Fare</th>\n",
       "      <th>Cabin</th>\n",
       "      <th>Embarked</th>\n",
       "    </tr>\n",
       "  </thead>\n",
       "  <tbody>\n",
       "    <tr>\n",
       "      <th>0</th>\n",
       "      <td>892</td>\n",
       "      <td>0</td>\n",
       "      <td>3</td>\n",
       "      <td>Kelly, Mr. James</td>\n",
       "      <td>male</td>\n",
       "      <td>34.5</td>\n",
       "      <td>0</td>\n",
       "      <td>0</td>\n",
       "      <td>330911</td>\n",
       "      <td>7.8292</td>\n",
       "      <td>NaN</td>\n",
       "      <td>Q</td>\n",
       "    </tr>\n",
       "    <tr>\n",
       "      <th>1</th>\n",
       "      <td>893</td>\n",
       "      <td>1</td>\n",
       "      <td>3</td>\n",
       "      <td>Wilkes, Mrs. James (Ellen Needs)</td>\n",
       "      <td>female</td>\n",
       "      <td>47.0</td>\n",
       "      <td>1</td>\n",
       "      <td>0</td>\n",
       "      <td>363272</td>\n",
       "      <td>7.0000</td>\n",
       "      <td>NaN</td>\n",
       "      <td>S</td>\n",
       "    </tr>\n",
       "    <tr>\n",
       "      <th>2</th>\n",
       "      <td>894</td>\n",
       "      <td>0</td>\n",
       "      <td>2</td>\n",
       "      <td>Myles, Mr. Thomas Francis</td>\n",
       "      <td>male</td>\n",
       "      <td>62.0</td>\n",
       "      <td>0</td>\n",
       "      <td>0</td>\n",
       "      <td>240276</td>\n",
       "      <td>9.6875</td>\n",
       "      <td>NaN</td>\n",
       "      <td>Q</td>\n",
       "    </tr>\n",
       "    <tr>\n",
       "      <th>3</th>\n",
       "      <td>895</td>\n",
       "      <td>0</td>\n",
       "      <td>3</td>\n",
       "      <td>Wirz, Mr. Albert</td>\n",
       "      <td>male</td>\n",
       "      <td>27.0</td>\n",
       "      <td>0</td>\n",
       "      <td>0</td>\n",
       "      <td>315154</td>\n",
       "      <td>8.6625</td>\n",
       "      <td>NaN</td>\n",
       "      <td>S</td>\n",
       "    </tr>\n",
       "    <tr>\n",
       "      <th>4</th>\n",
       "      <td>896</td>\n",
       "      <td>1</td>\n",
       "      <td>3</td>\n",
       "      <td>Hirvonen, Mrs. Alexander (Helga E Lindqvist)</td>\n",
       "      <td>female</td>\n",
       "      <td>22.0</td>\n",
       "      <td>1</td>\n",
       "      <td>1</td>\n",
       "      <td>3101298</td>\n",
       "      <td>12.2875</td>\n",
       "      <td>NaN</td>\n",
       "      <td>S</td>\n",
       "    </tr>\n",
       "  </tbody>\n",
       "</table>\n",
       "</div>"
      ],
      "text/plain": [
       "   PassengerId  Survived  Pclass  \\\n",
       "0          892         0       3   \n",
       "1          893         1       3   \n",
       "2          894         0       2   \n",
       "3          895         0       3   \n",
       "4          896         1       3   \n",
       "\n",
       "                                           Name     Sex   Age  SibSp  Parch  \\\n",
       "0                              Kelly, Mr. James    male  34.5      0      0   \n",
       "1              Wilkes, Mrs. James (Ellen Needs)  female  47.0      1      0   \n",
       "2                     Myles, Mr. Thomas Francis    male  62.0      0      0   \n",
       "3                              Wirz, Mr. Albert    male  27.0      0      0   \n",
       "4  Hirvonen, Mrs. Alexander (Helga E Lindqvist)  female  22.0      1      1   \n",
       "\n",
       "    Ticket     Fare Cabin Embarked  \n",
       "0   330911   7.8292   NaN        Q  \n",
       "1   363272   7.0000   NaN        S  \n",
       "2   240276   9.6875   NaN        Q  \n",
       "3   315154   8.6625   NaN        S  \n",
       "4  3101298  12.2875   NaN        S  "
      ]
     },
     "execution_count": 44,
     "metadata": {},
     "output_type": "execute_result"
    }
   ],
   "source": [
    "df_titanic.head()"
   ]
  },
  {
   "cell_type": "markdown",
   "metadata": {},
   "source": [
    "## 2. Визначити розмір датасета"
   ]
  },
  {
   "cell_type": "code",
   "execution_count": 45,
   "metadata": {},
   "outputs": [
    {
     "data": {
      "text/plain": [
       "(418, 12)"
      ]
     },
     "execution_count": 45,
     "metadata": {},
     "output_type": "execute_result"
    }
   ],
   "source": [
    "df_titanic.shape"
   ]
  },
  {
   "cell_type": "markdown",
   "metadata": {},
   "source": [
    "## 3. Визначити тип даних"
   ]
  },
  {
   "cell_type": "code",
   "execution_count": 46,
   "metadata": {},
   "outputs": [
    {
     "name": "stdout",
     "output_type": "stream",
     "text": [
      "<class 'pandas.core.frame.DataFrame'>\n",
      "RangeIndex: 418 entries, 0 to 417\n",
      "Data columns (total 12 columns):\n",
      " #   Column       Non-Null Count  Dtype  \n",
      "---  ------       --------------  -----  \n",
      " 0   PassengerId  418 non-null    int64  \n",
      " 1   Survived     418 non-null    int64  \n",
      " 2   Pclass       418 non-null    int64  \n",
      " 3   Name         418 non-null    object \n",
      " 4   Sex          418 non-null    object \n",
      " 5   Age          332 non-null    float64\n",
      " 6   SibSp        418 non-null    int64  \n",
      " 7   Parch        418 non-null    int64  \n",
      " 8   Ticket       418 non-null    object \n",
      " 9   Fare         417 non-null    float64\n",
      " 10  Cabin        91 non-null     object \n",
      " 11  Embarked     418 non-null    object \n",
      "dtypes: float64(2), int64(5), object(5)\n",
      "memory usage: 39.3+ KB\n"
     ]
    }
   ],
   "source": [
    "df_titanic.info()"
   ]
  },
  {
   "cell_type": "code",
   "execution_count": 47,
   "metadata": {},
   "outputs": [
    {
     "data": {
      "text/plain": [
       "array(['330911', '363272', '240276', '315154', '3101298', '7538',\n",
       "       '330972', '248738', '2657', 'A/4 48871', '349220', '694', '21228',\n",
       "       '24065', 'W.E.P. 5734', 'SC/PARIS 2167', '233734', '2692',\n",
       "       'STON/O2. 3101270', '2696', 'PC 17603', 'C 17368', 'PC 17598',\n",
       "       'PC 17597', 'PC 17608', 'A/5. 3337', '113509', '2698', '113054',\n",
       "       '2662', 'SC/AH 3085', 'C.A. 31029', 'C.A. 2315', 'W./C. 6607',\n",
       "       '13236', '2682', '342712', '315087', '345768', '1601', '349256',\n",
       "       '113778', 'SOTON/O.Q. 3101263', '237249', '11753',\n",
       "       'STON/O 2. 3101291', 'PC 17594', '370374', '11813', 'C.A. 37671',\n",
       "       '13695', 'SC/PARIS 2168', '29105', '19950', 'SC/A.3 2861',\n",
       "       '382652', '349230', '348122', '386525', '349232', '237216',\n",
       "       '347090', '334914', 'F.C.C. 13534', '330963', '113796', '2543',\n",
       "       '382653', '349211', '3101297', 'PC 17562', '113503', '359306',\n",
       "       '11770', '248744', '368702', '2678', 'PC 17483', '19924', '349238',\n",
       "       '240261', '2660', '330844', 'A/4 31416', '364856', '29103',\n",
       "       '347072', '345498', 'F.C. 12750', '376563', '13905', '350033',\n",
       "       '19877', 'STON/O 2. 3101268', '347471', 'A./5. 3338', '11778',\n",
       "       '228414', '365235', '347070', '2625', 'C 4001', '330920', '383162',\n",
       "       '3410', '248734', '237734', '330968', 'PC 17531', '329944', '2680',\n",
       "       '2681', 'PP 9549', '13050', 'SC/AH 29037', 'C.A. 33595', '367227',\n",
       "       '392095', '368783', '371362', '350045', '367226', '211535',\n",
       "       '342441', 'STON/OQ. 369943', '113780', '4133', '2621', '349226',\n",
       "       '350409', '2656', '248659', 'SOTON/OQ 392083', 'CA 2144', '113781',\n",
       "       '244358', '17475', '345763', '17463', 'SC/A4 23568', '113791',\n",
       "       '250651', '11767', '349255', '3701', '350405', '347077',\n",
       "       'S.O./P.P. 752', '347469', '110489', 'SOTON/O.Q. 3101315',\n",
       "       '335432', '2650', '220844', '343271', '237393', '315153',\n",
       "       'PC 17591', 'W./C. 6608', '17770', '7548', 'S.O./P.P. 251', '2670',\n",
       "       '2673', '29750', 'C.A. 33112', '230136', 'PC 17756', '233478',\n",
       "       '113773', '7935', 'PC 17558', '239059', 'S.O./P.P. 2', 'A/4 48873',\n",
       "       'CA. 2343', '28221', '226875', '111163', 'A/5. 851', '235509',\n",
       "       '28220', '347465', '16966', '347066', 'C.A. 31030', '65305',\n",
       "       '36568', '347080', 'PC 17757', '26360', 'C.A. 34050', 'F.C. 12998',\n",
       "       '9232', '28034', 'PC 17613', '349250', 'SOTON/O.Q. 3101308',\n",
       "       'S.O.C. 14879', '347091', '113038', '330924', '36928', '32302',\n",
       "       'SC/PARIS 2148', '342684', 'W./C. 14266', '350053', 'PC 17606',\n",
       "       '2661', '350054', '370368', 'C.A. 6212', '242963', '220845',\n",
       "       '113795', '3101266', '330971', 'PC 17599', '350416', '110813',\n",
       "       '2679', '250650', 'PC 17761', '112377', '237789', '3470', '17464',\n",
       "       '26707', 'C.A. 34651', 'SOTON/O2 3101284', '13508', '7266',\n",
       "       '345775', 'C.A. 42795', 'AQ/4 3130', '363611', '28404', '345501',\n",
       "       '345572', '350410', 'C.A. 34644', '349235', '112051', 'C.A. 49867',\n",
       "       'A. 2. 39186', '315095', '368573', '370371', '2676', '236853',\n",
       "       'SC 14888', '2926', 'CA 31352', 'W./C. 14260', '315085', '364859',\n",
       "       '370129', 'A/5 21175', 'SOTON/O.Q. 3101314', '2655', 'A/5 1478',\n",
       "       'PC 17607', '382650', '2652', '33638', '345771', '349202',\n",
       "       'SC/Paris 2123', '113801', '347467', '347079', '237735', '315092',\n",
       "       '383123', '112901', '392091', '12749', '350026', '315091', '2658',\n",
       "       'LP 1588', '368364', 'PC 17760', 'AQ/3. 30631', 'PC 17569',\n",
       "       '28004', '350408', '347075', '2654', '244368', '113790', '24160',\n",
       "       'SOTON/O.Q. 3101309', 'PC 17585', '2003', '236854', 'PC 17580',\n",
       "       '2684', '2653', '349229', '110469', '244360', '2675', '2622',\n",
       "       'C.A. 15185', '350403', 'PC 17755', '348125', '237670', '2688',\n",
       "       '248726', 'F.C.C. 13528', 'PC 17759', 'F.C.C. 13540', '113044',\n",
       "       '11769', '1222', '368402', '349910', 'S.C./PARIS 2079', '315083',\n",
       "       '11765', '2689', '3101295', '112378', 'SC/PARIS 2147', '28133',\n",
       "       '112058', '248746', '315152', '29107', '680', '366713', '330910',\n",
       "       '364498', '376566', 'SC/PARIS 2159', '349911', '244346', '364858',\n",
       "       '349909', 'PC 17592', 'C.A. 2673', 'C.A. 30769', '371109', '13567',\n",
       "       '347065', '21332', '28664', '113059', '17765', 'SC/PARIS 2166',\n",
       "       '28666', '334915', '365237', '19928', '347086', 'A.5. 3236',\n",
       "       'PC 17758', 'SOTON/O.Q. 3101262', '359309', '2668'], dtype=object)"
      ]
     },
     "execution_count": 47,
     "metadata": {},
     "output_type": "execute_result"
    }
   ],
   "source": [
    "df_titanic.Ticket.unique()"
   ]
  },
  {
   "cell_type": "markdown",
   "metadata": {},
   "source": [
    "Типи даних у всіх стовпцях визначені правильно.\n",
    "Також, на перший погляд здається, що тип даних у стовпці 'Ticket' можна змінити із object на int, але - ні, оскільки, якщо вивести унікальні значення стовпця, то можна побачити, що в номерах деяких білетів також присутні літери."
   ]
  },
  {
   "cell_type": "markdown",
   "metadata": {},
   "source": [
    "## 4. Визначити наявність пропущених значень. При наявності, замінити пропущені значення на середнє значення"
   ]
  },
  {
   "cell_type": "code",
   "execution_count": 48,
   "metadata": {},
   "outputs": [
    {
     "data": {
      "text/plain": [
       "PassengerId      0\n",
       "Survived         0\n",
       "Pclass           0\n",
       "Name             0\n",
       "Sex              0\n",
       "Age             86\n",
       "SibSp            0\n",
       "Parch            0\n",
       "Ticket           0\n",
       "Fare             1\n",
       "Cabin          327\n",
       "Embarked         0\n",
       "dtype: int64"
      ]
     },
     "execution_count": 48,
     "metadata": {},
     "output_type": "execute_result"
    }
   ],
   "source": [
    "df_titanic.isna().sum()"
   ]
  },
  {
   "cell_type": "markdown",
   "metadata": {},
   "source": [
    "Два стовпця мають пропущенні значення:\n",
    " - `Age` - стовпець має числовий тип даних, тому можна пропущенні значення замінити середнім \n",
    " - `Fare` - стовпець має числовий тип даних, тому можна пропущенні значення замінити середнім \n",
    " - `Cabin` - має 78% пропущених значень, тому вважаю, що треба видалити даний стовпець"
   ]
  },
  {
   "cell_type": "code",
   "execution_count": 49,
   "metadata": {},
   "outputs": [],
   "source": [
    "df_titanic['Age'].fillna(df_titanic['Age'].mean(skipna = True), inplace = True)\n",
    "df_titanic['Fare'].fillna(df_titanic['Fare'].mean(skipna = True), inplace = True)\n",
    "df_titanic.drop('Cabin', axis = 1, inplace = True)"
   ]
  },
  {
   "cell_type": "markdown",
   "metadata": {},
   "source": [
    "## 5. Ще раз перевірити наявність пропущених значень"
   ]
  },
  {
   "cell_type": "code",
   "execution_count": 50,
   "metadata": {},
   "outputs": [
    {
     "data": {
      "text/plain": [
       "PassengerId    0\n",
       "Survived       0\n",
       "Pclass         0\n",
       "Name           0\n",
       "Sex            0\n",
       "Age            0\n",
       "SibSp          0\n",
       "Parch          0\n",
       "Ticket         0\n",
       "Fare           0\n",
       "Embarked       0\n",
       "dtype: int64"
      ]
     },
     "execution_count": 50,
     "metadata": {},
     "output_type": "execute_result"
    }
   ],
   "source": [
    "df_titanic.isna().sum()"
   ]
  },
  {
   "cell_type": "markdown",
   "metadata": {},
   "source": [
    "## 6. Перевірити наявність дублікатів. При наявності видалити дублікати"
   ]
  },
  {
   "cell_type": "code",
   "execution_count": 51,
   "metadata": {},
   "outputs": [
    {
     "data": {
      "text/plain": [
       "0"
      ]
     },
     "execution_count": 51,
     "metadata": {},
     "output_type": "execute_result"
    }
   ],
   "source": [
    "df_titanic.duplicated().sum()"
   ]
  },
  {
   "cell_type": "markdown",
   "metadata": {},
   "source": [
    "Дублікатів немає"
   ]
  },
  {
   "cell_type": "markdown",
   "metadata": {},
   "source": [
    "## 7. Вивести описову статистику датасету describe()"
   ]
  },
  {
   "cell_type": "code",
   "execution_count": 52,
   "metadata": {},
   "outputs": [
    {
     "data": {
      "text/html": [
       "<div>\n",
       "<style scoped>\n",
       "    .dataframe tbody tr th:only-of-type {\n",
       "        vertical-align: middle;\n",
       "    }\n",
       "\n",
       "    .dataframe tbody tr th {\n",
       "        vertical-align: top;\n",
       "    }\n",
       "\n",
       "    .dataframe thead th {\n",
       "        text-align: right;\n",
       "    }\n",
       "</style>\n",
       "<table border=\"1\" class=\"dataframe\">\n",
       "  <thead>\n",
       "    <tr style=\"text-align: right;\">\n",
       "      <th></th>\n",
       "      <th>PassengerId</th>\n",
       "      <th>Survived</th>\n",
       "      <th>Pclass</th>\n",
       "      <th>Age</th>\n",
       "      <th>SibSp</th>\n",
       "      <th>Parch</th>\n",
       "      <th>Fare</th>\n",
       "    </tr>\n",
       "  </thead>\n",
       "  <tbody>\n",
       "    <tr>\n",
       "      <th>count</th>\n",
       "      <td>418.000000</td>\n",
       "      <td>418.000000</td>\n",
       "      <td>418.000000</td>\n",
       "      <td>418.000000</td>\n",
       "      <td>418.000000</td>\n",
       "      <td>418.000000</td>\n",
       "      <td>418.000000</td>\n",
       "    </tr>\n",
       "    <tr>\n",
       "      <th>mean</th>\n",
       "      <td>1100.500000</td>\n",
       "      <td>0.363636</td>\n",
       "      <td>2.265550</td>\n",
       "      <td>30.272590</td>\n",
       "      <td>0.447368</td>\n",
       "      <td>0.392344</td>\n",
       "      <td>35.627188</td>\n",
       "    </tr>\n",
       "    <tr>\n",
       "      <th>std</th>\n",
       "      <td>120.810458</td>\n",
       "      <td>0.481622</td>\n",
       "      <td>0.841838</td>\n",
       "      <td>12.634534</td>\n",
       "      <td>0.896760</td>\n",
       "      <td>0.981429</td>\n",
       "      <td>55.840500</td>\n",
       "    </tr>\n",
       "    <tr>\n",
       "      <th>min</th>\n",
       "      <td>892.000000</td>\n",
       "      <td>0.000000</td>\n",
       "      <td>1.000000</td>\n",
       "      <td>0.170000</td>\n",
       "      <td>0.000000</td>\n",
       "      <td>0.000000</td>\n",
       "      <td>0.000000</td>\n",
       "    </tr>\n",
       "    <tr>\n",
       "      <th>25%</th>\n",
       "      <td>996.250000</td>\n",
       "      <td>0.000000</td>\n",
       "      <td>1.000000</td>\n",
       "      <td>23.000000</td>\n",
       "      <td>0.000000</td>\n",
       "      <td>0.000000</td>\n",
       "      <td>7.895800</td>\n",
       "    </tr>\n",
       "    <tr>\n",
       "      <th>50%</th>\n",
       "      <td>1100.500000</td>\n",
       "      <td>0.000000</td>\n",
       "      <td>3.000000</td>\n",
       "      <td>30.272590</td>\n",
       "      <td>0.000000</td>\n",
       "      <td>0.000000</td>\n",
       "      <td>14.454200</td>\n",
       "    </tr>\n",
       "    <tr>\n",
       "      <th>75%</th>\n",
       "      <td>1204.750000</td>\n",
       "      <td>1.000000</td>\n",
       "      <td>3.000000</td>\n",
       "      <td>35.750000</td>\n",
       "      <td>1.000000</td>\n",
       "      <td>0.000000</td>\n",
       "      <td>31.500000</td>\n",
       "    </tr>\n",
       "    <tr>\n",
       "      <th>max</th>\n",
       "      <td>1309.000000</td>\n",
       "      <td>1.000000</td>\n",
       "      <td>3.000000</td>\n",
       "      <td>76.000000</td>\n",
       "      <td>8.000000</td>\n",
       "      <td>9.000000</td>\n",
       "      <td>512.329200</td>\n",
       "    </tr>\n",
       "  </tbody>\n",
       "</table>\n",
       "</div>"
      ],
      "text/plain": [
       "       PassengerId    Survived      Pclass         Age       SibSp  \\\n",
       "count   418.000000  418.000000  418.000000  418.000000  418.000000   \n",
       "mean   1100.500000    0.363636    2.265550   30.272590    0.447368   \n",
       "std     120.810458    0.481622    0.841838   12.634534    0.896760   \n",
       "min     892.000000    0.000000    1.000000    0.170000    0.000000   \n",
       "25%     996.250000    0.000000    1.000000   23.000000    0.000000   \n",
       "50%    1100.500000    0.000000    3.000000   30.272590    0.000000   \n",
       "75%    1204.750000    1.000000    3.000000   35.750000    1.000000   \n",
       "max    1309.000000    1.000000    3.000000   76.000000    8.000000   \n",
       "\n",
       "            Parch        Fare  \n",
       "count  418.000000  418.000000  \n",
       "mean     0.392344   35.627188  \n",
       "std      0.981429   55.840500  \n",
       "min      0.000000    0.000000  \n",
       "25%      0.000000    7.895800  \n",
       "50%      0.000000   14.454200  \n",
       "75%      0.000000   31.500000  \n",
       "max      9.000000  512.329200  "
      ]
     },
     "execution_count": 52,
     "metadata": {},
     "output_type": "execute_result"
    }
   ],
   "source": [
    "df_titanic.describe()"
   ]
  },
  {
   "cell_type": "markdown",
   "metadata": {},
   "source": [
    "## 8. Видалити стовпчик Cabin"
   ]
  },
  {
   "cell_type": "markdown",
   "metadata": {},
   "source": [
    "Даний стовпчик вже видалено"
   ]
  },
  {
   "cell_type": "markdown",
   "metadata": {},
   "source": [
    "## 9. Сформувати датасет з обраними стовпцями: ['Survived', 'Pclass', 'Sex', 'Age', 'Fare']"
   ]
  },
  {
   "cell_type": "code",
   "execution_count": 53,
   "metadata": {},
   "outputs": [],
   "source": [
    "cols_to_use = ['Survived', 'Pclass', 'Sex', 'Age', 'Fare']"
   ]
  },
  {
   "cell_type": "code",
   "execution_count": 54,
   "metadata": {},
   "outputs": [],
   "source": [
    "df_titanic_to_use = df_titanic[cols_to_use]"
   ]
  },
  {
   "cell_type": "code",
   "execution_count": 55,
   "metadata": {},
   "outputs": [
    {
     "data": {
      "text/html": [
       "<div>\n",
       "<style scoped>\n",
       "    .dataframe tbody tr th:only-of-type {\n",
       "        vertical-align: middle;\n",
       "    }\n",
       "\n",
       "    .dataframe tbody tr th {\n",
       "        vertical-align: top;\n",
       "    }\n",
       "\n",
       "    .dataframe thead th {\n",
       "        text-align: right;\n",
       "    }\n",
       "</style>\n",
       "<table border=\"1\" class=\"dataframe\">\n",
       "  <thead>\n",
       "    <tr style=\"text-align: right;\">\n",
       "      <th></th>\n",
       "      <th>Survived</th>\n",
       "      <th>Pclass</th>\n",
       "      <th>Sex</th>\n",
       "      <th>Age</th>\n",
       "      <th>Fare</th>\n",
       "    </tr>\n",
       "  </thead>\n",
       "  <tbody>\n",
       "    <tr>\n",
       "      <th>0</th>\n",
       "      <td>0</td>\n",
       "      <td>3</td>\n",
       "      <td>male</td>\n",
       "      <td>34.5</td>\n",
       "      <td>7.8292</td>\n",
       "    </tr>\n",
       "    <tr>\n",
       "      <th>1</th>\n",
       "      <td>1</td>\n",
       "      <td>3</td>\n",
       "      <td>female</td>\n",
       "      <td>47.0</td>\n",
       "      <td>7.0000</td>\n",
       "    </tr>\n",
       "    <tr>\n",
       "      <th>2</th>\n",
       "      <td>0</td>\n",
       "      <td>2</td>\n",
       "      <td>male</td>\n",
       "      <td>62.0</td>\n",
       "      <td>9.6875</td>\n",
       "    </tr>\n",
       "    <tr>\n",
       "      <th>3</th>\n",
       "      <td>0</td>\n",
       "      <td>3</td>\n",
       "      <td>male</td>\n",
       "      <td>27.0</td>\n",
       "      <td>8.6625</td>\n",
       "    </tr>\n",
       "    <tr>\n",
       "      <th>4</th>\n",
       "      <td>1</td>\n",
       "      <td>3</td>\n",
       "      <td>female</td>\n",
       "      <td>22.0</td>\n",
       "      <td>12.2875</td>\n",
       "    </tr>\n",
       "  </tbody>\n",
       "</table>\n",
       "</div>"
      ],
      "text/plain": [
       "   Survived  Pclass     Sex   Age     Fare\n",
       "0         0       3    male  34.5   7.8292\n",
       "1         1       3  female  47.0   7.0000\n",
       "2         0       2    male  62.0   9.6875\n",
       "3         0       3    male  27.0   8.6625\n",
       "4         1       3  female  22.0  12.2875"
      ]
     },
     "execution_count": 55,
     "metadata": {},
     "output_type": "execute_result"
    }
   ],
   "source": [
    "df_titanic_to_use.head()"
   ]
  },
  {
   "cell_type": "markdown",
   "metadata": {},
   "source": [
    "## 10. Замінити бінарні ознаки (Стать) на 0 і 1 (але перевірте унікальні значення даного стовпчика)"
   ]
  },
  {
   "cell_type": "code",
   "execution_count": 56,
   "metadata": {},
   "outputs": [
    {
     "data": {
      "text/plain": [
       "array(['male', 'female'], dtype=object)"
      ]
     },
     "execution_count": 56,
     "metadata": {},
     "output_type": "execute_result"
    }
   ],
   "source": [
    "df_titanic_to_use.Sex.unique()"
   ]
  },
  {
   "cell_type": "markdown",
   "metadata": {},
   "source": [
    "Заміню на такі значення:\n",
    " - male -> 0\n",
    " - female -> 1"
   ]
  },
  {
   "cell_type": "code",
   "execution_count": 57,
   "metadata": {},
   "outputs": [
    {
     "name": "stderr",
     "output_type": "stream",
     "text": [
      "C:\\Users\\LENOVO\\AppData\\Local\\Temp\\ipykernel_25628\\3099922925.py:1: SettingWithCopyWarning:\n",
      "\n",
      "\n",
      "A value is trying to be set on a copy of a slice from a DataFrame.\n",
      "Try using .loc[row_indexer,col_indexer] = value instead\n",
      "\n",
      "See the caveats in the documentation: https://pandas.pydata.org/pandas-docs/stable/user_guide/indexing.html#returning-a-view-versus-a-copy\n",
      "\n"
     ]
    }
   ],
   "source": [
    "df_titanic_to_use['Sex'] = df_titanic_to_use['Sex'].map({'male' : 0, 'female': 1})"
   ]
  },
  {
   "cell_type": "code",
   "execution_count": 58,
   "metadata": {},
   "outputs": [
    {
     "data": {
      "text/html": [
       "<div>\n",
       "<style scoped>\n",
       "    .dataframe tbody tr th:only-of-type {\n",
       "        vertical-align: middle;\n",
       "    }\n",
       "\n",
       "    .dataframe tbody tr th {\n",
       "        vertical-align: top;\n",
       "    }\n",
       "\n",
       "    .dataframe thead th {\n",
       "        text-align: right;\n",
       "    }\n",
       "</style>\n",
       "<table border=\"1\" class=\"dataframe\">\n",
       "  <thead>\n",
       "    <tr style=\"text-align: right;\">\n",
       "      <th></th>\n",
       "      <th>Survived</th>\n",
       "      <th>Pclass</th>\n",
       "      <th>Sex</th>\n",
       "      <th>Age</th>\n",
       "      <th>Fare</th>\n",
       "    </tr>\n",
       "  </thead>\n",
       "  <tbody>\n",
       "    <tr>\n",
       "      <th>0</th>\n",
       "      <td>0</td>\n",
       "      <td>3</td>\n",
       "      <td>0</td>\n",
       "      <td>34.5</td>\n",
       "      <td>7.8292</td>\n",
       "    </tr>\n",
       "    <tr>\n",
       "      <th>1</th>\n",
       "      <td>1</td>\n",
       "      <td>3</td>\n",
       "      <td>1</td>\n",
       "      <td>47.0</td>\n",
       "      <td>7.0000</td>\n",
       "    </tr>\n",
       "    <tr>\n",
       "      <th>2</th>\n",
       "      <td>0</td>\n",
       "      <td>2</td>\n",
       "      <td>0</td>\n",
       "      <td>62.0</td>\n",
       "      <td>9.6875</td>\n",
       "    </tr>\n",
       "    <tr>\n",
       "      <th>3</th>\n",
       "      <td>0</td>\n",
       "      <td>3</td>\n",
       "      <td>0</td>\n",
       "      <td>27.0</td>\n",
       "      <td>8.6625</td>\n",
       "    </tr>\n",
       "    <tr>\n",
       "      <th>4</th>\n",
       "      <td>1</td>\n",
       "      <td>3</td>\n",
       "      <td>1</td>\n",
       "      <td>22.0</td>\n",
       "      <td>12.2875</td>\n",
       "    </tr>\n",
       "  </tbody>\n",
       "</table>\n",
       "</div>"
      ],
      "text/plain": [
       "   Survived  Pclass  Sex   Age     Fare\n",
       "0         0       3    0  34.5   7.8292\n",
       "1         1       3    1  47.0   7.0000\n",
       "2         0       2    0  62.0   9.6875\n",
       "3         0       3    0  27.0   8.6625\n",
       "4         1       3    1  22.0  12.2875"
      ]
     },
     "execution_count": 58,
     "metadata": {},
     "output_type": "execute_result"
    }
   ],
   "source": [
    "df_titanic_to_use.head()"
   ]
  },
  {
   "cell_type": "markdown",
   "metadata": {},
   "source": [
    "## 11. Ще раз перевірити кількість пропущених даних (впевнитись, що їх немає)"
   ]
  },
  {
   "cell_type": "code",
   "execution_count": 59,
   "metadata": {},
   "outputs": [
    {
     "data": {
      "text/plain": [
       "Survived    0\n",
       "Pclass      0\n",
       "Sex         0\n",
       "Age         0\n",
       "Fare        0\n",
       "dtype: int64"
      ]
     },
     "execution_count": 59,
     "metadata": {},
     "output_type": "execute_result"
    }
   ],
   "source": [
    "df_titanic_to_use.isna().sum()"
   ]
  },
  {
   "cell_type": "markdown",
   "metadata": {},
   "source": [
    "## 12. Вивести 5 перших рядків датасету"
   ]
  },
  {
   "cell_type": "code",
   "execution_count": 60,
   "metadata": {},
   "outputs": [
    {
     "data": {
      "text/html": [
       "<div>\n",
       "<style scoped>\n",
       "    .dataframe tbody tr th:only-of-type {\n",
       "        vertical-align: middle;\n",
       "    }\n",
       "\n",
       "    .dataframe tbody tr th {\n",
       "        vertical-align: top;\n",
       "    }\n",
       "\n",
       "    .dataframe thead th {\n",
       "        text-align: right;\n",
       "    }\n",
       "</style>\n",
       "<table border=\"1\" class=\"dataframe\">\n",
       "  <thead>\n",
       "    <tr style=\"text-align: right;\">\n",
       "      <th></th>\n",
       "      <th>Survived</th>\n",
       "      <th>Pclass</th>\n",
       "      <th>Sex</th>\n",
       "      <th>Age</th>\n",
       "      <th>Fare</th>\n",
       "    </tr>\n",
       "  </thead>\n",
       "  <tbody>\n",
       "    <tr>\n",
       "      <th>0</th>\n",
       "      <td>0</td>\n",
       "      <td>3</td>\n",
       "      <td>0</td>\n",
       "      <td>34.5</td>\n",
       "      <td>7.8292</td>\n",
       "    </tr>\n",
       "    <tr>\n",
       "      <th>1</th>\n",
       "      <td>1</td>\n",
       "      <td>3</td>\n",
       "      <td>1</td>\n",
       "      <td>47.0</td>\n",
       "      <td>7.0000</td>\n",
       "    </tr>\n",
       "    <tr>\n",
       "      <th>2</th>\n",
       "      <td>0</td>\n",
       "      <td>2</td>\n",
       "      <td>0</td>\n",
       "      <td>62.0</td>\n",
       "      <td>9.6875</td>\n",
       "    </tr>\n",
       "    <tr>\n",
       "      <th>3</th>\n",
       "      <td>0</td>\n",
       "      <td>3</td>\n",
       "      <td>0</td>\n",
       "      <td>27.0</td>\n",
       "      <td>8.6625</td>\n",
       "    </tr>\n",
       "    <tr>\n",
       "      <th>4</th>\n",
       "      <td>1</td>\n",
       "      <td>3</td>\n",
       "      <td>1</td>\n",
       "      <td>22.0</td>\n",
       "      <td>12.2875</td>\n",
       "    </tr>\n",
       "  </tbody>\n",
       "</table>\n",
       "</div>"
      ],
      "text/plain": [
       "   Survived  Pclass  Sex   Age     Fare\n",
       "0         0       3    0  34.5   7.8292\n",
       "1         1       3    1  47.0   7.0000\n",
       "2         0       2    0  62.0   9.6875\n",
       "3         0       3    0  27.0   8.6625\n",
       "4         1       3    1  22.0  12.2875"
      ]
     },
     "execution_count": 60,
     "metadata": {},
     "output_type": "execute_result"
    }
   ],
   "source": [
    "df_titanic_to_use.head(5)"
   ]
  },
  {
   "cell_type": "markdown",
   "metadata": {},
   "source": [
    "## 13. Вивести 5 останніх рядків датасету"
   ]
  },
  {
   "cell_type": "code",
   "execution_count": 61,
   "metadata": {},
   "outputs": [
    {
     "data": {
      "text/html": [
       "<div>\n",
       "<style scoped>\n",
       "    .dataframe tbody tr th:only-of-type {\n",
       "        vertical-align: middle;\n",
       "    }\n",
       "\n",
       "    .dataframe tbody tr th {\n",
       "        vertical-align: top;\n",
       "    }\n",
       "\n",
       "    .dataframe thead th {\n",
       "        text-align: right;\n",
       "    }\n",
       "</style>\n",
       "<table border=\"1\" class=\"dataframe\">\n",
       "  <thead>\n",
       "    <tr style=\"text-align: right;\">\n",
       "      <th></th>\n",
       "      <th>Survived</th>\n",
       "      <th>Pclass</th>\n",
       "      <th>Sex</th>\n",
       "      <th>Age</th>\n",
       "      <th>Fare</th>\n",
       "    </tr>\n",
       "  </thead>\n",
       "  <tbody>\n",
       "    <tr>\n",
       "      <th>413</th>\n",
       "      <td>0</td>\n",
       "      <td>3</td>\n",
       "      <td>0</td>\n",
       "      <td>30.27259</td>\n",
       "      <td>8.0500</td>\n",
       "    </tr>\n",
       "    <tr>\n",
       "      <th>414</th>\n",
       "      <td>1</td>\n",
       "      <td>1</td>\n",
       "      <td>1</td>\n",
       "      <td>39.00000</td>\n",
       "      <td>108.9000</td>\n",
       "    </tr>\n",
       "    <tr>\n",
       "      <th>415</th>\n",
       "      <td>0</td>\n",
       "      <td>3</td>\n",
       "      <td>0</td>\n",
       "      <td>38.50000</td>\n",
       "      <td>7.2500</td>\n",
       "    </tr>\n",
       "    <tr>\n",
       "      <th>416</th>\n",
       "      <td>0</td>\n",
       "      <td>3</td>\n",
       "      <td>0</td>\n",
       "      <td>30.27259</td>\n",
       "      <td>8.0500</td>\n",
       "    </tr>\n",
       "    <tr>\n",
       "      <th>417</th>\n",
       "      <td>0</td>\n",
       "      <td>3</td>\n",
       "      <td>0</td>\n",
       "      <td>30.27259</td>\n",
       "      <td>22.3583</td>\n",
       "    </tr>\n",
       "  </tbody>\n",
       "</table>\n",
       "</div>"
      ],
      "text/plain": [
       "     Survived  Pclass  Sex       Age      Fare\n",
       "413         0       3    0  30.27259    8.0500\n",
       "414         1       1    1  39.00000  108.9000\n",
       "415         0       3    0  38.50000    7.2500\n",
       "416         0       3    0  30.27259    8.0500\n",
       "417         0       3    0  30.27259   22.3583"
      ]
     },
     "execution_count": 61,
     "metadata": {},
     "output_type": "execute_result"
    }
   ],
   "source": [
    "df_titanic_to_use.tail(5)"
   ]
  },
  {
   "cell_type": "markdown",
   "metadata": {},
   "source": [
    "## 14. Аналіз виживання залежно від статі: Обчисліть відсоток виживання для кожної статі. Чи була різниця у виживанні між чоловіками та жінками?"
   ]
  },
  {
   "cell_type": "code",
   "execution_count": 62,
   "metadata": {},
   "outputs": [
    {
     "name": "stdout",
     "output_type": "stream",
     "text": [
      "Відсоток виживання серед жінок: 36.36 %\n",
      "Відсоток виживання серед чоловіків: 0.0 %\n"
     ]
    }
   ],
   "source": [
    "survived_f      = df_titanic_to_use.query('Survived == 1 and Sex == 1')\n",
    "survived_f_perc = survived_f['Survived'].sum() / len(df_titanic_to_use['Survived']) * 100\n",
    "\n",
    "survived_m      = df_titanic_to_use.query('Survived == 1 and Sex == 0')\n",
    "survived_m_perc = survived_m['Survived'].sum() / len(df_titanic_to_use['Survived']) * 100\n",
    "\n",
    "print(f'Відсоток виживання серед жінок: {survived_f_perc.round(2)} %')\n",
    "print(f'Відсоток виживання серед чоловіків: {survived_m_perc} %')"
   ]
  },
  {
   "cell_type": "markdown",
   "metadata": {},
   "source": [
    "Серед жінок 36% вижило, серед чоловіків виживших немає."
   ]
  },
  {
   "cell_type": "markdown",
   "metadata": {},
   "source": [
    "## 15. Обчисліть відсоток виживання для кожного класу (Pclass). Який клас мав найвищий рівень виживання (дати відповідь)?"
   ]
  },
  {
   "cell_type": "code",
   "execution_count": 63,
   "metadata": {},
   "outputs": [
    {
     "data": {
      "text/plain": [
       "array([3, 2, 1], dtype=int64)"
      ]
     },
     "execution_count": 63,
     "metadata": {},
     "output_type": "execute_result"
    }
   ],
   "source": [
    "df_titanic_to_use.Pclass.unique()"
   ]
  },
  {
   "cell_type": "code",
   "execution_count": 64,
   "metadata": {},
   "outputs": [
    {
     "name": "stdout",
     "output_type": "stream",
     "text": [
      "Відсоток виживання серед класу 1: 11.96 %\n",
      "Відсоток виживання серед класу 2: 7.18 %\n",
      "Відсоток виживання серед класу 3: 17.22 %\n"
     ]
    }
   ],
   "source": [
    "survived_pclass_1      = df_titanic_to_use.query('Survived == 1 and Pclass == 1')\n",
    "survived_pclass_1_perc = survived_pclass_1['Survived'].sum() / len(df_titanic_to_use['Survived']) * 100\n",
    "\n",
    "survived_pclass_2      = df_titanic_to_use.query('Survived == 1 and Pclass == 2')\n",
    "survived_pclass_2_perc = survived_pclass_2['Survived'].sum() / len(df_titanic_to_use['Survived']) * 100\n",
    "\n",
    "survived_pclass_3      = df_titanic_to_use.query('Survived == 1 and Pclass == 3')\n",
    "survived_pclass_3_perc = survived_pclass_3['Survived'].sum() / len(df_titanic_to_use['Survived']) * 100\n",
    "\n",
    "\n",
    "print(f'Відсоток виживання серед класу 1: {survived_pclass_1_perc.round(2)} %')\n",
    "print(f'Відсоток виживання серед класу 2: {survived_pclass_2_perc.round(2)} %')\n",
    "print(f'Відсоток виживання серед класу 3: {survived_pclass_3_perc.round(2)} %')"
   ]
  },
  {
   "cell_type": "markdown",
   "metadata": {},
   "source": [
    "`Третій` клас мав найвищий рівень виживання"
   ]
  },
  {
   "cell_type": "markdown",
   "metadata": {},
   "source": [
    "## 16. Визначте середній вік тих, хто вижив, і тих, хто не вижив. Чи впливає вік на виживання (дати відповідь)?"
   ]
  },
  {
   "cell_type": "code",
   "execution_count": 65,
   "metadata": {},
   "outputs": [],
   "source": [
    "# Для зручності створюю окремі датасети із тими хто вижив та не вижив\n",
    "df_titanic_to_use_survived     = df_titanic_to_use[df_titanic_to_use['Survived'] == 1]\n",
    "df_titanic_to_use_not_survived = df_titanic_to_use[df_titanic_to_use['Survived'] == 0]"
   ]
  },
  {
   "cell_type": "code",
   "execution_count": 66,
   "metadata": {},
   "outputs": [
    {
     "name": "stdout",
     "output_type": "stream",
     "text": [
      "Середній вік людей, які вижили: 30.2724\n",
      "Середній вік людей, які не вижили: 30.2727\n"
     ]
    }
   ],
   "source": [
    "mean_age_survived = df_titanic_to_use_survived.Age.mean()\n",
    "mean_age_not_survived = df_titanic_to_use_not_survived.Age.mean()\n",
    "\n",
    "print(f'Середній вік людей, які вижили: {mean_age_survived.round(4)}')\n",
    "print(f'Середній вік людей, які не вижили: {mean_age_not_survived.round(4)}')"
   ]
  },
  {
   "cell_type": "markdown",
   "metadata": {},
   "source": [
    "Середній вік людей не відрізняється, тому вік не впливає на виживання людини"
   ]
  },
  {
   "cell_type": "markdown",
   "metadata": {},
   "source": [
    "## 17. Розподіліть пасажирів на групи за рівнями тарифів (Fare) і обчисліть рівень виживання для кожної групи. Як тариф впливав на шанси виживання (дати відповідь)?"
   ]
  },
  {
   "cell_type": "code",
   "execution_count": 67,
   "metadata": {},
   "outputs": [
    {
     "data": {
      "text/plain": [
       "count    418.000000\n",
       "mean      35.627188\n",
       "std       55.840500\n",
       "min        0.000000\n",
       "25%        7.895800\n",
       "50%       14.454200\n",
       "75%       31.500000\n",
       "max      512.329200\n",
       "Name: Fare, dtype: float64"
      ]
     },
     "execution_count": 67,
     "metadata": {},
     "output_type": "execute_result"
    }
   ],
   "source": [
    "df_titanic_to_use.Fare.describe()"
   ]
  },
  {
   "cell_type": "markdown",
   "metadata": {},
   "source": [
    "Розділю пасажирів залежно від тарифів на чотири групи за квартилями"
   ]
  },
  {
   "cell_type": "code",
   "execution_count": 68,
   "metadata": {},
   "outputs": [
    {
     "name": "stderr",
     "output_type": "stream",
     "text": [
      "C:\\Users\\LENOVO\\AppData\\Local\\Temp\\ipykernel_25628\\2078008878.py:1: SettingWithCopyWarning:\n",
      "\n",
      "\n",
      "A value is trying to be set on a copy of a slice from a DataFrame.\n",
      "Try using .loc[row_indexer,col_indexer] = value instead\n",
      "\n",
      "See the caveats in the documentation: https://pandas.pydata.org/pandas-docs/stable/user_guide/indexing.html#returning-a-view-versus-a-copy\n",
      "\n"
     ]
    }
   ],
   "source": [
    "df_titanic_to_use['Fare_group'] = pd.qcut(df_titanic_to_use['Fare'], \n",
    "                                          q = 4, \n",
    "                                          labels = ['Low', 'Medium-Low', 'Medium-High', 'High'])"
   ]
  },
  {
   "cell_type": "code",
   "execution_count": 69,
   "metadata": {},
   "outputs": [
    {
     "data": {
      "text/plain": [
       "Fare_group\n",
       "Low            114\n",
       "Medium-High    105\n",
       "High           103\n",
       "Medium-Low      96\n",
       "Name: count, dtype: int64"
      ]
     },
     "execution_count": 69,
     "metadata": {},
     "output_type": "execute_result"
    }
   ],
   "source": [
    "df_titanic_to_use.Fare_group.value_counts()"
   ]
  },
  {
   "cell_type": "code",
   "execution_count": 70,
   "metadata": {},
   "outputs": [
    {
     "name": "stdout",
     "output_type": "stream",
     "text": [
      "Відсоток виживання серед групи Low: 7.18 %\n",
      "Відсоток виживання серед групи Medium-Low: 6.22 %\n",
      "Відсоток виживання серед групи Medium-High: 9.81 %\n",
      "Відсоток виживання серед групи High: 13.16 %\n"
     ]
    }
   ],
   "source": [
    "survived_fare_low      = df_titanic_to_use.query('Fare_group == \"Low\" and Survived == 1')\n",
    "survived_fare_low_perc = survived_fare_low['Survived'].sum() / len(df_titanic_to_use['Survived']) * 100\n",
    "\n",
    "survived_fare_medium_low      = df_titanic_to_use.query('Fare_group == \"Medium-Low\" and Survived == 1')\n",
    "survived_fare_medium_low_perc = survived_fare_medium_low['Survived'].sum() / len(df_titanic_to_use['Survived']) * 100\n",
    "\n",
    "survived_fare_medium_high      = df_titanic_to_use.query('Fare_group == \"Medium-High\" and Survived == 1')\n",
    "survived_fare_medium_high_perc = survived_fare_medium_high['Survived'].sum() / len(df_titanic_to_use['Survived']) * 100\n",
    "\n",
    "survived_fare_high      = df_titanic_to_use.query('Fare_group == \"High\" and Survived == 1')\n",
    "survived_fare_high_perc = survived_fare_high['Survived'].sum() / len(df_titanic_to_use['Survived']) * 100\n",
    "\n",
    "print(f'Відсоток виживання серед групи Low: {survived_fare_low_perc.round(2)} %')\n",
    "print(f'Відсоток виживання серед групи Medium-Low: {survived_fare_medium_low_perc.round(2)} %')\n",
    "print(f'Відсоток виживання серед групи Medium-High: {survived_fare_medium_high_perc.round(2)} %')\n",
    "print(f'Відсоток виживання серед групи High: {survived_fare_high_perc.round(2)} %')"
   ]
  },
  {
   "cell_type": "markdown",
   "metadata": {},
   "source": [
    "Отже, можна зробити висновок, щоб чим дорожчий тариф, тим більше було шансів виживання."
   ]
  },
  {
   "cell_type": "markdown",
   "metadata": {},
   "source": [
    "## 18. Аналіз класу та тарифу: Визначте середній тариф (Fare) для кожного класу (Pclass). Чи існує значна різниця у тарифах між класами (дати відповідь)?"
   ]
  },
  {
   "cell_type": "code",
   "execution_count": 71,
   "metadata": {},
   "outputs": [
    {
     "data": {
      "text/plain": [
       "array([3, 2, 1], dtype=int64)"
      ]
     },
     "execution_count": 71,
     "metadata": {},
     "output_type": "execute_result"
    }
   ],
   "source": [
    "df_titanic_to_use.Pclass.unique()"
   ]
  },
  {
   "cell_type": "code",
   "execution_count": 72,
   "metadata": {},
   "outputs": [
    {
     "name": "stdout",
     "output_type": "stream",
     "text": [
      "Середнє значення тарифу для класу 1: 94.28\n",
      "Середнє значення тарифу для класу 2: 22.2\n",
      "Середнє значення тарифу для класу 3: 12.57\n"
     ]
    }
   ],
   "source": [
    "mean_fare_class_1 = df_titanic_to_use.query('Pclass == 1')['Fare'].mean()\n",
    "mean_fare_class_2 = df_titanic_to_use.query('Pclass == 2')['Fare'].mean()\n",
    "mean_fare_class_3 = df_titanic_to_use.query('Pclass == 3')['Fare'].mean()\n",
    "\n",
    "print(f'Середнє значення тарифу для класу 1: {mean_fare_class_1.round(2)}')\n",
    "print(f'Середнє значення тарифу для класу 2: {mean_fare_class_2.round(2)}')\n",
    "print(f'Середнє значення тарифу для класу 3: {mean_fare_class_3.round(2)}')"
   ]
  },
  {
   "cell_type": "markdown",
   "metadata": {},
   "source": [
    "Отже, чим нижчий клас, тим тариф дешевший."
   ]
  },
  {
   "cell_type": "markdown",
   "metadata": {},
   "source": [
    "## 19. Обчисліть середній вік пасажирів для кожного класу (Pclass). Як вік пасажирів розподіляється за класами (дати відповідь)?"
   ]
  },
  {
   "cell_type": "code",
   "execution_count": 73,
   "metadata": {},
   "outputs": [
    {
     "name": "stdout",
     "output_type": "stream",
     "text": [
      "Середнє значення віку для класу 1: 40.02\n",
      "Середнє значення віку для класу 2: 28.86\n",
      "Середнє значення віку для класу 3: 26.09\n"
     ]
    }
   ],
   "source": [
    "mean_age_class_1 = df_titanic_to_use.query('Pclass == 1')['Age'].mean()\n",
    "mean_age_class_2 = df_titanic_to_use.query('Pclass == 2')['Age'].mean()\n",
    "mean_age_class_3 = df_titanic_to_use.query('Pclass == 3')['Age'].mean()\n",
    "\n",
    "print(f'Середнє значення віку для класу 1: {mean_age_class_1.round(2)}')\n",
    "print(f'Середнє значення віку для класу 2: {mean_age_class_2.round(2)}')\n",
    "print(f'Середнє значення віку для класу 3: {mean_age_class_3.round(2)}')"
   ]
  },
  {
   "cell_type": "markdown",
   "metadata": {},
   "source": [
    "Отже, чим старша людина, тим вищий клас людина обрала. Це може буььи пов'язано із тим, що стараші люди зазвийчай більше заробляють, тому можуть дозволити собі придбати квитки вищого класу."
   ]
  },
  {
   "cell_type": "markdown",
   "metadata": {},
   "source": [
    "## 20. Побудуйте гістограму розподілу віку для тих, хто вижив, і тих, хто не вижив. Чи є видимі відмінності у вікових групах (дати відповідь)?"
   ]
  },
  {
   "cell_type": "code",
   "execution_count": 74,
   "metadata": {},
   "outputs": [
    {
     "data": {
      "application/vnd.plotly.v1+json": {
       "config": {
        "plotlyServerURL": "https://plot.ly"
       },
       "data": [
        {
         "alignmentgroup": "True",
         "bingroup": "x",
         "hovertemplate": "Age=%{x}<br>count=%{y}<extra></extra>",
         "legendgroup": "",
         "marker": {
          "color": "#636efa",
          "pattern": {
           "shape": ""
          }
         },
         "name": "",
         "offsetgroup": "",
         "orientation": "v",
         "showlegend": false,
         "type": "histogram",
         "x": [
          47,
          22,
          30,
          18,
          23,
          47,
          24,
          27,
          45,
          30.272590361445783,
          48,
          22,
          33,
          30.272590361445783,
          30.272590361445783,
          21,
          30,
          45,
          60,
          36,
          20,
          28,
          36,
          22,
          30.272590361445783,
          18,
          60,
          24,
          29,
          35,
          55,
          24,
          27,
          18,
          30.272590361445783,
          22,
          27,
          76,
          20,
          43,
          16,
          30.272590361445783,
          36,
          18.5,
          63,
          1,
          29,
          12,
          35,
          17,
          30.272590361445783,
          30.272590361445783,
          23,
          10,
          33,
          23,
          36,
          29,
          23,
          26,
          30.272590361445783,
          26,
          26,
          30.272590361445783,
          22,
          15,
          20,
          36,
          64,
          18,
          27,
          21,
          30.272590361445783,
          18,
          30.272590361445783,
          30.272590361445783,
          8,
          35,
          33,
          60,
          38,
          30.272590361445783,
          50,
          30,
          22,
          53,
          30.272590361445783,
          30.272590361445783,
          21,
          18,
          48,
          55,
          45,
          22,
          29,
          30.272590361445783,
          0.92,
          19,
          29,
          1,
          30.272590361445783,
          26,
          30.272590361445783,
          20,
          23,
          30.272590361445783,
          9,
          2,
          30,
          1,
          30.272590361445783,
          64,
          45,
          37,
          55,
          17,
          39,
          12,
          48,
          19,
          58,
          16,
          38,
          31,
          45,
          0.17,
          59,
          30,
          24,
          31,
          25,
          30.272590361445783,
          22,
          45,
          31,
          54,
          45,
          22,
          30.272590361445783,
          19,
          24,
          51,
          18,
          48,
          30,
          22,
          30.272590361445783,
          3,
          30.272590361445783,
          37,
          28,
          39
         ],
         "xaxis": "x",
         "yaxis": "y"
        },
        {
         "alignmentgroup": "True",
         "hovertemplate": "Age=%{x}<extra></extra>",
         "legendgroup": "",
         "marker": {
          "color": "#636efa"
         },
         "name": "",
         "notched": true,
         "offsetgroup": "",
         "showlegend": false,
         "type": "box",
         "x": [
          47,
          22,
          30,
          18,
          23,
          47,
          24,
          27,
          45,
          30.272590361445783,
          48,
          22,
          33,
          30.272590361445783,
          30.272590361445783,
          21,
          30,
          45,
          60,
          36,
          20,
          28,
          36,
          22,
          30.272590361445783,
          18,
          60,
          24,
          29,
          35,
          55,
          24,
          27,
          18,
          30.272590361445783,
          22,
          27,
          76,
          20,
          43,
          16,
          30.272590361445783,
          36,
          18.5,
          63,
          1,
          29,
          12,
          35,
          17,
          30.272590361445783,
          30.272590361445783,
          23,
          10,
          33,
          23,
          36,
          29,
          23,
          26,
          30.272590361445783,
          26,
          26,
          30.272590361445783,
          22,
          15,
          20,
          36,
          64,
          18,
          27,
          21,
          30.272590361445783,
          18,
          30.272590361445783,
          30.272590361445783,
          8,
          35,
          33,
          60,
          38,
          30.272590361445783,
          50,
          30,
          22,
          53,
          30.272590361445783,
          30.272590361445783,
          21,
          18,
          48,
          55,
          45,
          22,
          29,
          30.272590361445783,
          0.92,
          19,
          29,
          1,
          30.272590361445783,
          26,
          30.272590361445783,
          20,
          23,
          30.272590361445783,
          9,
          2,
          30,
          1,
          30.272590361445783,
          64,
          45,
          37,
          55,
          17,
          39,
          12,
          48,
          19,
          58,
          16,
          38,
          31,
          45,
          0.17,
          59,
          30,
          24,
          31,
          25,
          30.272590361445783,
          22,
          45,
          31,
          54,
          45,
          22,
          30.272590361445783,
          19,
          24,
          51,
          18,
          48,
          30,
          22,
          30.272590361445783,
          3,
          30.272590361445783,
          37,
          28,
          39
         ],
         "xaxis": "x2",
         "yaxis": "y2"
        }
       ],
       "layout": {
        "bargap": 0.1,
        "barmode": "relative",
        "legend": {
         "tracegroupgap": 0
        },
        "template": {
         "data": {
          "bar": [
           {
            "error_x": {
             "color": "#2a3f5f"
            },
            "error_y": {
             "color": "#2a3f5f"
            },
            "marker": {
             "line": {
              "color": "#E5ECF6",
              "width": 0.5
             },
             "pattern": {
              "fillmode": "overlay",
              "size": 10,
              "solidity": 0.2
             }
            },
            "type": "bar"
           }
          ],
          "barpolar": [
           {
            "marker": {
             "line": {
              "color": "#E5ECF6",
              "width": 0.5
             },
             "pattern": {
              "fillmode": "overlay",
              "size": 10,
              "solidity": 0.2
             }
            },
            "type": "barpolar"
           }
          ],
          "carpet": [
           {
            "aaxis": {
             "endlinecolor": "#2a3f5f",
             "gridcolor": "white",
             "linecolor": "white",
             "minorgridcolor": "white",
             "startlinecolor": "#2a3f5f"
            },
            "baxis": {
             "endlinecolor": "#2a3f5f",
             "gridcolor": "white",
             "linecolor": "white",
             "minorgridcolor": "white",
             "startlinecolor": "#2a3f5f"
            },
            "type": "carpet"
           }
          ],
          "choropleth": [
           {
            "colorbar": {
             "outlinewidth": 0,
             "ticks": ""
            },
            "type": "choropleth"
           }
          ],
          "contour": [
           {
            "colorbar": {
             "outlinewidth": 0,
             "ticks": ""
            },
            "colorscale": [
             [
              0,
              "#0d0887"
             ],
             [
              0.1111111111111111,
              "#46039f"
             ],
             [
              0.2222222222222222,
              "#7201a8"
             ],
             [
              0.3333333333333333,
              "#9c179e"
             ],
             [
              0.4444444444444444,
              "#bd3786"
             ],
             [
              0.5555555555555556,
              "#d8576b"
             ],
             [
              0.6666666666666666,
              "#ed7953"
             ],
             [
              0.7777777777777778,
              "#fb9f3a"
             ],
             [
              0.8888888888888888,
              "#fdca26"
             ],
             [
              1,
              "#f0f921"
             ]
            ],
            "type": "contour"
           }
          ],
          "contourcarpet": [
           {
            "colorbar": {
             "outlinewidth": 0,
             "ticks": ""
            },
            "type": "contourcarpet"
           }
          ],
          "heatmap": [
           {
            "colorbar": {
             "outlinewidth": 0,
             "ticks": ""
            },
            "colorscale": [
             [
              0,
              "#0d0887"
             ],
             [
              0.1111111111111111,
              "#46039f"
             ],
             [
              0.2222222222222222,
              "#7201a8"
             ],
             [
              0.3333333333333333,
              "#9c179e"
             ],
             [
              0.4444444444444444,
              "#bd3786"
             ],
             [
              0.5555555555555556,
              "#d8576b"
             ],
             [
              0.6666666666666666,
              "#ed7953"
             ],
             [
              0.7777777777777778,
              "#fb9f3a"
             ],
             [
              0.8888888888888888,
              "#fdca26"
             ],
             [
              1,
              "#f0f921"
             ]
            ],
            "type": "heatmap"
           }
          ],
          "heatmapgl": [
           {
            "colorbar": {
             "outlinewidth": 0,
             "ticks": ""
            },
            "colorscale": [
             [
              0,
              "#0d0887"
             ],
             [
              0.1111111111111111,
              "#46039f"
             ],
             [
              0.2222222222222222,
              "#7201a8"
             ],
             [
              0.3333333333333333,
              "#9c179e"
             ],
             [
              0.4444444444444444,
              "#bd3786"
             ],
             [
              0.5555555555555556,
              "#d8576b"
             ],
             [
              0.6666666666666666,
              "#ed7953"
             ],
             [
              0.7777777777777778,
              "#fb9f3a"
             ],
             [
              0.8888888888888888,
              "#fdca26"
             ],
             [
              1,
              "#f0f921"
             ]
            ],
            "type": "heatmapgl"
           }
          ],
          "histogram": [
           {
            "marker": {
             "pattern": {
              "fillmode": "overlay",
              "size": 10,
              "solidity": 0.2
             }
            },
            "type": "histogram"
           }
          ],
          "histogram2d": [
           {
            "colorbar": {
             "outlinewidth": 0,
             "ticks": ""
            },
            "colorscale": [
             [
              0,
              "#0d0887"
             ],
             [
              0.1111111111111111,
              "#46039f"
             ],
             [
              0.2222222222222222,
              "#7201a8"
             ],
             [
              0.3333333333333333,
              "#9c179e"
             ],
             [
              0.4444444444444444,
              "#bd3786"
             ],
             [
              0.5555555555555556,
              "#d8576b"
             ],
             [
              0.6666666666666666,
              "#ed7953"
             ],
             [
              0.7777777777777778,
              "#fb9f3a"
             ],
             [
              0.8888888888888888,
              "#fdca26"
             ],
             [
              1,
              "#f0f921"
             ]
            ],
            "type": "histogram2d"
           }
          ],
          "histogram2dcontour": [
           {
            "colorbar": {
             "outlinewidth": 0,
             "ticks": ""
            },
            "colorscale": [
             [
              0,
              "#0d0887"
             ],
             [
              0.1111111111111111,
              "#46039f"
             ],
             [
              0.2222222222222222,
              "#7201a8"
             ],
             [
              0.3333333333333333,
              "#9c179e"
             ],
             [
              0.4444444444444444,
              "#bd3786"
             ],
             [
              0.5555555555555556,
              "#d8576b"
             ],
             [
              0.6666666666666666,
              "#ed7953"
             ],
             [
              0.7777777777777778,
              "#fb9f3a"
             ],
             [
              0.8888888888888888,
              "#fdca26"
             ],
             [
              1,
              "#f0f921"
             ]
            ],
            "type": "histogram2dcontour"
           }
          ],
          "mesh3d": [
           {
            "colorbar": {
             "outlinewidth": 0,
             "ticks": ""
            },
            "type": "mesh3d"
           }
          ],
          "parcoords": [
           {
            "line": {
             "colorbar": {
              "outlinewidth": 0,
              "ticks": ""
             }
            },
            "type": "parcoords"
           }
          ],
          "pie": [
           {
            "automargin": true,
            "type": "pie"
           }
          ],
          "scatter": [
           {
            "fillpattern": {
             "fillmode": "overlay",
             "size": 10,
             "solidity": 0.2
            },
            "type": "scatter"
           }
          ],
          "scatter3d": [
           {
            "line": {
             "colorbar": {
              "outlinewidth": 0,
              "ticks": ""
             }
            },
            "marker": {
             "colorbar": {
              "outlinewidth": 0,
              "ticks": ""
             }
            },
            "type": "scatter3d"
           }
          ],
          "scattercarpet": [
           {
            "marker": {
             "colorbar": {
              "outlinewidth": 0,
              "ticks": ""
             }
            },
            "type": "scattercarpet"
           }
          ],
          "scattergeo": [
           {
            "marker": {
             "colorbar": {
              "outlinewidth": 0,
              "ticks": ""
             }
            },
            "type": "scattergeo"
           }
          ],
          "scattergl": [
           {
            "marker": {
             "colorbar": {
              "outlinewidth": 0,
              "ticks": ""
             }
            },
            "type": "scattergl"
           }
          ],
          "scattermapbox": [
           {
            "marker": {
             "colorbar": {
              "outlinewidth": 0,
              "ticks": ""
             }
            },
            "type": "scattermapbox"
           }
          ],
          "scatterpolar": [
           {
            "marker": {
             "colorbar": {
              "outlinewidth": 0,
              "ticks": ""
             }
            },
            "type": "scatterpolar"
           }
          ],
          "scatterpolargl": [
           {
            "marker": {
             "colorbar": {
              "outlinewidth": 0,
              "ticks": ""
             }
            },
            "type": "scatterpolargl"
           }
          ],
          "scatterternary": [
           {
            "marker": {
             "colorbar": {
              "outlinewidth": 0,
              "ticks": ""
             }
            },
            "type": "scatterternary"
           }
          ],
          "surface": [
           {
            "colorbar": {
             "outlinewidth": 0,
             "ticks": ""
            },
            "colorscale": [
             [
              0,
              "#0d0887"
             ],
             [
              0.1111111111111111,
              "#46039f"
             ],
             [
              0.2222222222222222,
              "#7201a8"
             ],
             [
              0.3333333333333333,
              "#9c179e"
             ],
             [
              0.4444444444444444,
              "#bd3786"
             ],
             [
              0.5555555555555556,
              "#d8576b"
             ],
             [
              0.6666666666666666,
              "#ed7953"
             ],
             [
              0.7777777777777778,
              "#fb9f3a"
             ],
             [
              0.8888888888888888,
              "#fdca26"
             ],
             [
              1,
              "#f0f921"
             ]
            ],
            "type": "surface"
           }
          ],
          "table": [
           {
            "cells": {
             "fill": {
              "color": "#EBF0F8"
             },
             "line": {
              "color": "white"
             }
            },
            "header": {
             "fill": {
              "color": "#C8D4E3"
             },
             "line": {
              "color": "white"
             }
            },
            "type": "table"
           }
          ]
         },
         "layout": {
          "annotationdefaults": {
           "arrowcolor": "#2a3f5f",
           "arrowhead": 0,
           "arrowwidth": 1
          },
          "autotypenumbers": "strict",
          "coloraxis": {
           "colorbar": {
            "outlinewidth": 0,
            "ticks": ""
           }
          },
          "colorscale": {
           "diverging": [
            [
             0,
             "#8e0152"
            ],
            [
             0.1,
             "#c51b7d"
            ],
            [
             0.2,
             "#de77ae"
            ],
            [
             0.3,
             "#f1b6da"
            ],
            [
             0.4,
             "#fde0ef"
            ],
            [
             0.5,
             "#f7f7f7"
            ],
            [
             0.6,
             "#e6f5d0"
            ],
            [
             0.7,
             "#b8e186"
            ],
            [
             0.8,
             "#7fbc41"
            ],
            [
             0.9,
             "#4d9221"
            ],
            [
             1,
             "#276419"
            ]
           ],
           "sequential": [
            [
             0,
             "#0d0887"
            ],
            [
             0.1111111111111111,
             "#46039f"
            ],
            [
             0.2222222222222222,
             "#7201a8"
            ],
            [
             0.3333333333333333,
             "#9c179e"
            ],
            [
             0.4444444444444444,
             "#bd3786"
            ],
            [
             0.5555555555555556,
             "#d8576b"
            ],
            [
             0.6666666666666666,
             "#ed7953"
            ],
            [
             0.7777777777777778,
             "#fb9f3a"
            ],
            [
             0.8888888888888888,
             "#fdca26"
            ],
            [
             1,
             "#f0f921"
            ]
           ],
           "sequentialminus": [
            [
             0,
             "#0d0887"
            ],
            [
             0.1111111111111111,
             "#46039f"
            ],
            [
             0.2222222222222222,
             "#7201a8"
            ],
            [
             0.3333333333333333,
             "#9c179e"
            ],
            [
             0.4444444444444444,
             "#bd3786"
            ],
            [
             0.5555555555555556,
             "#d8576b"
            ],
            [
             0.6666666666666666,
             "#ed7953"
            ],
            [
             0.7777777777777778,
             "#fb9f3a"
            ],
            [
             0.8888888888888888,
             "#fdca26"
            ],
            [
             1,
             "#f0f921"
            ]
           ]
          },
          "colorway": [
           "#636efa",
           "#EF553B",
           "#00cc96",
           "#ab63fa",
           "#FFA15A",
           "#19d3f3",
           "#FF6692",
           "#B6E880",
           "#FF97FF",
           "#FECB52"
          ],
          "font": {
           "color": "#2a3f5f"
          },
          "geo": {
           "bgcolor": "white",
           "lakecolor": "white",
           "landcolor": "#E5ECF6",
           "showlakes": true,
           "showland": true,
           "subunitcolor": "white"
          },
          "hoverlabel": {
           "align": "left"
          },
          "hovermode": "closest",
          "mapbox": {
           "style": "light"
          },
          "paper_bgcolor": "white",
          "plot_bgcolor": "#E5ECF6",
          "polar": {
           "angularaxis": {
            "gridcolor": "white",
            "linecolor": "white",
            "ticks": ""
           },
           "bgcolor": "#E5ECF6",
           "radialaxis": {
            "gridcolor": "white",
            "linecolor": "white",
            "ticks": ""
           }
          },
          "scene": {
           "xaxis": {
            "backgroundcolor": "#E5ECF6",
            "gridcolor": "white",
            "gridwidth": 2,
            "linecolor": "white",
            "showbackground": true,
            "ticks": "",
            "zerolinecolor": "white"
           },
           "yaxis": {
            "backgroundcolor": "#E5ECF6",
            "gridcolor": "white",
            "gridwidth": 2,
            "linecolor": "white",
            "showbackground": true,
            "ticks": "",
            "zerolinecolor": "white"
           },
           "zaxis": {
            "backgroundcolor": "#E5ECF6",
            "gridcolor": "white",
            "gridwidth": 2,
            "linecolor": "white",
            "showbackground": true,
            "ticks": "",
            "zerolinecolor": "white"
           }
          },
          "shapedefaults": {
           "line": {
            "color": "#2a3f5f"
           }
          },
          "ternary": {
           "aaxis": {
            "gridcolor": "white",
            "linecolor": "white",
            "ticks": ""
           },
           "baxis": {
            "gridcolor": "white",
            "linecolor": "white",
            "ticks": ""
           },
           "bgcolor": "#E5ECF6",
           "caxis": {
            "gridcolor": "white",
            "linecolor": "white",
            "ticks": ""
           }
          },
          "title": {
           "x": 0.05
          },
          "xaxis": {
           "automargin": true,
           "gridcolor": "white",
           "linecolor": "white",
           "ticks": "",
           "title": {
            "standoff": 15
           },
           "zerolinecolor": "white",
           "zerolinewidth": 2
          },
          "yaxis": {
           "automargin": true,
           "gridcolor": "white",
           "linecolor": "white",
           "ticks": "",
           "title": {
            "standoff": 15
           },
           "zerolinecolor": "white",
           "zerolinewidth": 2
          }
         }
        },
        "title": {
         "text": "Гістограма розподілу віку для тих, хто вижив"
        },
        "xaxis": {
         "anchor": "y",
         "domain": [
          0,
          1
         ],
         "title": {
          "text": "Age"
         }
        },
        "xaxis2": {
         "anchor": "y2",
         "domain": [
          0,
          1
         ],
         "matches": "x",
         "showgrid": true,
         "showticklabels": false
        },
        "yaxis": {
         "anchor": "x",
         "domain": [
          0,
          0.8316
         ],
         "title": {
          "text": "count"
         }
        },
        "yaxis2": {
         "anchor": "x2",
         "domain": [
          0.8416,
          1
         ],
         "matches": "y2",
         "showgrid": false,
         "showline": false,
         "showticklabels": false,
         "ticks": ""
        }
       }
      }
     },
     "metadata": {},
     "output_type": "display_data"
    }
   ],
   "source": [
    "fig = px.histogram(df_titanic_to_use[df_titanic_to_use['Survived'] == 1],\n",
    "                   x = 'Age',\n",
    "                   marginal = 'box',\n",
    "                   title = 'Гістограма розподілу віку для тих, хто вижив')\n",
    "\n",
    "fig.update_layout(bargap=0.1)\n",
    "\n",
    "fig.show()"
   ]
  },
  {
   "cell_type": "markdown",
   "metadata": {},
   "source": [
    "Найбільше людей, які вижили мали вік 30-34 роки, а найменше - 40-44 та 75-79"
   ]
  },
  {
   "cell_type": "markdown",
   "metadata": {},
   "source": [
    "## 21. Обчисліть відсоток виживання для кожної комбінації статі та класу (наприклад, жінки в 1-му класі, чоловіки в 3-му класі). Яка група мала найвищий рівень виживання (дати відповідь)?"
   ]
  },
  {
   "cell_type": "code",
   "execution_count": 75,
   "metadata": {},
   "outputs": [
    {
     "name": "stdout",
     "output_type": "stream",
     "text": [
      "Відсоток виживання серед жінок класу 1: 11.96 %\n",
      "Відсоток виживання серед жінок класу 2: 7.18 %\n",
      "Відсоток виживання серед жінок класу 3: 17.22 %\n",
      "Відсоток виживання серед чоловіків класу 1: 0.0 %\n",
      "Відсоток виживання серед чоловіків класу 2: 0.0 %\n",
      "Відсоток виживання серед чоловіків класу 3: 0.0 %\n"
     ]
    }
   ],
   "source": [
    "survived = df_titanic_to_use[df_titanic_to_use['Survived'] == 1]\n",
    "\n",
    "female_class_1      = survived.query('Sex == 1 and Pclass == 1')\n",
    "female_class_1_perc = female_class_1['Survived'].sum() / len(df_titanic_to_use['Survived']) * 100\n",
    "\n",
    "female_class_2      = survived.query('Sex == 1 and Pclass == 2')\n",
    "female_class_2_perc = female_class_2['Survived'].sum() / len(df_titanic_to_use['Survived']) * 100\n",
    "\n",
    "female_class_3      = survived.query('Sex == 1 and Pclass == 3')\n",
    "female_class_3_perc = female_class_3['Survived'].sum() / len(df_titanic_to_use['Survived']) * 100\n",
    "\n",
    "male_class_1      = survived.query('Sex == 0 and Pclass == 1')\n",
    "male_class_1_perc = male_class_1['Survived'].sum() / len(df_titanic_to_use['Survived']) * 100\n",
    "\n",
    "male_class_2      = survived.query('Sex == 0 and Pclass == 2')\n",
    "male_class_2_perc = male_class_2['Survived'].sum() / len(df_titanic_to_use['Survived']) * 100\n",
    "\n",
    "male_class_3      = survived.query('Sex == 0 and Pclass == 3')\n",
    "male_class_3_perc = male_class_3['Survived'].sum() / len(df_titanic_to_use['Survived']) * 100\n",
    "\n",
    "\n",
    "print(f'Відсоток виживання серед жінок класу 1: {female_class_1_perc.round(2)} %')\n",
    "print(f'Відсоток виживання серед жінок класу 2: {female_class_2_perc.round(2)} %')\n",
    "print(f'Відсоток виживання серед жінок класу 3: {female_class_3_perc.round(2)} %')\n",
    "\n",
    "print(f'Відсоток виживання серед чоловіків класу 1: {male_class_1_perc.round(2)} %')\n",
    "print(f'Відсоток виживання серед чоловіків класу 2: {male_class_2_perc.round(2)} %')\n",
    "print(f'Відсоток виживання серед чоловіків класу 3: {male_class_3_perc.round(2)} %')"
   ]
  },
  {
   "cell_type": "markdown",
   "metadata": {},
   "source": [
    "Серед жінок найбільше виживших у найнижчому (3) класі.\n",
    "Серед чоловіків виживших немає взагалі."
   ]
  },
  {
   "cell_type": "markdown",
   "metadata": {},
   "source": [
    "## 22. Обчисліть кореляцію між усіма числовими змінними (Survived, Pclass, Age, Fare). Які змінні найбільш сильно корелюють з виживанням (дати відповідь)?"
   ]
  },
  {
   "cell_type": "code",
   "execution_count": 76,
   "metadata": {},
   "outputs": [],
   "source": [
    "cols_for_corr = ['Survived', 'Pclass', 'Sex', 'Age', 'Fare']"
   ]
  },
  {
   "cell_type": "code",
   "execution_count": 77,
   "metadata": {},
   "outputs": [
    {
     "data": {
      "image/png": "[encoded data removed]",
      "text/plain": [
       "<Figure size 1000x500 with 2 Axes>"
      ]
     },
     "metadata": {},
     "output_type": "display_data"
    }
   ],
   "source": [
    "corr_data_titanic = df_titanic_to_use[cols_for_corr].corr()\n",
    "\n",
    "plt.figure(figsize = (10, 5))\n",
    "sns.heatmap(data = corr_data_titanic, annot = True, cmap = \"RdYlGn\", cbar = True, fmt='.4f')\n",
    "plt.show()"
   ]
  },
  {
   "cell_type": "code",
   "execution_count": 78,
   "metadata": {},
   "outputs": [
    {
     "name": "stdout",
     "output_type": "stream",
     "text": [
      "Пара з найвищою кореляцією:\n",
      "Fare      Age         0.326800\n",
      "Age       Fare        0.326800\n",
      "Sex       Fare        0.191382\n",
      "Fare      Sex         0.191382\n",
      "          Survived    0.191382\n",
      "Survived  Fare        0.191382\n",
      "Age       Sex        -0.000011\n",
      "          Survived   -0.000011\n",
      "Sex       Age        -0.000011\n",
      "Survived  Age        -0.000011\n",
      "          Pclass     -0.108615\n",
      "Pclass    Survived   -0.108615\n",
      "Sex       Pclass     -0.108615\n",
      "Pclass    Sex        -0.108615\n",
      "Age       Pclass     -0.440782\n",
      "Pclass    Age        -0.440782\n",
      "          Fare       -0.576619\n",
      "Fare      Pclass     -0.576619\n",
      "dtype: float64\n"
     ]
    }
   ],
   "source": [
    "highest_correlation = corr_data_titanic.unstack().sort_values(ascending = False)\n",
    "highest_correlation = highest_correlation[highest_correlation < 1].head(20)\n",
    "\n",
    "print(f\"Пара з найвищою кореляцією:\\n{highest_correlation}\")"
   ]
  },
  {
   "cell_type": "markdown",
   "metadata": {},
   "source": [
    "Із стовпцем `Survived` найбільше корелюють `Pclass` та `Fare`"
   ]
  },
  {
   "cell_type": "markdown",
   "metadata": {},
   "source": [
    "## Висновки до завдання 2"
   ]
  },
  {
   "cell_type": "markdown",
   "metadata": {},
   "source": [
    "Я зробила аналіз датасету Titanic, у якому були дані щодо виживших людей на Титаніку. Можна зазначити, що:\n",
    " - Серед чоловіків виживших не було. \n",
    " - Третій (найнижчий) клас мав найвищий відсоток виживших.\n",
    " - Найбільше жінок вижили тих, хто мав квитки третього класу."
   ]
  },
  {
   "cell_type": "code",
   "execution_count": null,
   "metadata": {},
   "outputs": [],
   "source": []
  }
 ],
 "metadata": {
  "kernelspec": {
   "display_name": "Python 3",
   "language": "python",
   "name": "python3"
  },
  "language_info": {
   "codemirror_mode": {
    "name": "ipython",
    "version": 3
   },
   "file_extension": ".py",
   "mimetype": "text/x-python",
   "name": "python",
   "nbconvert_exporter": "python",
   "pygments_lexer": "ipython3",
   "version": "3.11.5"
  }
 },
 "nbformat": 4,
 "nbformat_minor": 2
}
